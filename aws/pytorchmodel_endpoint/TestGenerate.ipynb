{
 "cells": [
  {
   "cell_type": "code",
   "execution_count": 2,
   "id": "appointed-clerk",
   "metadata": {},
   "outputs": [
    {
     "name": "stdout",
     "output_type": "stream",
     "text": [
      "LayerLinearRegression(\n",
      "  (linear): Linear(in_features=1, out_features=1, bias=True)\n",
      ")\n",
      "3\n",
      "tensor([6.9304])\n"
     ]
    }
   ],
   "source": [
    "from generate import * \n",
    "import json \n",
    "JSON_CONTENT_TYPE = 'application/json'\n",
    "\n",
    "model = model_fn('export') # sagemaker will extract model.tar.gz at the current directory. This is only for testing purposes\n",
    "input = {'xvalue':3}\n",
    "# parse x:\n",
    "input_json = json.dumps(input)\n",
    "input_data = input_fn(input_json, content_type=JSON_CONTENT_TYPE)\n",
    "result = predict_fn(input_data,model)\n",
    "print(result)"
   ]
  },
  {
   "cell_type": "code",
   "execution_count": null,
   "id": "other-boring",
   "metadata": {},
   "outputs": [],
   "source": []
  }
 ],
 "metadata": {
  "kernelspec": {
   "display_name": "conda_pytorch_latest_p36",
   "language": "python",
   "name": "conda_pytorch_latest_p36"
  },
  "language_info": {
   "codemirror_mode": {
    "name": "ipython",
    "version": 3
   },
   "file_extension": ".py",
   "mimetype": "text/x-python",
   "name": "python",
   "nbconvert_exporter": "python",
   "pygments_lexer": "ipython3",
   "version": "3.6.10"
  }
 },
 "nbformat": 4,
 "nbformat_minor": 5
}
