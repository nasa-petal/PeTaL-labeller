{
 "cells": [
  {
   "cell_type": "markdown",
   "metadata": {},
   "source": [
    "# Data Analysis of the PeTaL Labeled Dataset"
   ]
  },
  {
   "cell_type": "markdown",
   "metadata": {},
   "source": [
    "# Author(s)\r\n",
    "- Author1 = {\"name\": \"David Smith\", \"affiliation\": \"NASA GRC\", \"email\": \"dacasm@umich.edu\"}"
   ]
  },
  {
   "cell_type": "markdown",
   "metadata": {},
   "source": [
    "# Purpose\r\n",
    "The purpose of this notebook is to explore our labeled dataset and reveal any information which will help us improve the dataset and potentially increase the accuracy of our NLP labelers."
   ]
  },
  {
   "cell_type": "markdown",
   "metadata": {},
   "source": [
    "# Results"
   ]
  },
  {
   "cell_type": "markdown",
   "metadata": {},
   "source": [
    "## 06-29-2021\r\n",
    "25% of our unique labels account for 66.31% of the total amount of labels used. Additionally 13.43% of our unique labels are used less than 10 times. Some of the best practices dictated from organizations such as Google are:\r\n",
    "- A dataset should have at least 10 examples of a label to ensure the model is able to learn it.\r\n",
    "- Labels should have a similar number of examples to prevent the model from overfitting."
   ]
  },
  {
   "cell_type": "markdown",
   "metadata": {},
   "source": [
    "### Suggested Next Steps\r\n",
    "It may help our model short-term to remove underused labels and to trim overused labels. The better solution is to balance out our dataset by increasing the amount of examples representing the underused labels and to simply have more data."
   ]
  },
  {
   "cell_type": "markdown",
   "metadata": {},
   "source": [
    "# Setup"
   ]
  },
  {
   "cell_type": "markdown",
   "metadata": {},
   "source": [
    "## Library Import"
   ]
  },
  {
   "cell_type": "code",
   "execution_count": 22,
   "metadata": {},
   "outputs": [],
   "source": [
    "import numpy as np\r\n",
    "import pandas as pd\r\n",
    "import matplotlib.pyplot as plt\r\n",
    "import os\r\n",
    "import re"
   ]
  },
  {
   "cell_type": "markdown",
   "metadata": {},
   "source": [
    "# Data Processing and Analysis"
   ]
  },
  {
   "cell_type": "markdown",
   "metadata": {},
   "source": [
    "## Reformat Data"
   ]
  },
  {
   "cell_type": "markdown",
   "metadata": {},
   "source": [
    "Convert data in to Pandas dataframes."
   ]
  },
  {
   "cell_type": "code",
   "execution_count": 23,
   "metadata": {},
   "outputs": [],
   "source": [
    "labeled_data = pd.read_csv('./labeled_data.csv')\n",
    "taxonomy_data = pd.read_csv('./taxonomy.csv')\n",
    "labeled_data.fillna('[]', inplace = True)"
   ]
  },
  {
   "cell_type": "markdown",
   "metadata": {},
   "source": [
    "Pull all unique labels into a flat list."
   ]
  },
  {
   "cell_type": "code",
   "execution_count": 24,
   "metadata": {},
   "outputs": [],
   "source": [
    "taxonomy_labels = []\n",
    "\n",
    "for column in taxonomy_data.columns:\n",
    "    taxonomy_labels += list(taxonomy_data[column].dropna().values)"
   ]
  },
  {
   "cell_type": "markdown",
   "metadata": {},
   "source": [
    "Create object which will contain additionally mined data."
   ]
  },
  {
   "cell_type": "code",
   "execution_count": 25,
   "metadata": {},
   "outputs": [],
   "source": [
    "analysis_object = {}\r\n",
    "label_info = {\r\n",
    "    \"Absolute Label Frequency\": {},\r\n",
    "    \"Relative Label Frequency\": {}\r\n",
    "}"
   ]
  },
  {
   "cell_type": "markdown",
   "metadata": {},
   "source": [
    "Mine data to find:\r\n",
    "- Absolute Label Frequency\r\n",
    "- Relative Label Frequency\r\n",
    "- Total Number of Labels\r\n",
    "- Number of Words in Each Label"
   ]
  },
  {
   "cell_type": "code",
   "execution_count": 26,
   "metadata": {},
   "outputs": [],
   "source": [
    "# Iterate through each row within our csv\r\n",
    "\r\n",
    "for index, row in labeled_data.iterrows():\r\n",
    "\r\n",
    "    # Look through each label and increment label counter if found\r\n",
    "    for i in range(1,4):\r\n",
    "        for label in eval(row[\"label_level_{}\".format(i)]):\r\n",
    "            if (label in taxonomy_labels):\r\n",
    "                label_count = label_info[\"Absolute Label Frequency\"].get(label, 0)\r\n",
    "                label_info[\"Absolute Label Frequency\"][label] = label_count + 1\r\n",
    "\r\n",
    "# Compute Total Number of Labels and Relative Label Frequency\r\n",
    "label_info[\"Total Number of Labels\"] = sum(label_info[\"Absolute Label Frequency\"].values())\r\n",
    "\r\n",
    "for label in label_info[\"Absolute Label Frequency\"].keys():\r\n",
    "    label_info[\"Relative Label Frequency\"][label] = round((label_info[\"Absolute Label Frequency\"][label] / label_info[\"Total Number of Labels\"]), 4) * 100\r\n"
   ]
  },
  {
   "cell_type": "markdown",
   "metadata": {},
   "source": [
    "Convert object into dataframe"
   ]
  },
  {
   "cell_type": "code",
   "execution_count": 27,
   "metadata": {},
   "outputs": [],
   "source": [
    "# Drop Total Number of Labels as it is an aggregate value.\r\n",
    "label_dataframe = pd.DataFrame(label_info).drop(\"Total Number of Labels\", axis = 1)\r\n",
    "\r\n",
    "# Count and store the amount of words in each label\r\n",
    "label_dataframe[\"Label Length\"] = label_dataframe.index.map(lambda label: len(re.split(\"\\W\", label)))"
   ]
  },
  {
   "cell_type": "markdown",
   "metadata": {},
   "source": [
    "## Visualization and Metrics"
   ]
  },
  {
   "cell_type": "markdown",
   "metadata": {},
   "source": [
    "Frequency of Absolute Label Counts depicts the number of times a unique label is used versus (e.x. A frequency of 40 and a range of 0-25 means that 40 unique labels were used between 0 and 25 times)."
   ]
  },
  {
   "cell_type": "code",
   "execution_count": 64,
   "metadata": {},
   "outputs": [
    {
     "data": {
      "image/png": "[encoded data removed]",
      "text/plain": [
       "<Figure size 432x288 with 1 Axes>"
      ]
     },
     "metadata": {},
     "output_type": "display_data"
    }
   ],
   "source": [
    "# Plot a histogram depicting the counts of frequencies of labels used.\r\n",
    "fig = label_dataframe[\"Absolute Label Frequency\"].plot.hist(bins = 22, alpha=0.85, title = \"Frequency of Absolute Label Counts\")\r\n",
    "plt.xlabel(\"Label Counts\")\r\n",
    "\r\n",
    "# Save Figure\r\n",
    "fig.figure.patch.set_facecolor('#FFF')\r\n",
    "plt.savefig(\"././data-figures/freq_of_abs_label_counts.png\", edgecolor=\"black\")\r\n",
    "\r\n",
    "plt.show()"
   ]
  },
  {
   "cell_type": "code",
   "execution_count": 29,
   "metadata": {},
   "outputs": [
    {
     "name": "stdout",
     "output_type": "stream",
     "text": [
      "Total Number of Labels: 5117\n",
      "\n",
      "Count of unique labels used more than 50 times: 30\n",
      "Percentage of the total frequency of labels: 66.31%\n",
      "\n",
      "Count of unique labels used less than or equal to 50 times: 89\n",
      "Percentage of the total frequency of labels: 33.69%\n",
      "\n",
      "Count of unique labels used less than 10 times: 26\n",
      "Percentage of the total number of unique labels: 13.43%\n"
     ]
    }
   ],
   "source": [
    "# Compare the number of unique labels and their total relative percentage between the upper and lower data in terms of usage.\r\n",
    "upper_half_label_dataframe = label_dataframe[\"Absolute Label Frequency\"][label_dataframe[\"Absolute Label Frequency\"] > 50]\r\n",
    "lower_half_label_dataframe = label_dataframe[\"Absolute Label Frequency\"][label_dataframe[\"Absolute Label Frequency\"] <= 50]\r\n",
    "low_rep_label_dataframe = label_dataframe[\"Absolute Label Frequency\"][label_dataframe[\"Absolute Label Frequency\"] < 10]\r\n",
    "\r\n",
    "print(\"Total Number of Labels: {}\".format(label_info[\"Total Number of Labels\"]))\r\n",
    "\r\n",
    "print(\"\\nCount of unique labels used more than 50 times: {}\".format(upper_half_label_dataframe.shape[0]))\r\n",
    "print(\"Percentage of the total frequency of labels: {:0.2%}\".format(upper_half_label_dataframe.sum() / label_info['Total Number of Labels']))\r\n",
    "\r\n",
    "print(\"\\nCount of unique labels used less than or equal to 50 times: {}\".format(lower_half_label_dataframe.shape[0]))\r\n",
    "print(\"Percentage of the total frequency of labels: {:0.2%}\".format(lower_half_label_dataframe.sum() / label_info['Total Number of Labels']))\r\n",
    "\r\n",
    "print(\"\\nCount of unique labels used less than 10 times: {}\".format(low_rep_label_dataframe.shape[0]))\r\n",
    "print(\"Percentage of the total number of unique labels: {:0.2%}\".format(low_rep_label_dataframe.nunique() / label_dataframe[\"Absolute Label Frequency\"].nunique()))"
   ]
  },
  {
   "cell_type": "markdown",
   "metadata": {},
   "source": [
    "## Save Data"
   ]
  },
  {
   "cell_type": "code",
   "execution_count": 30,
   "metadata": {},
   "outputs": [],
   "source": [
    "label_dataframe.to_csv(\"./label_metrics.csv\")"
   ]
  },
  {
   "cell_type": "markdown",
   "metadata": {},
   "source": [
    "# References\r\n",
    "- https://cloud.google.com/natural-language/automl/docs/beginners-guide#include-enough-labeled-examples-in-each-category\r\n",
    "    - Google document dictating the best practices in NLP."
   ]
  }
 ],
 "metadata": {
  "interpreter": {
   "hash": "e432f7edd195fc9b738354aa5ede55a680ce58f2aecd13da3c41273251e676ec"
  },
  "kernelspec": {
   "display_name": "Python 3.9.4 64-bit ('base': conda)",
   "name": "python3"
  },
  "language_info": {
   "codemirror_mode": {
    "name": "ipython",
    "version": 3
   },
   "file_extension": ".py",
   "mimetype": "text/x-python",
   "name": "python",
   "nbconvert_exporter": "python",
   "pygments_lexer": "ipython3",
   "version": "3.9.4"
  },
  "orig_nbformat": 4
 },
 "nbformat": 4,
 "nbformat_minor": 2
}