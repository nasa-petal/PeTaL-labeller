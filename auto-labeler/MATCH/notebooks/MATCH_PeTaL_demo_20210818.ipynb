{
  "nbformat": 4,
  "nbformat_minor": 0,
  "metadata": {
    "colab": {
      "name": "MATCH_PeTaL_demo_20210818.ipynb",
      "provenance": [],
      "collapsed_sections": []
    },
    "kernelspec": {
      "name": "python3",
      "display_name": "Python 3"
    },
    "language_info": {
      "name": "python"
    },
    "accelerator": "GPU"
  },
  "cells": [
    {
      "cell_type": "markdown",
      "metadata": {
        "id": "edGgFndKC0Y-"
      },
      "source": [
        "# Running MATCH on PeTaL\n",
        "\n",
        "Wednesday, 18 August 2021.\n",
        "\n",
        "In this notebook I demonstrate my apparatus for how to run MATCH with PeTaL.\n",
        "\n",
        "If you are reproducing these results you will want to change your runtime hardware accelerator to a GPU if you haven't already.\n"
      ]
    },
    {
      "cell_type": "markdown",
      "metadata": {
        "id": "qyKK34NHC5tq"
      },
      "source": [
        "# Setup\n",
        "\n",
        "To set up, we will want to clone the PeTaL labeller repository and install requirements."
      ]
    },
    {
      "cell_type": "code",
      "metadata": {
        "id": "3JRwNXxR37Jh"
      },
      "source": [
        "!git clone https://github.com/nasa-petal/PeTaL-labeller.git"
      ],
      "execution_count": null,
      "outputs": []
    },
    {
      "cell_type": "code",
      "metadata": {
        "id": "rhqClmT_4KCG"
      },
      "source": [
        "%cd PeTaL-labeller/auto-labeler/MATCH/"
      ],
      "execution_count": null,
      "outputs": []
    },
    {
      "cell_type": "markdown",
      "metadata": {
        "id": "sOhXC7xPaOVI"
      },
      "source": [
        "Checking out the match-with-petal branch, but soon we'll merge this into main."
      ]
    },
    {
      "cell_type": "code",
      "metadata": {
        "id": "xSfa3wy95xJq"
      },
      "source": [
        "!git checkout match-with-petal"
      ],
      "execution_count": null,
      "outputs": []
    },
    {
      "cell_type": "code",
      "metadata": {
        "id": "8Zg-RfrtnxXn"
      },
      "source": [
        "# !git pull origin match-with-petal"
      ],
      "execution_count": 17,
      "outputs": []
    },
    {
      "cell_type": "markdown",
      "metadata": {
        "id": "oOW4vJeEadFi"
      },
      "source": [
        "If you're running on another machine, you should set up an environment.\n",
        "Currently I do\n",
        "```\n",
        "conda create --name match-env python=3.6.8\n",
        "conda activate match-env\n",
        "```\n",
        "NOTE: I understand there are problems with using both conda and pip together as package managers.\n",
        "NOTE: This part may also take a while. (2 minutes on Colab)\n",
        "NOTE: No need to restart the runtime at the end like Colab suggests you do."
      ]
    },
    {
      "cell_type": "code",
      "metadata": {
        "id": "fBhPdnts4OnH"
      },
      "source": [
        "!pip install -r requirements.txt"
      ],
      "execution_count": null,
      "outputs": []
    },
    {
      "cell_type": "markdown",
      "metadata": {
        "id": "iqok3W97ZLkP"
      },
      "source": [
        "We run `setup.py` to download the PeTaL dataset. Right now this includes:\n",
        "\n",
        "- golden.json - the latest version of golden.json on David's branch, which adheres to the golden dataset schema\n",
        "- filtered.json - the result of running the following script, which filters out all papers except for the biomimicry papers which have labels.\n",
        "```\n",
        "python3 filter.py -i MATCH/PeTaL/golden.json -o MATCH/PeTaL/filtered.json\n",
        "```\n",
        "- taxonomy.txt - the taxonomy file\n",
        "- PeTaL.joint.emb - the file of embeddings, which you can obtain by running *embedding pre-training* using MATCH/joint/run.sh"
      ]
    },
    {
      "cell_type": "code",
      "metadata": {
        "id": "JhbUlsut5pT1"
      },
      "source": [
        "!python3 setup.py"
      ],
      "execution_count": null,
      "outputs": []
    },
    {
      "cell_type": "markdown",
      "metadata": {
        "id": "m7qpNR-ubWuX"
      },
      "source": [
        "Now the `PeTaL/` directory is in `src/MATCH/PeTaL`. Let's move to the `src` directory."
      ]
    },
    {
      "cell_type": "code",
      "metadata": {
        "id": "7h-I_O0t6Bai"
      },
      "source": [
        "%cd src\n",
        "!ls"
      ],
      "execution_count": null,
      "outputs": []
    },
    {
      "cell_type": "markdown",
      "metadata": {
        "id": "BRBd0isrbpst"
      },
      "source": [
        "# Run through the entire training/testing/evaluation pipeline."
      ]
    },
    {
      "cell_type": "markdown",
      "metadata": {
        "id": "3w5zybCWcaG1"
      },
      "source": [
        "`run_MATCH_with_PeTaL_data.py` --cnf config.yaml --verbose runs `Split.py`, `augment.py`, `transform_golden.py`, `preprocess.py`, `train.py`, and `eval.py`. These can also be run separately (see the comments at the top of each of these files for instructions to run them separately).\n",
        "\n",
        "You'll be asked for a wandb API key. You can either continue onward without it or use your own (it should prompt you to click a link to get the API key)"
      ]
    },
    {
      "cell_type": "code",
      "metadata": {
        "id": "ThCaHPmq6C9X"
      },
      "source": [
        "!python3 run_MATCH_with_PeTaL_data.py --cnf config.yaml --verbose"
      ],
      "execution_count": null,
      "outputs": []
    },
    {
      "cell_type": "markdown",
      "metadata": {
        "id": "MuA7KRZolo4w"
      },
      "source": [
        "Produce precision-recall plots to assess MATCH's performance as we vary threshold."
      ]
    },
    {
      "cell_type": "code",
      "metadata": {
        "id": "cVEzPab7lt6X"
      },
      "source": [
        "!python3 ../analysis/precision_and_recall.py -m MATCH -p ../plots --verbose"
      ],
      "execution_count": null,
      "outputs": []
    },
    {
      "cell_type": "markdown",
      "metadata": {
        "id": "yqLJ4_DAli_1"
      },
      "source": [
        "Produce a multilabel confusion matrix to assess MATCH's predictions."
      ]
    },
    {
      "cell_type": "code",
      "metadata": {
        "id": "X-hXT7EAdfJr"
      },
      "source": [
        "!python3 ../analysis/multilabel_confusion_matrix.py -m MATCH/ -p ../plots/ --verbose"
      ],
      "execution_count": null,
      "outputs": []
    },
    {
      "cell_type": "markdown",
      "metadata": {
        "id": "kvXXoQrCmjQU"
      },
      "source": [
        "# Cross-validation and analysis"
      ]
    },
    {
      "cell_type": "markdown",
      "metadata": {
        "id": "nSaErvgdn44F"
      },
      "source": [
        "Performs cross-validation to generate multiple trials on different folds of the dataset, and saves them to a log file `../experiment_data/xval_test/20210818_new_test.txt`."
      ]
    },
    {
      "cell_type": "code",
      "metadata": {
        "id": "5b9CwHBCmkzt"
      },
      "source": [
        "!python3 xval_test.py --cnf config.yaml -k 10 --study NEW_TEST --verbose | tee -a ../experiment_data/xval_test/20210818_new_test.txt"
      ],
      "execution_count": null,
      "outputs": []
    },
    {
      "cell_type": "markdown",
      "metadata": {
        "id": "4G9hVH_zn-xF"
      },
      "source": [
        "Performs statistics on that log file."
      ]
    },
    {
      "cell_type": "code",
      "metadata": {
        "id": "Ww5xiYkhnFRm"
      },
      "source": [
        "!python3 ../analysis/analyse_MATCH_output.py -f ../experiment_data/xval_test/20210818_new_test.txt"
      ],
      "execution_count": null,
      "outputs": []
    },
    {
      "cell_type": "markdown",
      "metadata": {
        "id": "BM-TwwNkmSGd"
      },
      "source": [
        "# Inference"
      ]
    },
    {
      "cell_type": "code",
      "metadata": {
        "id": "DS_pbKZFmPlG"
      },
      "source": [
        "!./run_inference.sh MATCH/PeTaL/filtered.json"
      ],
      "execution_count": null,
      "outputs": []
    }
  ]
}