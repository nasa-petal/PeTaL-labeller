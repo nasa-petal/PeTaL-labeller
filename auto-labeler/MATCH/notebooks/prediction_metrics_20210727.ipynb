{
  "nbformat": 4,
  "nbformat_minor": 0,
  "metadata": {
    "colab": {
      "name": "prediction_metrics.ipynb",
      "provenance": [],
      "collapsed_sections": [
        "9HuVtkicL7gZ",
        "K49wezIO2E9B"
      ]
    },
    "kernelspec": {
      "display_name": "Python 3",
      "name": "python3"
    },
    "language_info": {
      "name": "python"
    }
  },
  "cells": [
    {
      "cell_type": "markdown",
      "metadata": {
        "id": "iGxUj75rRhk-"
      },
      "source": [
        "# Prediction Metrics\n",
        "\n",
        "For PeTaL Labeller Issue #42 (https://github.com/nasa-petal/PeTaL-labeller/issues/42), a start to analyzing precision, recall, &c., of MATCH."
      ]
    },
    {
      "cell_type": "code",
      "metadata": {
        "colab": {
          "base_uri": "https://localhost:8080/"
        },
        "id": "YI6KyAYav1fQ",
        "outputId": "86187997-2149-4d33-f190-d62c256b0123"
      },
      "source": [
        "!pip3 install --upgrade scikit-learn"
      ],
      "execution_count": null,
      "outputs": [
        {
          "output_type": "stream",
          "text": [
            "Requirement already satisfied: scikit-learn in /usr/local/lib/python3.7/dist-packages (0.22.2.post1)\n",
            "Collecting scikit-learn\n",
            "  Downloading scikit_learn-0.24.2-cp37-cp37m-manylinux2010_x86_64.whl (22.3 MB)\n",
            "\u001b[K     |████████████████████████████████| 22.3 MB 1.7 MB/s \n",
            "\u001b[?25hCollecting threadpoolctl>=2.0.0\n",
            "  Downloading threadpoolctl-2.2.0-py3-none-any.whl (12 kB)\n",
            "Requirement already satisfied: joblib>=0.11 in /usr/local/lib/python3.7/dist-packages (from scikit-learn) (1.0.1)\n",
            "Requirement already satisfied: scipy>=0.19.1 in /usr/local/lib/python3.7/dist-packages (from scikit-learn) (1.4.1)\n",
            "Requirement already satisfied: numpy>=1.13.3 in /usr/local/lib/python3.7/dist-packages (from scikit-learn) (1.19.5)\n",
            "Installing collected packages: threadpoolctl, scikit-learn\n",
            "  Attempting uninstall: scikit-learn\n",
            "    Found existing installation: scikit-learn 0.22.2.post1\n",
            "    Uninstalling scikit-learn-0.22.2.post1:\n",
            "      Successfully uninstalled scikit-learn-0.22.2.post1\n",
            "Successfully installed scikit-learn-0.24.2 threadpoolctl-2.2.0\n"
          ],
          "name": "stdout"
        }
      ]
    },
    {
      "cell_type": "code",
      "metadata": {
        "id": "cAC3EnDDfDbR"
      },
      "source": [
        "import os\n",
        "from datetime import datetime\n",
        "\n",
        "import numpy as np\n",
        "import pandas as pd\n",
        "from matplotlib import pyplot as plt\n",
        "from matplotlib import rc\n",
        "from sklearn.preprocessing import MultiLabelBinarizer\n",
        "from sklearn.metrics import multilabel_confusion_matrix\n",
        "\n",
        "from collections import namedtuple\n",
        "from tqdm import tqdm"
      ],
      "execution_count": null,
      "outputs": []
    },
    {
      "cell_type": "code",
      "metadata": {
        "colab": {
          "base_uri": "https://localhost:8080/"
        },
        "id": "V53UteQXfN2M",
        "outputId": "6d7cc161-43dd-497d-b3c7-438d538955e9"
      },
      "source": [
        "# If running on Google Colab: Mount drive and cd to workspace.\n",
        "from google.colab import drive\n",
        "drive.mount('/content/drive')\n",
        "\n",
        "# IMPORTANT: Replace DRIVE_PATH with the path you plan to clone MATCH into.\n",
        "# If you are in the PeTaL Drive and your PeTAL link is under MyDrive/\n",
        "# then the following DRIVE_PATH should work fine?\n",
        "# DRIVE_PATH = '/content/drive/MyDrive/PeTaL/PeTaL Data/MATCH on PeTaL Data/'\n",
        "DRIVE_PATH = '/content/drive/Shareddrives/NASA'\n",
        "%cd $DRIVE_PATH"
      ],
      "execution_count": null,
      "outputs": [
        {
          "output_type": "stream",
          "text": [
            "Mounted at /content/drive\n",
            "/content/drive/Shareddrives/NASA\n"
          ],
          "name": "stdout"
        }
      ]
    },
    {
      "cell_type": "code",
      "metadata": {
        "colab": {
          "base_uri": "https://localhost:8080/"
        },
        "id": "-SqNX02RfX6N",
        "outputId": "a02dd818-f683-405b-8152-ac5dc7ea3922"
      },
      "source": [
        "if not os.path.exists('MATCH/'):\n",
        "    !git clone https://github.com/yuzhimanhua/MATCH.git\n",
        "else:\n",
        "    print(\"You have already cloned the MATCH repository.\")"
      ],
      "execution_count": null,
      "outputs": [
        {
          "output_type": "stream",
          "text": [
            "You have already cloned the MATCH repository.\n"
          ],
          "name": "stdout"
        }
      ]
    },
    {
      "cell_type": "code",
      "metadata": {
        "colab": {
          "base_uri": "https://localhost:8080/"
        },
        "id": "jrqUEfIifbrY",
        "outputId": "2eaa70e5-7be1-463a-d08e-9420f1fd77e7"
      },
      "source": [
        "%cd ./MATCH\n",
        "!ls"
      ],
      "execution_count": null,
      "outputs": [
        {
          "output_type": "stream",
          "text": [
            "/content/drive/Shareddrives/NASA/MATCH\n",
            "are_parent_labels_overrepresented.png\n",
            "configure\n",
            "deepxml\n",
            "evaluation_PeTaL.py\n",
            "evaluation.py\n",
            "joint\n",
            "LICENSE\n",
            "MAG\n",
            "main.py\n",
            "PeTaL\n",
            "PeTaL-only-leaves\n",
            "PeTaL-only-leaves-emb-pretrain\n",
            "prc_MATCH_PeTaL.png\n",
            "predictions.txt\n",
            "preprocess.py\n",
            "preprocess.sh\n",
            "__pycache__\n",
            "README.md\n",
            "requirements.txt\n",
            "run_models.sh\n",
            "transform_data_PeTaL_only_mags_and_meshes.py\n",
            "transform_data_PeTaL.py\n",
            "transform_data_PeTaL_random_mags_and_meshes.py\n",
            "transform_data.py\n",
            "wandb\n"
          ],
          "name": "stdout"
        }
      ]
    },
    {
      "cell_type": "code",
      "metadata": {
        "colab": {
          "base_uri": "https://localhost:8080/",
          "height": 1000
        },
        "id": "_2St9PrBGyW_",
        "outputId": "d497c854-ba8c-42c7-9376-9cfc5c7e3d00"
      },
      "source": [
        "# Install requirements in requirements.txt\n",
        "# !chmod 755 -R .\n",
        "!pip3 install -r requirements.txt"
      ],
      "execution_count": null,
      "outputs": [
        {
          "output_type": "stream",
          "text": [
            "Collecting torch==1.2.0\n",
            "  Downloading torch-1.2.0-cp37-cp37m-manylinux1_x86_64.whl (748.9 MB)\n",
            "\u001b[K     |████████████████████████████████| 748.9 MB 659 bytes/s \n",
            "\u001b[?25hCollecting torchvision==0.4.0\n",
            "  Downloading torchvision-0.4.0-cp37-cp37m-manylinux1_x86_64.whl (8.8 MB)\n",
            "\u001b[K     |████████████████████████████████| 8.8 MB 15.9 MB/s \n",
            "\u001b[?25hCollecting torchgpipe==0.0.5\n",
            "  Downloading torchgpipe-0.0.5.tar.gz (30 kB)\n",
            "Collecting click==7.0\n",
            "  Downloading Click-7.0-py2.py3-none-any.whl (81 kB)\n",
            "\u001b[K     |████████████████████████████████| 81 kB 8.5 MB/s \n",
            "\u001b[?25hCollecting ruamel.yaml==0.16.5\n",
            "  Downloading ruamel.yaml-0.16.5-py2.py3-none-any.whl (123 kB)\n",
            "\u001b[K     |████████████████████████████████| 123 kB 58.3 MB/s \n",
            "\u001b[?25hCollecting numpy==1.16.2\n",
            "  Downloading numpy-1.16.2-cp37-cp37m-manylinux1_x86_64.whl (17.3 MB)\n",
            "\u001b[K     |████████████████████████████████| 17.3 MB 65 kB/s \n",
            "\u001b[?25hCollecting scipy==1.2.1\n",
            "  Downloading scipy-1.2.1-cp37-cp37m-manylinux1_x86_64.whl (24.8 MB)\n",
            "\u001b[K     |████████████████████████████████| 24.8 MB 1.4 MB/s \n",
            "\u001b[?25hCollecting scikit-learn==0.20.3\n",
            "  Downloading scikit_learn-0.20.3-cp37-cp37m-manylinux1_x86_64.whl (5.4 MB)\n",
            "\u001b[K     |████████████████████████████████| 5.4 MB 16.5 MB/s \n",
            "\u001b[?25hCollecting gensim==3.7.2\n",
            "  Downloading gensim-3.7.2-cp37-cp37m-manylinux1_x86_64.whl (24.2 MB)\n",
            "\u001b[K     |████████████████████████████████| 24.2 MB 43.3 MB/s \n",
            "\u001b[?25hCollecting tqdm==4.31.1\n",
            "  Downloading tqdm-4.31.1-py2.py3-none-any.whl (48 kB)\n",
            "\u001b[K     |████████████████████████████████| 48 kB 4.3 MB/s \n",
            "\u001b[?25hCollecting joblib==0.13.2\n",
            "  Downloading joblib-0.13.2-py2.py3-none-any.whl (278 kB)\n",
            "\u001b[K     |████████████████████████████████| 278 kB 59.4 MB/s \n",
            "\u001b[?25hCollecting logzero==1.5.0\n",
            "  Downloading logzero-1.5.0-py2.py3-none-any.whl (14 kB)\n",
            "Requirement already satisfied: six in /usr/local/lib/python3.7/dist-packages (from torchvision==0.4.0->-r requirements.txt (line 2)) (1.15.0)\n",
            "Requirement already satisfied: pillow>=4.1.1 in /usr/local/lib/python3.7/dist-packages (from torchvision==0.4.0->-r requirements.txt (line 2)) (7.1.2)\n",
            "Collecting ruamel.yaml.clib>=0.1.2\n",
            "  Downloading ruamel.yaml.clib-0.2.6-cp37-cp37m-manylinux1_x86_64.whl (546 kB)\n",
            "\u001b[K     |████████████████████████████████| 546 kB 55.0 MB/s \n",
            "\u001b[?25hRequirement already satisfied: smart-open>=1.7.0 in /usr/local/lib/python3.7/dist-packages (from gensim==3.7.2->-r requirements.txt (line 9)) (5.1.0)\n",
            "Building wheels for collected packages: torchgpipe\n",
            "  Building wheel for torchgpipe (setup.py) ... \u001b[?25l\u001b[?25hdone\n",
            "  Created wheel for torchgpipe: filename=torchgpipe-0.0.5-py3-none-any.whl size=37364 sha256=3fef5cc9d320fa6b644ba0eb7359e945b1884d606fa2cd8167820ddb9c79195a\n",
            "  Stored in directory: /root/.cache/pip/wheels/ff/95/c5/9e215f3ec2abb978d176b31c0b37e44994918256714a57655d\n",
            "Successfully built torchgpipe\n",
            "Installing collected packages: numpy, torch, scipy, ruamel.yaml.clib, tqdm, torchvision, torchgpipe, scikit-learn, ruamel.yaml, logzero, joblib, gensim, click\n",
            "  Attempting uninstall: numpy\n",
            "    Found existing installation: numpy 1.19.5\n",
            "    Uninstalling numpy-1.19.5:\n",
            "      Successfully uninstalled numpy-1.19.5\n",
            "  Attempting uninstall: torch\n",
            "    Found existing installation: torch 1.9.0+cu102\n",
            "    Uninstalling torch-1.9.0+cu102:\n",
            "      Successfully uninstalled torch-1.9.0+cu102\n",
            "  Attempting uninstall: scipy\n",
            "    Found existing installation: scipy 1.4.1\n",
            "    Uninstalling scipy-1.4.1:\n",
            "      Successfully uninstalled scipy-1.4.1\n",
            "  Attempting uninstall: tqdm\n",
            "    Found existing installation: tqdm 4.41.1\n",
            "    Uninstalling tqdm-4.41.1:\n",
            "      Successfully uninstalled tqdm-4.41.1\n",
            "  Attempting uninstall: torchvision\n",
            "    Found existing installation: torchvision 0.10.0+cu102\n",
            "    Uninstalling torchvision-0.10.0+cu102:\n",
            "      Successfully uninstalled torchvision-0.10.0+cu102\n",
            "  Attempting uninstall: scikit-learn\n",
            "    Found existing installation: scikit-learn 0.24.2\n",
            "    Uninstalling scikit-learn-0.24.2:\n",
            "      Successfully uninstalled scikit-learn-0.24.2\n",
            "  Attempting uninstall: joblib\n",
            "    Found existing installation: joblib 1.0.1\n",
            "    Uninstalling joblib-1.0.1:\n",
            "      Successfully uninstalled joblib-1.0.1\n",
            "  Attempting uninstall: gensim\n",
            "    Found existing installation: gensim 3.6.0\n",
            "    Uninstalling gensim-3.6.0:\n",
            "      Successfully uninstalled gensim-3.6.0\n",
            "  Attempting uninstall: click\n",
            "    Found existing installation: click 7.1.2\n",
            "    Uninstalling click-7.1.2:\n",
            "      Successfully uninstalled click-7.1.2\n",
            "\u001b[31mERROR: pip's dependency resolver does not currently take into account all the packages that are installed. This behaviour is the source of the following dependency conflicts.\n",
            "xarray 0.18.2 requires numpy>=1.17, but you have numpy 1.16.2 which is incompatible.\n",
            "torchtext 0.10.0 requires torch==1.9.0, but you have torch 1.2.0 which is incompatible.\n",
            "tensorflow 2.5.0 requires numpy~=1.19.2, but you have numpy 1.16.2 which is incompatible.\n",
            "spacy 2.2.4 requires tqdm<5.0.0,>=4.38.0, but you have tqdm 4.31.1 which is incompatible.\n",
            "pyerfa 2.0.0 requires numpy>=1.17, but you have numpy 1.16.2 which is incompatible.\n",
            "pyarrow 3.0.0 requires numpy>=1.16.6, but you have numpy 1.16.2 which is incompatible.\n",
            "librosa 0.8.1 requires joblib>=0.14, but you have joblib 0.13.2 which is incompatible.\n",
            "kapre 0.3.5 requires numpy>=1.18.5, but you have numpy 1.16.2 which is incompatible.\n",
            "jaxlib 0.1.69+cuda110 requires numpy>=1.17, but you have numpy 1.16.2 which is incompatible.\n",
            "jax 0.2.17 requires numpy>=1.17, but you have numpy 1.16.2 which is incompatible.\n",
            "fbprophet 0.7.1 requires tqdm>=4.36.1, but you have tqdm 4.31.1 which is incompatible.\n",
            "datascience 0.10.6 requires folium==0.2.1, but you have folium 0.8.3 which is incompatible.\n",
            "astropy 4.2.1 requires numpy>=1.17, but you have numpy 1.16.2 which is incompatible.\n",
            "albumentations 0.1.12 requires imgaug<0.2.7,>=0.2.5, but you have imgaug 0.2.9 which is incompatible.\u001b[0m\n",
            "Successfully installed click-7.0 gensim-3.7.2 joblib-0.13.2 logzero-1.5.0 numpy-1.16.2 ruamel.yaml-0.16.5 ruamel.yaml.clib-0.2.6 scikit-learn-0.20.3 scipy-1.2.1 torch-1.2.0 torchgpipe-0.0.5 torchvision-0.4.0 tqdm-4.31.1\n"
          ],
          "name": "stdout"
        },
        {
          "output_type": "display_data",
          "data": {
            "application/vnd.colab-display-data+json": {
              "pip_warning": {
                "packages": [
                  "joblib",
                  "numpy",
                  "scipy",
                  "sklearn",
                  "tqdm"
                ]
              }
            }
          },
          "metadata": {
            "tags": []
          }
        }
      ]
    },
    {
      "cell_type": "code",
      "metadata": {
        "id": "QdJD7B8D2Eh6"
      },
      "source": [
        "DATASET = \"PeTaL\"\n",
        "MODEL = \"MATCH\""
      ],
      "execution_count": null,
      "outputs": []
    },
    {
      "cell_type": "markdown",
      "metadata": {
        "id": "mKSsY8aqHTA0"
      },
      "source": [
        "## Calculation of precision and recall"
      ]
    },
    {
      "cell_type": "code",
      "metadata": {
        "id": "ZxznTfOWFx4d"
      },
      "source": [
        "res_labels = np.load(f\"{DATASET}/results/{MODEL}-{DATASET}-labels.npy\", allow_pickle=True)\n",
        "res_scores = np.load(f\"{DATASET}/results/{MODEL}-{DATASET}-scores.npy\", allow_pickle=True)\n",
        "test_labels = np.load(f\"{DATASET}/test_labels.npy\", allow_pickle=True)\n",
        "train_labels = np.load(f\"{DATASET}/train_labels.npy\", allow_pickle=True)"
      ],
      "execution_count": null,
      "outputs": []
    },
    {
      "cell_type": "code",
      "metadata": {
        "id": "aRDUUuq0He4J"
      },
      "source": [
        "Stats = namedtuple(\"Stats\", \"threshold topk precision recall f1\")\n",
        "\n",
        "\"\"\"\n",
        "    compute_stats(threshold)\n",
        "\n",
        "    Parameters:\n",
        "        threshold: float, 0.0 < threshold < 1.0\n",
        "        res_labels: numpy array of predicted labels\n",
        "        res_scores: numpy array of predicted label scores\n",
        "        test_labels: numpy array of target labels\n",
        "    \n",
        "    Returns:\n",
        "        Stats object containing\n",
        "            threshold\n",
        "            topk: average number of labels above threshold\n",
        "            precision: average precision across examples\n",
        "            recall: average recall across examples\n",
        "            f1: average F1 score across examples\n",
        "    \n",
        "    Note:\n",
        "        precision, recall, and F1 scores are macro (averaged across examples, not labels)\n",
        "\"\"\"\n",
        "def compute_stats(threshold, res_labels, res_scores, test_labels):\n",
        "    precisions = []\n",
        "    recalls = []\n",
        "    topks = []\n",
        "    f1s = []\n",
        "    for res_label, res_score, test_label in zip(res_labels, res_scores, test_labels):\n",
        "        topk = np.argmax(res_score < threshold) # topk becomes the number of labels scoring above the threshold\n",
        "        precision = 1.0 if topk == 0 else np.mean([1 if x in test_label else 0 for x in res_label[:topk]])\n",
        "        recall = np.mean([1 if x in res_label[:topk] else 0 for x in test_label])\n",
        "        f1 = 0 if (precision + recall) == 0 else (2 * precision * recall) / (precision + recall)\n",
        "        topks.append(topk)\n",
        "        precisions.append(precision)\n",
        "        recalls.append(recall)\n",
        "        f1s.append(f1)\n",
        "        # print(res_label[:topk], precision, recall)\n",
        "    return Stats(threshold, np.mean(topks), np.mean(precisions), np.mean(recalls), np.mean(f1s))\n",
        "    # print(\"Threshold:\", threshold)\n",
        "    # print(\"Average number of labels:\", np.mean(topks))\n",
        "    # print(\"Average precision:\", np.mean(precisions))\n",
        "    # print(\"Average recall:\", np.mean(recalls))\n",
        "    # print(\"Average F1 score:\", np.mean(f1s))"
      ],
      "execution_count": null,
      "outputs": []
    },
    {
      "cell_type": "code",
      "metadata": {
        "colab": {
          "base_uri": "https://localhost:8080/"
        },
        "id": "rANVN0wsICEf",
        "outputId": "8a10b835-6102-423f-d943-afb0aa4e98aa"
      },
      "source": [
        "thresholds = list(x / 10000 for x in range(1, 10)) + \\\n",
        "    list(x / 1000 for x in range(1, 10)) + \\\n",
        "    list(x / 100 for x in range(1, 10)) + \\\n",
        "    list(x / 20 for x in range(2, 19)) + \\\n",
        "    list((90 + x) / 100 for x in range(1, 10)) + \\\n",
        "    list((990 + x) / 1000 for x in range(1, 10)) + \\\n",
        "    list((9990 + x) / 10000 for x in range(1, 10))\n",
        "\n",
        "ps = []\n",
        "rs = []\n",
        "ts = []\n",
        "f1s = []\n",
        "topks = []\n",
        "for threshold in tqdm(thresholds):\n",
        "    stats = compute_stats(threshold, res_labels, res_scores, test_labels)\n",
        "    ps.append(stats.precision)\n",
        "    rs.append(stats.recall)\n",
        "    ts.append(threshold)\n",
        "    f1s.append(stats.f1)\n",
        "    topks.append(stats.topk)"
      ],
      "execution_count": null,
      "outputs": [
        {
          "output_type": "stream",
          "text": [
            "100%|██████████| 71/71 [00:00<00:00, 93.61it/s]\n"
          ],
          "name": "stderr"
        }
      ]
    },
    {
      "cell_type": "markdown",
      "metadata": {
        "id": "o-N4AQn6Lrno"
      },
      "source": [
        "## Make plots\n",
        "\n",
        "In this section we make the following plots to assess the performance of the model.\n",
        "\n",
        "- Precision-recall curve\n",
        "- Precision, recall, and F1 Score by varying threshold\n",
        "- Number of labels predicted by varying threshold"
      ]
    },
    {
      "cell_type": "code",
      "metadata": {
        "id": "NDu2KLJbLJEb"
      },
      "source": [
        "GENERATE_PLOTS = False"
      ],
      "execution_count": null,
      "outputs": []
    },
    {
      "cell_type": "code",
      "metadata": {
        "colab": {
          "base_uri": "https://localhost:8080/"
        },
        "id": "eEuiWDOzBWFK",
        "outputId": "c468a70f-0dcb-4619-8ae8-829c63a364ab"
      },
      "source": [
        "ALL_PLOTS_PATH = '../plots/'\n",
        "if not os.path.exists(ALL_PLOTS_PATH):\n",
        "    os.mkdir(ALL_PLOTS_PATH)\n",
        "else:\n",
        "    print(f\"You already have a plots directory at {ALL_PLOTS_PATH}.\")"
      ],
      "execution_count": null,
      "outputs": [
        {
          "output_type": "stream",
          "text": [
            "You already have a plots directory at ../plots/.\n"
          ],
          "name": "stdout"
        }
      ]
    },
    {
      "cell_type": "code",
      "metadata": {
        "colab": {
          "base_uri": "https://localhost:8080/"
        },
        "id": "NcWKFPBSCC0s",
        "outputId": "19725e66-2e48-4b32-8123-f3c50ccc66a7"
      },
      "source": [
        "time_str = datetime.now().strftime(\"%Y%m%d_%H%M%S\")\n",
        "comment = \"on_MAG_CS\"\n",
        "PLOTS_PATH = os.path.join(ALL_PLOTS_PATH, f\"{time_str}_{comment}\")\n",
        "\n",
        "if not os.path.exists(PLOTS_PATH):\n",
        "    os.mkdir(PLOTS_PATH)\n",
        "    print(f\"New plots directory at {PLOTS_PATH}\")\n",
        "else:\n",
        "    print(f\"You already have a plots directory at {PLOTS_PATH}\")"
      ],
      "execution_count": null,
      "outputs": [
        {
          "output_type": "stream",
          "text": [
            "New plots directory at ../plots/20210701_173537_on_MAG_CS\n"
          ],
          "name": "stdout"
        }
      ]
    },
    {
      "cell_type": "code",
      "metadata": {
        "colab": {
          "base_uri": "https://localhost:8080/",
          "height": 295
        },
        "id": "NSK_2VXUJOS-",
        "outputId": "3b46356a-b63b-4dfb-dcb3-0d7a624be6ca"
      },
      "source": [
        "plt.grid()\n",
        "plt.title(f'Precision-Recall Curve for {MODEL} on {DATASET}, varying threshold')\n",
        "plt.plot(ps, rs, linestyle='-')\n",
        "plt.xlabel('Recall')\n",
        "plt.xlim(0, 1)\n",
        "plt.ylabel('Precision')\n",
        "plt.ylim(0, 1)\n",
        "\n",
        "if GENERATE_PLOTS:\n",
        "    PLOT_PATH = os.path.join(PLOTS_PATH, f'prc_{MODEL}_{DATASET}.png')\n",
        "    plt.savefig(fname=PLOT_PATH, facecolor='w', transparent=False)\n",
        "    print(f\"Your plot is saved as {PLOT_PATH}\")"
      ],
      "execution_count": null,
      "outputs": [
        {
          "output_type": "display_data",
          "data": {
            "image/png": "[encoded data removed]",
            "text/plain": [
              "<Figure size 432x288 with 1 Axes>"
            ]
          },
          "metadata": {
            "tags": []
          }
        }
      ]
    },
    {
      "cell_type": "code",
      "metadata": {
        "colab": {
          "base_uri": "https://localhost:8080/",
          "height": 312
        },
        "id": "BTqOnhJrJz6J",
        "outputId": "bf7faf5e-4cda-47b5-cde5-a9fe5f7d2dc0"
      },
      "source": [
        "plt.grid()\n",
        "plt.title(f'Precision, Recall, and F1 Score by Threshold for {MODEL} on {DATASET}')\n",
        "plt.plot(ts, ps, linestyle='-', label='Precision')\n",
        "plt.plot(ts, rs, linestyle='-', label='Recall')\n",
        "plt.plot(ts, f1s, linestyle='-', label='F1 score')\n",
        "plt.xlabel('Threshold')\n",
        "plt.xlim(0, 1)\n",
        "plt.ylabel('Metrics')\n",
        "plt.ylim(0, 1)\n",
        "plt.legend()\n",
        "\n",
        "if GENERATE_PLOTS:\n",
        "    PLOT_PATH = os.path.join(PLOTS_PATH, f'prf1_{MODEL}_{DATASET}.png')\n",
        "    plt.savefig(fname=PLOT_PATH, facecolor='w', transparent=False)\n",
        "    print(f\"Your plot is saved as {PLOT_PATH}\")"
      ],
      "execution_count": null,
      "outputs": [
        {
          "output_type": "stream",
          "text": [
            "Your plot is saved as ../plots/20210701_173537_on_MAG_CS/prf1_MATCH_MAG.png\n"
          ],
          "name": "stdout"
        },
        {
          "output_type": "display_data",
          "data": {
            "image/png": "[encoded data removed]",
            "text/plain": [
              "<Figure size 432x288 with 1 Axes>"
            ]
          },
          "metadata": {
            "tags": []
          }
        }
      ]
    },
    {
      "cell_type": "code",
      "metadata": {
        "colab": {
          "base_uri": "https://localhost:8080/",
          "height": 312
        },
        "id": "oeLBGJZWKS1s",
        "outputId": "d52d479c-d00d-4c60-823a-82e7d5e78762"
      },
      "source": [
        "plt.grid()\n",
        "plt.title(f'Number of Labels Predicted by Threshold for {MODEL} on {DATASET}')\n",
        "plt.plot(ts, topks, linestyle='-', label='Number of Labels')\n",
        "plt.xlabel('Threshold')\n",
        "plt.xlim(0, 1)\n",
        "plt.ylabel('Labels')\n",
        "plt.legend()\n",
        "\n",
        "if GENERATE_PLOTS:\n",
        "    PLOT_PATH = os.path.join(PLOTS_PATH, f'labels_{MODEL}_{DATASET}.png')\n",
        "    plt.savefig(fname=PLOT_PATH, facecolor='w', transparent=False)\n",
        "    print(f\"Your plot is saved as {PLOT_PATH}\")"
      ],
      "execution_count": null,
      "outputs": [
        {
          "output_type": "stream",
          "text": [
            "Your plot is saved as ../plots/20210701_173537_on_MAG_CS/labels_MATCH_MAG.png\n"
          ],
          "name": "stdout"
        },
        {
          "output_type": "display_data",
          "data": {
            "image/png": "[encoded data removed]",
            "text/plain": [
              "<Figure size 432x288 with 1 Axes>"
            ]
          },
          "metadata": {
            "tags": []
          }
        }
      ]
    },
    {
      "cell_type": "markdown",
      "metadata": {
        "id": "9HuVtkicL7gZ"
      },
      "source": [
        "## Additional analysis"
      ]
    },
    {
      "cell_type": "code",
      "metadata": {
        "id": "4rsEGTz7MJbc"
      },
      "source": [
        "parent_labels = set()\n",
        "with open('PeTaL/taxonomy.txt', 'r') as f:\n",
        "    for line in f:\n",
        "        labels = line.split()\n",
        "        parent_labels.add(labels[0])"
      ],
      "execution_count": null,
      "outputs": []
    },
    {
      "cell_type": "code",
      "metadata": {
        "colab": {
          "base_uri": "https://localhost:8080/"
        },
        "id": "nU2OJUdNL6lj",
        "outputId": "f86e2ee4-80ef-4824-ea09-b8ca42a260ee"
      },
      "source": [
        "parents = 0\n",
        "total = 0\n",
        "for labels in res_labels:\n",
        "    for label in labels[:5]:\n",
        "        total += 1\n",
        "        if label in parent_labels:\n",
        "            parents += 1\n",
        "print(f\"{parents} predicted labels out of {total}, or {parents / total :.3f}, are parent (non-leaf) labels.\")\n",
        "\n",
        "parents = 0\n",
        "total = 0\n",
        "for labels in test_labels:\n",
        "    for label in labels:\n",
        "        total += 1\n",
        "        if label in parent_labels:\n",
        "            parents += 1\n",
        "print(f\"{parents} target labels out of {total}, or {parents / total :.3f}, are parent (non-leaf) labels.\")"
      ],
      "execution_count": null,
      "outputs": [
        {
          "output_type": "stream",
          "text": [
            "294 predicted labels out of 500, or 0.588, are parent (non-leaf) labels.\n",
            "257 target labels out of 458, or 0.561, are parent (non-leaf) labels.\n"
          ],
          "name": "stdout"
        }
      ]
    },
    {
      "cell_type": "code",
      "metadata": {
        "colab": {
          "base_uri": "https://localhost:8080/"
        },
        "id": "Ltbwy3wlOgaB",
        "outputId": "0e8b3b1a-5ad6-4299-a478-731c39674d07"
      },
      "source": [
        "ks = list(range(1, 26))\n",
        "pct_parents = []\n",
        "for k in ks:\n",
        "    parents = 0\n",
        "    total = 0\n",
        "    for labels in res_labels:\n",
        "        for label in labels[:k]:\n",
        "            total += 1\n",
        "            if label in parent_labels:\n",
        "                parents += 1\n",
        "    pct_parents.append(parents / total)\n",
        "    print(f\"{parents} predicted labels out of {total}, or {parents / total :.3f}, are parent (non-leaf) labels.\")   "
      ],
      "execution_count": null,
      "outputs": [
        {
          "output_type": "stream",
          "text": [
            "76 predicted labels out of 100, or 0.760, are parent (non-leaf) labels.\n",
            "156 predicted labels out of 200, or 0.780, are parent (non-leaf) labels.\n",
            "200 predicted labels out of 300, or 0.667, are parent (non-leaf) labels.\n",
            "249 predicted labels out of 400, or 0.623, are parent (non-leaf) labels.\n",
            "294 predicted labels out of 500, or 0.588, are parent (non-leaf) labels.\n",
            "323 predicted labels out of 600, or 0.538, are parent (non-leaf) labels.\n",
            "347 predicted labels out of 700, or 0.496, are parent (non-leaf) labels.\n",
            "383 predicted labels out of 800, or 0.479, are parent (non-leaf) labels.\n",
            "420 predicted labels out of 900, or 0.467, are parent (non-leaf) labels.\n",
            "459 predicted labels out of 1000, or 0.459, are parent (non-leaf) labels.\n",
            "491 predicted labels out of 1100, or 0.446, are parent (non-leaf) labels.\n",
            "515 predicted labels out of 1200, or 0.429, are parent (non-leaf) labels.\n",
            "546 predicted labels out of 1300, or 0.420, are parent (non-leaf) labels.\n",
            "575 predicted labels out of 1400, or 0.411, are parent (non-leaf) labels.\n",
            "609 predicted labels out of 1500, or 0.406, are parent (non-leaf) labels.\n",
            "637 predicted labels out of 1600, or 0.398, are parent (non-leaf) labels.\n",
            "668 predicted labels out of 1700, or 0.393, are parent (non-leaf) labels.\n",
            "695 predicted labels out of 1800, or 0.386, are parent (non-leaf) labels.\n",
            "723 predicted labels out of 1900, or 0.381, are parent (non-leaf) labels.\n",
            "751 predicted labels out of 2000, or 0.376, are parent (non-leaf) labels.\n",
            "777 predicted labels out of 2100, or 0.370, are parent (non-leaf) labels.\n",
            "805 predicted labels out of 2200, or 0.366, are parent (non-leaf) labels.\n",
            "827 predicted labels out of 2300, or 0.360, are parent (non-leaf) labels.\n",
            "857 predicted labels out of 2400, or 0.357, are parent (non-leaf) labels.\n",
            "879 predicted labels out of 2500, or 0.352, are parent (non-leaf) labels.\n"
          ],
          "name": "stdout"
        }
      ]
    },
    {
      "cell_type": "code",
      "metadata": {
        "colab": {
          "base_uri": "https://localhost:8080/",
          "height": 295
        },
        "id": "FYCVHqSpPs2i",
        "outputId": "daa0dcb3-b1ca-4f15-c8d0-64e5a1f83607"
      },
      "source": [
        "plt.title(\"Proportion of parent labels in top k predicted labels\")\n",
        "plt.plot(ks, pct_parents, color='b', label=\"Predicted labels\")\n",
        "plt.xlim(1, 25)\n",
        "plt.xlabel(\"k\")\n",
        "plt.ylim(0, 1)\n",
        "plt.ylabel(\"Proportion of parent labels\")\n",
        "plt.grid()\n",
        "plt.axhline(y=0.561, color='r')\n",
        "plt.savefig(fname=\"are_parent_labels_overrepresented.png\", facecolor='w', transparent=False)"
      ],
      "execution_count": null,
      "outputs": [
        {
          "output_type": "display_data",
          "data": {
            "image/png": "[encoded data removed]",
            "text/plain": [
              "<Figure size 432x288 with 1 Axes>"
            ]
          },
          "metadata": {
            "tags": []
          }
        }
      ]
    },
    {
      "cell_type": "markdown",
      "metadata": {
        "id": "EEtFj2fJtz99"
      },
      "source": [
        "## Generate confusion matrices"
      ]
    },
    {
      "cell_type": "code",
      "metadata": {
        "id": "sBCLK59F-HWB"
      },
      "source": [
        "k = 5"
      ],
      "execution_count": null,
      "outputs": []
    },
    {
      "cell_type": "code",
      "metadata": {
        "colab": {
          "base_uri": "https://localhost:8080/"
        },
        "id": "OrfM7y4KHjHJ",
        "outputId": "d3c1c5e8-8d36-47a1-c39d-5aa14a14e03d"
      },
      "source": [
        "test_labels"
      ],
      "execution_count": null,
      "outputs": [
        {
          "output_type": "execute_result",
          "data": {
            "text/plain": [
              "array([list(['chemically_modify_or_change_energy_state', 'chemically_assemble', 'self-assemble', 'chemically_assemble_organic_compounds']),\n",
              "       list(['change_size_or_color', 'protect_from_harm', 'change_size/shape', 'protect_from_living_threats', 'protect_from_animals']),\n",
              "       list(['process_resources', 'move', 'distribute_resources', 'store_resources', 'passive_movement', 'distribute_liquids', 'store_liquids', 'passively_move_through/on_solids']),\n",
              "       list(['protect_from_harm', 'protect_from_non-living_threats', 'protect_from_temperature']),\n",
              "       list(['move', 'physically_assemble/disassemble', 'maintain_structural_integrity', 'change_size_or_color', 'optimize_shape/materials', 'physically_assemble_structure', 'active_movement', 'passive_movement', 'prevent_structural_failure', 'manage_structural_forces', 'change_size/shape', 'actively_move_through_gases', 'passively_move_through_gases', 'prevent_deformation', 'prevent_fracture/rupture', 'manage_stress/strain']),\n",
              "       list(['process_resources', 'distribute_resources', 'distribute_gases', 'distribute_liquids']),\n",
              "       list(['physically_assemble/disassemble', 'physically_assemble_structure']),\n",
              "       list(['change_size_or_color', 'process_resources', 'chemically_modify_or_change_energy_state', 'maintain_structural_integrity', 'change_size/shape', 'capture_resources', 'distribute_resources', 'change_energy_state', 'manage_structural_forces', 'capture_solids', 'distribute_solids', 'modify/convert_mechanical_energy', 'manage_stress/strain']),\n",
              "       list(['move', 'passive_movement', 'passively_move_through_gases']),\n",
              "       list(['attach', 'maintain_structural_integrity', 'attach_temporarily', 'manage_structural_forces', 'manage_shear', 'manage_stress/strain']),\n",
              "       list(['attach', 'move', 'process_resources', 'attach_permanently', 'store_resources', 'passive_movement', 'store_energy', 'passively_move_through/on_solids', 'passively_move_through_gases']),\n",
              "       list(['change_size_or_color', 'modify_color', 'change_chemical_color/pigmentation', 'change_structural_color']),\n",
              "       list(['protect_from_harm', 'protect_from_living_threats', 'compete_within/between_species', 'protect_from_animals']),\n",
              "       list(['maintain_ecological_community', 'sense_send_or_process_information', 'individual_benefit', 'process_signals', 'coordinate_by_self-organization', 'respond_to_signals']),\n",
              "       list(['maintain_ecological_community', 'individual_benefit', 'compete_within/between_species', 'regulate_reproduction_or_growth']),\n",
              "       list(['physically_assemble/disassemble', 'sense_send_or_process_information', 'break_down_structure', 'sense_signals/environmental_cues', 'sense_electricity/magnetism']),\n",
              "       list(['physically_assemble/disassemble', 'optimize_shape/materials']),\n",
              "       list(['attach', 'attach_temporarily', 'chemically_assemble_organic_compounds']),\n",
              "       list(['sense_send_or_process_information', 'sense_signals/environmental_cues', 'sense_temperature_cues']),\n",
              "       list(['process_resources', 'attach', 'capture_resources', 'attach_temporarily', 'capture_solids']),\n",
              "       list(['change_size_or_color', 'physically_assemble/disassemble', 'protect_from_harm', 'change_size/shape', 'optimize_shape/materials', 'protect_from_living_threats', 'protect_from_animals']),\n",
              "       list(['maintain_ecological_community', 'group_benefit', 'maintain_biodiversity', 'manage_environmental_disturbances', 'manage_populations/pests/diseases']),\n",
              "       list(['protect_from_harm', 'protect_from_living_threats', 'protect_from_animals', 'manage_populations/pests/diseases']),\n",
              "       list(['maintain_structural_integrity', 'manage_structural_forces', 'manage_wear']),\n",
              "       list(['maintain_structural_integrity', 'move', 'manage_structural_forces', 'active_movement', 'manage_wear', 'actively_move_through_gases']),\n",
              "       list(['physically_assemble/disassemble', 'protect_from_harm', 'physically_assemble_structure', 'protect_from_non-living_threats', 'protect_from_loss_of_liquids']),\n",
              "       list(['maintain_structural_integrity', 'manage_structural_forces', 'prevent_structural_failure', 'manage_wear', 'prevent_deformation', 'manage_stress/strain']),\n",
              "       list(['protect_from_harm', 'protect_from_non-living_threats', 'protect_from_solids']),\n",
              "       list(['sense_send_or_process_information', 'process_signals', 'respond_to_signals', 'sense_shape_and/or_pattern']),\n",
              "       list(['sense_send_or_process_information', 'chemically_modify_or_change_energy_state', 'process_signals', 'chemically_break_down', 'respond_to_signals', 'convert_signals', 'chemically_break_down_organic_compounds']),\n",
              "       list(['protect_from_harm', 'protect_from_non-living_threats', 'protect_from_ice', 'protect_from_temperature']),\n",
              "       list(['move', 'protect_from_harm', 'protect_from_non-living_threats', 'active_movement', 'protect_from_wind', 'actively_move_through_gases']),\n",
              "       list(['maintain_structural_integrity', 'manage_structural_forces', 'manage_wear', 'manage_shear']),\n",
              "       list(['change_size_or_color', 'change_size/shape']),\n",
              "       list(['change_size_or_color', 'physically_assemble/disassemble', 'protect_from_harm', 'change_size/shape', 'optimize_shape/materials', 'protect_from_living_threats', 'protect_from_animals']),\n",
              "       list(['maintain_structural_integrity', 'manage_structural_forces', 'manage_stress/strain', 'manage_impact']),\n",
              "       list(['protect_from_harm', 'protect_from_non-living_threats', 'protect_from_temperature']),\n",
              "       list(['maintain_structural_integrity', 'manage_structural_forces', 'manage_impact']),\n",
              "       list(['change_size_or_color', 'process_resources', 'change_size/shape', 'store_resources', 'store_liquids']),\n",
              "       list(['protect_from_harm', 'protect_from_non-living_threats', 'protect_from_living_threats', 'protect_from_light', 'protect_from_microbes']),\n",
              "       list(['change_size_or_color', 'move', 'physically_assemble/disassemble', 'maintain_ecological_community', 'change_size/shape', 'physically_assemble_structure', 'individual_benefit', 'passive_movement', 'regulate_reproduction_or_growth', 'passively_move_through/on_liquids', 'passively_move_through/on_solids']),\n",
              "       list(['protect_from_harm', 'protect_from_non-living_threats', 'protect_from_loss_of_liquids']),\n",
              "       list(['protect_from_harm', 'protect_from_non-living_threats', 'protect_from_excess_liquids', 'protect_from_gases']),\n",
              "       list(['move', 'sense_send_or_process_information', 'active_movement', 'sense_signals/environmental_cues', 'process_signals', 'sense_chemicals', 'respond_to_signals']),\n",
              "       list(['protect_from_harm', 'protect_from_non-living_threats', 'protect_from_temperature']),\n",
              "       list(['physically_assemble/disassemble', 'physically_assemble_structure']),\n",
              "       list(['physically_assemble/disassemble', 'maintain_structural_integrity', 'optimize_shape/materials', 'physically_assemble_structure', 'prevent_structural_failure', 'manage_structural_forces', 'manage_stress/strain', 'prevent_deformation']),\n",
              "       list(['protect_from_harm', 'protect_from_non-living_threats', 'protect_from_light']),\n",
              "       list(['move', 'physically_assemble/disassemble', 'physically_assemble_structure', 'passive_movement', 'passively_move_through/on_liquids']),\n",
              "       list(['attach', 'process_resources', 'attach_temporarily', 'distribute_resources', 'distribute_liquids']),\n",
              "       list(['maintain_structural_integrity', 'manage_structural_forces', 'manage_wear', 'manage_shear']),\n",
              "       list(['maintain_structural_integrity', 'manage_structural_forces', 'manage_wear', 'manage_shear']),\n",
              "       list(['sense_send_or_process_information', 'send_signals', 'send_light_signals_in_the_visible_spectrum']),\n",
              "       list(['process_resources', 'protect_from_harm', 'maintain_ecological_community', 'chemically_modify_or_change_energy_state', 'sense_send_or_process_information', 'distribute_resources', 'protect_from_living_threats', 'individual_benefit', 'group_benefit', 'chemically_assemble', 'send_signals', 'process_signals', 'absorb_and/or_filter_resources', 'expel_resources', 'distribute_solids', 'protect_from_animals', 'regulate_reproduction_or_growth', 'cooperate_within/between_species', 'chemically_assemble_organic_compounds', 'send_chemical_signals', 'respond_to_signals', 'sense_chemicals', 'absorb_and/or_filter_solids', 'expel_solids']),\n",
              "       list(['sense_send_or_process_information', 'move', 'send_signals', 'process_signals', 'active_movement', 'move_through_gases', 'send_sound_signals', 'respond_to_signals']),\n",
              "       list(['process_resources', 'distribute_resources', 'expel_resources', 'distribute_gases', 'expel_gases']),\n",
              "       list(['maintain_ecological_community', 'sense_send_or_process_information', 'individual_benefit', 'sense_signals/environmental_cues', 'coordinate_by_self-organization', 'sense_touch_and_mechanical_forces']),\n",
              "       list(['sense_send_or_process_information', 'send_signals', 'send_chemical_signals']),\n",
              "       list(['attach', 'attach_temporarily']),\n",
              "       list(['process_resources', 'store_resources', 'store_liquids']),\n",
              "       list(['process_resources', 'capture_resources', 'capture_liquids']),\n",
              "       list(['protect_from_harm', 'protect_from_non-living_threats', 'protect_from_radiation']),\n",
              "       list(['attach', 'move', 'attach_permanently', 'active_movement', 'actively_move_through/on_solids']),\n",
              "       list(['physically_assemble/disassemble', 'protect_from_harm', 'physically_assemble_structure', 'protect_from_living_threats', 'protect_from_non-living_threats', 'protect_from_animals', 'protect_from_loss_of_liquids', 'protect_from_microbes']),\n",
              "       list(['protect_from_harm', 'protect_from_living_threats', 'protect_from_microbes']),\n",
              "       list(['maintain_ecological_community', 'process_resources', 'group_benefit', 'capture_resources', 'distribute_resources', 'compete_within/between_species', 'capture_solids', 'distribute_liquids']),\n",
              "       list(['sense_send_or_process_information', 'sense_signals/environmental_cues', 'sense_touch_and_mechanical_forces']),\n",
              "       list(['process_resources', 'move', 'distribute_resources', 'active_movement', 'distribute_energy', 'actively_move_through_gases']),\n",
              "       list(['protect_from_harm', 'protect_from_living_threats', 'protect_from_microbes']),\n",
              "       list(['protect_from_harm', 'protect_from_non-living_threats', 'protect_from_loss_of_liquids']),\n",
              "       list(['move', 'active_movement', 'move_through/on_liquids']),\n",
              "       list(['protect_from_harm', 'protect_from_non-living_threats', 'protect_from_temperature']),\n",
              "       list(['protect_from_harm', 'protect_from_non-living_threats', 'protect_from_temperature']),\n",
              "       list(['maintain_ecological_community', 'sense_send_or_process_information', 'individual_benefit', 'process_signals', 'regulate_reproduction_or_growth', 'respond_to_signals']),\n",
              "       list(['maintain_structural_integrity', 'prevent_structural_failure', 'prevent_fracture/rupture']),\n",
              "       list(['move', 'active_movement', 'actively_move_through/on_solids']),\n",
              "       list(['maintain_structural_integrity', 'protect_from_harm', 'manage_structural_forces', 'protect_from_living_threats', 'manage_stress/strain', 'manage_impact', 'protect_from_animals']),\n",
              "       list(['sense_send_or_process_information', 'process_signals', 'respond_to_signals']),\n",
              "       list(['protect_from_harm', 'sense_send_or_process_information', 'protect_from_living_threats', 'sense_signals/environmental_cues', 'protect_from_animals', 'sense_touch_and_mechanical_forces', 'sense_chemicals']),\n",
              "       list(['attach', 'move', 'attach_temporarily', 'active_movement', 'actively_move_through/on_solids']),\n",
              "       list(['protect_from_harm', 'protect_from_living_threats', 'protect_from_animals']),\n",
              "       list(['sense_send_or_process_information', 'process_signals', 'respond_to_signals', 'sense_chemicals']),\n",
              "       list(['maintain_ecological_community', 'individual_benefit', 'regulate_reproduction_or_growth']),\n",
              "       list(['process_resources', 'capture_resources', 'capture_liquids']),\n",
              "       list(['attach', 'maintain_structural_integrity', 'attach_permanently', 'manage_structural_forces', 'manage_impact', 'manage_stress/strain']),\n",
              "       list(['process_resources', 'capture_resources', 'absorb_and/or_filter_resources', 'absorb_and/or_filter_liquids']),\n",
              "       list(['sense_send_or_process_information', 'sense_signals/environmental_cues', 'sense_light_in_the_non-visible_spectrum', 'sense_light_in_the_visible_spectrum', 'sense_shape_and/or_pattern']),\n",
              "       list(['sense_send_or_process_information', 'sense_signals/environmental_cues', 'sense_light_in_the_visible_spectrum']),\n",
              "       list(['protect_from_harm', 'protect_from_living_threats', 'protect_from_microbes']),\n",
              "       list(['protect_from_harm', 'protect_from_non-living_threats', 'protect_from_chemicals']),\n",
              "       list(['move', 'passive_movement', 'passively_move_through/on_liquids']),\n",
              "       list(['maintain_ecological_community', 'process_resources', 'individual_benefit', 'distribute_resources', 'cooperate_within/between_species', 'coordinate_by_self-organization', 'distribute_liquids', 'distribute_solids', 'manage_environmental_disturbances']),\n",
              "       list(['protect_from_harm', 'protect_from_non-living_threats', 'protect_from_temperature']),\n",
              "       list(['chemically_modify_or_change_energy_state', 'change_energy_state', 'modify/convert_electrical_energy']),\n",
              "       list(['process_resources', 'distribute_resources', 'distribute_liquids']),\n",
              "       list(['protect_from_harm', 'protect_from_living_threats', 'protect_from_fungi']),\n",
              "       list(['maintain_ecological_community', 'individual_benefit', 'regulate_reproduction_or_growth']),\n",
              "       list(['attach', 'attach_temporarily']),\n",
              "       list(['physically_assemble/disassemble', 'chemically_modify_or_change_energy_state', 'physically_assemble_structure', 'chemically_assemble', 'self-assemble', 'chemically_assemble_organic_compounds']),\n",
              "       list(['protect_from_harm', 'protect_from_non-living_threats', 'protect_from_gases'])],\n",
              "      dtype=object)"
            ]
          },
          "metadata": {
            "tags": []
          },
          "execution_count": 47
        }
      ]
    },
    {
      "cell_type": "code",
      "metadata": {
        "colab": {
          "background_save": true,
          "base_uri": "https://localhost:8080/"
        },
        "id": "2O7s4XP5-V41",
        "outputId": "8f02e4fc-f711-4ea1-f78f-d0d3dfeb0f51"
      },
      "source": [
        "# top_res_labels = res_labels[:,:k]\n",
        "threshold = 0.1\n",
        "# np.argmax(res_score < threshold) becomes the number of labels scoring above the threshold\n",
        "top_res_labels = np.array(list(res_label[:np.argmax(res_score < threshold)] for res_label, res_score in zip(res_labels, res_scores)))\n",
        "top_res_labels"
      ],
      "execution_count": null,
      "outputs": [
        {
          "output_type": "stream",
          "text": [
            "/usr/local/lib/python3.7/dist-packages/ipykernel_launcher.py:4: VisibleDeprecationWarning: Creating an ndarray from ragged nested sequences (which is a list-or-tuple of lists-or-tuples-or ndarrays with different lengths or shapes) is deprecated. If you meant to do this, you must specify 'dtype=object' when creating the ndarray\n",
            "  after removing the cwd from sys.path.\n"
          ],
          "name": "stderr"
        },
        {
          "output_type": "execute_result",
          "data": {
            "text/plain": [
              "array([array(['maintain_structural_integrity', 'change_size_or_color',\n",
              "       'manage_structural_forces', 'change_size/shape', 'manage_wear',\n",
              "       'prevent_structural_failure', 'physically_assemble/disassemble',\n",
              "       'attach', 'physically_assemble_structure'], dtype=object),\n",
              "       array(['manage_structural_forces', 'maintain_structural_integrity',\n",
              "       'physically_assemble/disassemble', 'manage_stress/strain',\n",
              "       'chemically_modify_or_change_energy_state',\n",
              "       'optimize_shape/materials'], dtype=object),\n",
              "       array(['maintain_structural_integrity', 'manage_structural_forces',\n",
              "       'physically_assemble/disassemble'], dtype=object),\n",
              "       array(['protect_from_non-living_threats', 'protect_from_harm',\n",
              "       'protect_from_temperature', 'physically_assemble/disassemble'],\n",
              "      dtype=object),\n",
              "       array(['physically_assemble/disassemble',\n",
              "       'sense_send_or_process_information', 'optimize_shape/materials'],\n",
              "      dtype=object),\n",
              "       array(['chemically_modify_or_change_energy_state',\n",
              "       'maintain_structural_integrity', 'physically_assemble/disassemble',\n",
              "       'manage_structural_forces', 'optimize_shape/materials',\n",
              "       'change_energy_state', 'process_resources', 'manage_stress/strain',\n",
              "       'sense_send_or_process_information', 'prevent_structural_failure',\n",
              "       'protect_from_non-living_threats', 'protect_from_harm',\n",
              "       'physically_assemble_structure'], dtype=object),\n",
              "       array(['maintain_structural_integrity', 'prevent_structural_failure',\n",
              "       'manage_structural_forces', 'prevent_deformation',\n",
              "       'prevent_buckling', 'manage_stress/strain',\n",
              "       'prevent_fracture/rupture', 'change_size_or_color', 'manage_wear'],\n",
              "      dtype=object),\n",
              "       array(['sense_send_or_process_information', 'send_signals',\n",
              "       'sense_signals/environmental_cues',\n",
              "       'send_light_signals_in_the_visible_spectrum',\n",
              "       'physically_assemble/disassemble',\n",
              "       'send_light_signals_in_the_non-visible_spectrum',\n",
              "       'change_size_or_color', 'optimize_shape/materials',\n",
              "       'process_signals', 'process_resources',\n",
              "       'physically_assemble_structure', 'respond_to_signals'],\n",
              "      dtype=object),\n",
              "       array(['protect_from_harm', 'process_resources',\n",
              "       'maintain_structural_integrity', 'move',\n",
              "       'protect_from_non-living_threats',\n",
              "       'sense_send_or_process_information', 'manage_structural_forces',\n",
              "       'active_movement', 'change_size_or_color', 'distribute_resources',\n",
              "       'protect_from_living_threats', 'protect_from_animals', 'attach',\n",
              "       'passive_movement', 'prevent_structural_failure'], dtype=object),\n",
              "       array(['physically_assemble/disassemble', 'physically_assemble_structure'],\n",
              "      dtype=object),\n",
              "       array(['protect_from_harm', 'process_resources',\n",
              "       'maintain_structural_integrity', 'move',\n",
              "       'protect_from_non-living_threats',\n",
              "       'sense_send_or_process_information', 'manage_structural_forces',\n",
              "       'active_movement', 'change_size_or_color', 'distribute_resources',\n",
              "       'protect_from_living_threats', 'protect_from_animals', 'attach',\n",
              "       'passive_movement', 'prevent_structural_failure'], dtype=object),\n",
              "       array(['protect_from_harm', 'process_resources',\n",
              "       'maintain_structural_integrity', 'move',\n",
              "       'protect_from_non-living_threats',\n",
              "       'sense_send_or_process_information', 'manage_structural_forces',\n",
              "       'active_movement', 'change_size_or_color', 'distribute_resources',\n",
              "       'protect_from_living_threats', 'protect_from_animals', 'attach',\n",
              "       'passive_movement', 'prevent_structural_failure'], dtype=object),\n",
              "       array(['process_resources', 'distribute_resources', 'attach_temporarily',\n",
              "       'attach'], dtype=object),\n",
              "       array(['process_resources', 'move', 'distribute_resources',\n",
              "       'passive_movement', 'active_movement', 'distribute_energy',\n",
              "       'optimize_shape/materials'], dtype=object),\n",
              "       array(['protect_from_living_threats', 'sense_send_or_process_information',\n",
              "       'protect_from_harm', 'sense_signals/environmental_cues',\n",
              "       'protect_from_animals', 'protect_from_microbes'], dtype=object),\n",
              "       array(['protect_from_harm', 'process_resources',\n",
              "       'maintain_structural_integrity', 'move',\n",
              "       'protect_from_non-living_threats',\n",
              "       'sense_send_or_process_information', 'manage_structural_forces',\n",
              "       'active_movement', 'change_size_or_color', 'distribute_resources',\n",
              "       'protect_from_living_threats', 'protect_from_animals', 'attach',\n",
              "       'passive_movement', 'prevent_structural_failure'], dtype=object),\n",
              "       array(['chemically_modify_or_change_energy_state',\n",
              "       'chemically_break_down', 'protect_from_harm',\n",
              "       'protect_from_non-living_threats',\n",
              "       'chemically_break_down_organic_compounds'], dtype=object),\n",
              "       array(['protect_from_harm', 'manage_structural_forces',\n",
              "       'maintain_structural_integrity', 'protect_from_non-living_threats',\n",
              "       'physically_assemble/disassemble', 'manage_stress/strain',\n",
              "       'chemically_modify_or_change_energy_state', 'chemically_assemble'],\n",
              "      dtype=object),\n",
              "       array(['sense_send_or_process_information',\n",
              "       'sense_signals/environmental_cues',\n",
              "       'sense_touch_and_mechanical_forces',\n",
              "       'physically_assemble/disassemble'], dtype=object),\n",
              "       array(['protect_from_harm', 'process_resources',\n",
              "       'maintain_structural_integrity', 'move',\n",
              "       'protect_from_non-living_threats',\n",
              "       'sense_send_or_process_information', 'manage_structural_forces',\n",
              "       'active_movement', 'change_size_or_color', 'distribute_resources',\n",
              "       'protect_from_living_threats', 'protect_from_animals', 'attach',\n",
              "       'passive_movement', 'prevent_structural_failure'], dtype=object),\n",
              "       array(['protect_from_harm', 'process_resources',\n",
              "       'maintain_structural_integrity', 'move',\n",
              "       'protect_from_non-living_threats',\n",
              "       'sense_send_or_process_information', 'manage_structural_forces',\n",
              "       'active_movement', 'change_size_or_color', 'distribute_resources',\n",
              "       'protect_from_living_threats', 'protect_from_animals', 'attach',\n",
              "       'passive_movement', 'prevent_structural_failure'], dtype=object),\n",
              "       array(['maintain_ecological_community',\n",
              "       'chemically_modify_or_change_energy_state', 'protect_from_animals',\n",
              "       'sense_send_or_process_information', 'individual_benefit',\n",
              "       'protect_from_living_threats', 'process_resources',\n",
              "       'physically_assemble/disassemble', 'send_signals', 'group_benefit',\n",
              "       'chemically_assemble', 'physically_assemble_structure',\n",
              "       'protect_from_harm', 'cooperate_within/between_species',\n",
              "       'regulate_reproduction_or_growth', 'change_energy_state',\n",
              "       'self-assemble'], dtype=object),\n",
              "       array(['protect_from_harm', 'process_resources',\n",
              "       'maintain_structural_integrity', 'move',\n",
              "       'protect_from_non-living_threats',\n",
              "       'sense_send_or_process_information', 'manage_structural_forces',\n",
              "       'active_movement', 'change_size_or_color', 'distribute_resources',\n",
              "       'protect_from_living_threats', 'protect_from_animals', 'attach',\n",
              "       'passive_movement', 'prevent_structural_failure'], dtype=object),\n",
              "       array(['maintain_structural_integrity', 'prevent_structural_failure',\n",
              "       'manage_structural_forces', 'prevent_buckling',\n",
              "       'manage_stress/strain', 'physically_assemble/disassemble',\n",
              "       'prevent_fracture/rupture', 'prevent_deformation'], dtype=object),\n",
              "       array(['physically_assemble/disassemble', 'optimize_shape/materials',\n",
              "       'maintain_structural_integrity', 'protect_from_non-living_threats',\n",
              "       'chemically_modify_or_change_energy_state', 'process_resources',\n",
              "       'protect_from_harm'], dtype=object),\n",
              "       array(['protect_from_harm', 'process_resources',\n",
              "       'maintain_structural_integrity', 'move',\n",
              "       'protect_from_non-living_threats',\n",
              "       'sense_send_or_process_information', 'manage_structural_forces',\n",
              "       'active_movement', 'change_size_or_color', 'distribute_resources',\n",
              "       'protect_from_living_threats', 'protect_from_animals', 'attach',\n",
              "       'passive_movement', 'prevent_structural_failure'], dtype=object),\n",
              "       array(['change_size_or_color', 'physically_assemble/disassemble',\n",
              "       'process_resources'], dtype=object),\n",
              "       array(['protect_from_harm', 'process_resources',\n",
              "       'maintain_structural_integrity', 'move',\n",
              "       'protect_from_non-living_threats',\n",
              "       'sense_send_or_process_information', 'manage_structural_forces',\n",
              "       'active_movement', 'change_size_or_color', 'distribute_resources',\n",
              "       'protect_from_living_threats', 'protect_from_animals', 'attach',\n",
              "       'passive_movement', 'prevent_structural_failure'], dtype=object),\n",
              "       array(['protect_from_non-living_threats', 'protect_from_harm',\n",
              "       'physically_assemble/disassemble'], dtype=object),\n",
              "       array(['sense_send_or_process_information',\n",
              "       'physically_assemble/disassemble',\n",
              "       'sense_signals/environmental_cues', 'optimize_shape/materials',\n",
              "       'send_signals', 'change_size_or_color',\n",
              "       'physically_assemble_structure'], dtype=object),\n",
              "       array(['protect_from_harm', 'process_resources',\n",
              "       'maintain_structural_integrity', 'move',\n",
              "       'protect_from_non-living_threats',\n",
              "       'sense_send_or_process_information', 'manage_structural_forces',\n",
              "       'active_movement', 'change_size_or_color', 'distribute_resources',\n",
              "       'protect_from_living_threats', 'protect_from_animals', 'attach',\n",
              "       'passive_movement', 'prevent_structural_failure'], dtype=object),\n",
              "       array(['move', 'maintain_structural_integrity', 'active_movement',\n",
              "       'passive_movement', 'actively_move_through_gases',\n",
              "       'manage_structural_forces', 'process_resources',\n",
              "       'passively_move_through_gases', 'manage_stress/strain'],\n",
              "      dtype=object),\n",
              "       array(['physically_assemble/disassemble',\n",
              "       'sense_send_or_process_information',\n",
              "       'physically_assemble_structure'], dtype=object),\n",
              "       array(['sense_send_or_process_information', 'process_resources',\n",
              "       'sense_signals/environmental_cues', 'protect_from_living_threats',\n",
              "       'protect_from_harm', 'protect_from_animals',\n",
              "       'physically_assemble/disassemble', 'send_signals',\n",
              "       'distribute_resources'], dtype=object),\n",
              "       array(['process_resources', 'sense_send_or_process_information',\n",
              "       'capture_resources', 'capture_solids',\n",
              "       'sense_signals/environmental_cues', 'expel_resources',\n",
              "       'send_signals', 'distribute_resources',\n",
              "       'maintain_ecological_community', 'group_benefit'], dtype=object),\n",
              "       array(['physically_assemble/disassemble'], dtype=object),\n",
              "       array(['protect_from_harm', 'process_resources',\n",
              "       'maintain_structural_integrity', 'move',\n",
              "       'protect_from_non-living_threats',\n",
              "       'sense_send_or_process_information', 'manage_structural_forces',\n",
              "       'active_movement', 'change_size_or_color', 'distribute_resources',\n",
              "       'protect_from_living_threats', 'protect_from_animals', 'attach',\n",
              "       'passive_movement', 'prevent_structural_failure'], dtype=object),\n",
              "       array(['move', 'active_movement', 'maintain_structural_integrity',\n",
              "       'process_resources', 'actively_move_through/on_liquids'],\n",
              "      dtype=object),\n",
              "       array(['protect_from_harm', 'process_resources',\n",
              "       'maintain_structural_integrity', 'move',\n",
              "       'protect_from_non-living_threats',\n",
              "       'sense_send_or_process_information', 'manage_structural_forces',\n",
              "       'active_movement', 'change_size_or_color', 'distribute_resources',\n",
              "       'protect_from_living_threats', 'protect_from_animals', 'attach',\n",
              "       'passive_movement', 'prevent_structural_failure'], dtype=object),\n",
              "       array(['protect_from_non-living_threats', 'protect_from_harm',\n",
              "       'protect_from_temperature'], dtype=object),\n",
              "       array(['change_size_or_color', 'change_size/shape',\n",
              "       'physically_assemble/disassemble', 'physically_assemble_structure',\n",
              "       'process_resources', 'optimize_shape/materials', 'attach',\n",
              "       'attach_temporarily'], dtype=object),\n",
              "       array(['protect_from_harm', 'process_resources',\n",
              "       'maintain_structural_integrity', 'move',\n",
              "       'protect_from_non-living_threats',\n",
              "       'sense_send_or_process_information', 'manage_structural_forces',\n",
              "       'active_movement', 'change_size_or_color', 'distribute_resources',\n",
              "       'protect_from_living_threats', 'protect_from_animals', 'attach',\n",
              "       'passive_movement', 'prevent_structural_failure'], dtype=object),\n",
              "       array(['sense_send_or_process_information', 'protect_from_animals',\n",
              "       'sense_signals/environmental_cues', 'protect_from_living_threats',\n",
              "       'protect_from_harm'], dtype=object),\n",
              "       array(['protect_from_harm', 'process_resources',\n",
              "       'maintain_structural_integrity', 'move',\n",
              "       'protect_from_non-living_threats',\n",
              "       'sense_send_or_process_information', 'manage_structural_forces',\n",
              "       'active_movement', 'change_size_or_color', 'distribute_resources',\n",
              "       'protect_from_living_threats', 'protect_from_animals', 'attach',\n",
              "       'passive_movement', 'prevent_structural_failure'], dtype=object),\n",
              "       array(['protect_from_non-living_threats', 'protect_from_harm',\n",
              "       'protect_from_temperature', 'physically_assemble/disassemble',\n",
              "       'sense_send_or_process_information'], dtype=object),\n",
              "       array(['protect_from_harm', 'process_resources',\n",
              "       'maintain_structural_integrity', 'move',\n",
              "       'protect_from_non-living_threats',\n",
              "       'sense_send_or_process_information', 'manage_structural_forces',\n",
              "       'active_movement', 'change_size_or_color', 'distribute_resources',\n",
              "       'protect_from_living_threats', 'protect_from_animals', 'attach',\n",
              "       'passive_movement', 'prevent_structural_failure'], dtype=object),\n",
              "       array(['physically_assemble/disassemble',\n",
              "       'sense_send_or_process_information',\n",
              "       'physically_assemble_structure', 'send_signals',\n",
              "       'optimize_shape/materials', 'change_size_or_color',\n",
              "       'change_size/shape'], dtype=object),\n",
              "       array(['protect_from_harm', 'process_resources',\n",
              "       'maintain_structural_integrity', 'move',\n",
              "       'protect_from_non-living_threats',\n",
              "       'sense_send_or_process_information', 'manage_structural_forces',\n",
              "       'active_movement', 'change_size_or_color', 'distribute_resources',\n",
              "       'protect_from_living_threats', 'protect_from_animals', 'attach',\n",
              "       'passive_movement', 'prevent_structural_failure'], dtype=object),\n",
              "       array(['sense_send_or_process_information',\n",
              "       'sense_signals/environmental_cues', 'protect_from_harm',\n",
              "       'protect_from_non-living_threats'], dtype=object),\n",
              "       array(['maintain_structural_integrity', 'physically_assemble/disassemble',\n",
              "       'prevent_structural_failure', 'change_size_or_color',\n",
              "       'optimize_shape/materials', 'sense_send_or_process_information',\n",
              "       'physically_assemble_structure'], dtype=object),\n",
              "       array(['protect_from_harm', 'process_resources',\n",
              "       'maintain_structural_integrity', 'move',\n",
              "       'protect_from_non-living_threats',\n",
              "       'sense_send_or_process_information', 'manage_structural_forces',\n",
              "       'active_movement', 'change_size_or_color', 'distribute_resources',\n",
              "       'protect_from_living_threats', 'protect_from_animals', 'attach',\n",
              "       'passive_movement', 'prevent_structural_failure'], dtype=object),\n",
              "       array(['maintain_structural_integrity', 'prevent_structural_failure',\n",
              "       'manage_structural_forces', 'prevent_buckling',\n",
              "       'prevent_fracture/rupture', 'physically_assemble/disassemble',\n",
              "       'manage_stress/strain', 'change_size_or_color'], dtype=object),\n",
              "       array(['protect_from_harm', 'protect_from_living_threats',\n",
              "       'protect_from_animals', 'sense_send_or_process_information',\n",
              "       'sense_signals/environmental_cues'], dtype=object),\n",
              "       array(['protect_from_harm', 'protect_from_non-living_threats',\n",
              "       'process_resources', 'protect_from_chemicals',\n",
              "       'distribute_resources'], dtype=object),\n",
              "       array(['sense_send_or_process_information', 'protect_from_animals',\n",
              "       'protect_from_harm', 'sense_signals/environmental_cues',\n",
              "       'send_signals', 'protect_from_living_threats'], dtype=object),\n",
              "       array(['protect_from_harm', 'process_resources',\n",
              "       'maintain_structural_integrity', 'move',\n",
              "       'protect_from_non-living_threats',\n",
              "       'sense_send_or_process_information', 'manage_structural_forces',\n",
              "       'active_movement', 'change_size_or_color', 'distribute_resources',\n",
              "       'protect_from_living_threats', 'protect_from_animals', 'attach',\n",
              "       'passive_movement', 'prevent_structural_failure'], dtype=object),\n",
              "       array(['sense_send_or_process_information',\n",
              "       'sense_signals/environmental_cues', 'process_resources',\n",
              "       'capture_resources', 'sense_touch_and_mechanical_forces',\n",
              "       'sense_electricity/magnetism'], dtype=object),\n",
              "       array(['sense_send_or_process_information',\n",
              "       'chemically_modify_or_change_energy_state', 'change_energy_state',\n",
              "       'sense_signals/environmental_cues', 'send_signals',\n",
              "       'modify/convert_thermal_energy',\n",
              "       'sense_light_in_the_visible_spectrum', 'protect_from_harm',\n",
              "       'send_light_signals_in_the_non-visible_spectrum',\n",
              "       'sense_light_in_the_non-visible_spectrum',\n",
              "       'modify/convert_mechanical_energy',\n",
              "       'send_light_signals_in_the_visible_spectrum',\n",
              "       'sense_touch_and_mechanical_forces'], dtype=object),\n",
              "       array(['attach', 'attach_temporarily'], dtype=object),\n",
              "       array(['protect_from_harm', 'process_resources',\n",
              "       'maintain_structural_integrity', 'move',\n",
              "       'protect_from_non-living_threats',\n",
              "       'sense_send_or_process_information', 'manage_structural_forces',\n",
              "       'active_movement', 'change_size_or_color', 'distribute_resources',\n",
              "       'protect_from_living_threats', 'protect_from_animals', 'attach',\n",
              "       'passive_movement', 'prevent_structural_failure'], dtype=object),\n",
              "       array(['protect_from_harm', 'sense_send_or_process_information',\n",
              "       'protect_from_non-living_threats',\n",
              "       'chemically_modify_or_change_energy_state',\n",
              "       'maintain_structural_integrity', 'change_energy_state',\n",
              "       'physically_assemble/disassemble',\n",
              "       'sense_signals/environmental_cues', 'process_resources',\n",
              "       'optimize_shape/materials', 'manage_structural_forces',\n",
              "       'prevent_structural_failure', 'protect_from_temperature',\n",
              "       'manage_stress/strain', 'move'], dtype=object),\n",
              "       array(['protect_from_harm', 'protect_from_non-living_threats',\n",
              "       'protect_from_chemicals', 'protect_from_temperature'], dtype=object),\n",
              "       array(['protect_from_harm', 'process_resources',\n",
              "       'maintain_structural_integrity', 'move',\n",
              "       'protect_from_non-living_threats',\n",
              "       'sense_send_or_process_information', 'manage_structural_forces',\n",
              "       'active_movement', 'change_size_or_color', 'distribute_resources',\n",
              "       'protect_from_living_threats', 'protect_from_animals', 'attach',\n",
              "       'passive_movement', 'prevent_structural_failure'], dtype=object),\n",
              "       array(['protect_from_harm', 'protect_from_non-living_threats',\n",
              "       'protect_from_living_threats', 'protect_from_animals',\n",
              "       'protect_from_chemicals'], dtype=object),\n",
              "       array(['process_resources', 'sense_send_or_process_information',\n",
              "       'capture_resources', 'sense_signals/environmental_cues',\n",
              "       'cooperate_within/between_species', 'group_benefit',\n",
              "       'maintain_ecological_community'], dtype=object),\n",
              "       array(['chemically_modify_or_change_energy_state', 'change_energy_state',\n",
              "       'chemically_assemble', 'chemically_assemble_organic_compounds',\n",
              "       'process_resources', 'modify/convert_chemical_energy',\n",
              "       'modify/convert_thermal_energy', 'capture_resources'], dtype=object),\n",
              "       array(['sense_send_or_process_information', 'change_size_or_color',\n",
              "       'physically_assemble/disassemble', 'send_signals', 'modify_color',\n",
              "       'sense_signals/environmental_cues', 'optimize_shape/materials',\n",
              "       'send_light_signals_in_the_visible_spectrum'], dtype=object),\n",
              "       array(['maintain_structural_integrity', 'move',\n",
              "       'manage_structural_forces', 'active_movement', 'attach',\n",
              "       'manage_wear', 'physically_assemble/disassemble',\n",
              "       'attach_temporarily'], dtype=object),\n",
              "       array(['sense_send_or_process_information',\n",
              "       'sense_signals/environmental_cues', 'protect_from_harm',\n",
              "       'sense_touch_and_mechanical_forces', 'protect_from_living_threats',\n",
              "       'protect_from_non-living_threats', 'protect_from_animals'],\n",
              "      dtype=object),\n",
              "       array(['protect_from_harm', 'process_resources',\n",
              "       'maintain_structural_integrity', 'move',\n",
              "       'protect_from_non-living_threats',\n",
              "       'sense_send_or_process_information', 'manage_structural_forces',\n",
              "       'active_movement', 'change_size_or_color', 'distribute_resources',\n",
              "       'protect_from_living_threats', 'protect_from_animals', 'attach',\n",
              "       'passive_movement', 'prevent_structural_failure'], dtype=object),\n",
              "       array(['protect_from_harm', 'process_resources',\n",
              "       'maintain_structural_integrity', 'move',\n",
              "       'protect_from_non-living_threats',\n",
              "       'sense_send_or_process_information', 'manage_structural_forces',\n",
              "       'active_movement', 'change_size_or_color', 'distribute_resources',\n",
              "       'protect_from_living_threats', 'protect_from_animals', 'attach',\n",
              "       'passive_movement', 'prevent_structural_failure'], dtype=object),\n",
              "       array(['protect_from_harm', 'process_resources',\n",
              "       'maintain_structural_integrity', 'move',\n",
              "       'protect_from_non-living_threats',\n",
              "       'sense_send_or_process_information', 'manage_structural_forces',\n",
              "       'active_movement', 'change_size_or_color', 'distribute_resources',\n",
              "       'protect_from_living_threats', 'protect_from_animals', 'attach',\n",
              "       'passive_movement', 'prevent_structural_failure'], dtype=object),\n",
              "       array(['protect_from_harm', 'protect_from_non-living_threats',\n",
              "       'chemically_modify_or_change_energy_state',\n",
              "       'protect_from_temperature', 'change_energy_state'], dtype=object),\n",
              "       array(['chemically_modify_or_change_energy_state', 'protect_from_animals',\n",
              "       'change_energy_state', 'protect_from_living_threats',\n",
              "       'protect_from_harm'], dtype=object),\n",
              "       array(['protect_from_harm', 'process_resources',\n",
              "       'maintain_structural_integrity', 'move',\n",
              "       'protect_from_non-living_threats',\n",
              "       'sense_send_or_process_information', 'manage_structural_forces',\n",
              "       'active_movement', 'change_size_or_color', 'distribute_resources',\n",
              "       'protect_from_living_threats', 'protect_from_animals', 'attach',\n",
              "       'passive_movement', 'prevent_structural_failure'], dtype=object),\n",
              "       array(['move', 'active_movement', 'maintain_structural_integrity',\n",
              "       'manage_structural_forces'], dtype=object),\n",
              "       array(['protect_from_harm', 'process_resources',\n",
              "       'maintain_structural_integrity', 'move',\n",
              "       'protect_from_non-living_threats',\n",
              "       'sense_send_or_process_information', 'manage_structural_forces',\n",
              "       'active_movement', 'change_size_or_color', 'distribute_resources',\n",
              "       'protect_from_living_threats', 'protect_from_animals', 'attach',\n",
              "       'passive_movement', 'prevent_structural_failure'], dtype=object),\n",
              "       array(['change_size_or_color', 'maintain_structural_integrity',\n",
              "       'change_size/shape', 'prevent_structural_failure',\n",
              "       'physically_assemble/disassemble', 'process_resources',\n",
              "       'manage_structural_forces', 'move', 'manage_wear',\n",
              "       'optimize_shape/materials', 'physically_assemble_structure',\n",
              "       'prevent_buckling', 'active_movement'], dtype=object),\n",
              "       array(['sense_send_or_process_information',\n",
              "       'sense_signals/environmental_cues', 'protect_from_animals',\n",
              "       'protect_from_living_threats', 'protect_from_harm'], dtype=object),\n",
              "       array(['protect_from_harm', 'process_resources',\n",
              "       'maintain_structural_integrity', 'move',\n",
              "       'protect_from_non-living_threats',\n",
              "       'sense_send_or_process_information', 'manage_structural_forces',\n",
              "       'active_movement', 'change_size_or_color', 'distribute_resources',\n",
              "       'protect_from_living_threats', 'protect_from_animals', 'attach',\n",
              "       'passive_movement', 'prevent_structural_failure'], dtype=object),\n",
              "       array(['protect_from_harm', 'protect_from_non-living_threats',\n",
              "       'protect_from_chemicals', 'process_resources',\n",
              "       'distribute_resources'], dtype=object),\n",
              "       array(['protect_from_harm', 'protect_from_non-living_threats',\n",
              "       'sense_signals/environmental_cues',\n",
              "       'sense_send_or_process_information'], dtype=object),\n",
              "       array(['protect_from_harm', 'process_resources',\n",
              "       'maintain_structural_integrity', 'move',\n",
              "       'protect_from_non-living_threats',\n",
              "       'sense_send_or_process_information', 'manage_structural_forces',\n",
              "       'active_movement', 'change_size_or_color', 'distribute_resources',\n",
              "       'protect_from_living_threats', 'protect_from_animals', 'attach',\n",
              "       'passive_movement', 'prevent_structural_failure'], dtype=object),\n",
              "       array(['sense_send_or_process_information',\n",
              "       'physically_assemble/disassemble', 'send_signals',\n",
              "       'sense_signals/environmental_cues', 'change_size_or_color',\n",
              "       'optimize_shape/materials', 'maintain_structural_integrity',\n",
              "       'protect_from_harm', 'process_resources',\n",
              "       'send_light_signals_in_the_visible_spectrum',\n",
              "       'chemically_modify_or_change_energy_state',\n",
              "       'prevent_structural_failure', 'modify_color'], dtype=object),\n",
              "       array(['protect_from_harm', 'protect_from_non-living_threats',\n",
              "       'manage_structural_forces', 'maintain_structural_integrity',\n",
              "       'attach', 'physically_assemble/disassemble'], dtype=object),\n",
              "       array(['process_resources', 'sense_send_or_process_information',\n",
              "       'sense_signals/environmental_cues', 'distribute_resources',\n",
              "       'protect_from_harm', 'protect_from_non-living_threats',\n",
              "       'capture_resources', 'move', 'expel_resources',\n",
              "       'sense_touch_and_mechanical_forces', 'distribute_energy'],\n",
              "      dtype=object),\n",
              "       array(['sense_send_or_process_information',\n",
              "       'sense_signals/environmental_cues',\n",
              "       'chemically_modify_or_change_energy_state', 'protect_from_animals'],\n",
              "      dtype=object),\n",
              "       array(['sense_send_or_process_information',\n",
              "       'sense_signals/environmental_cues',\n",
              "       'protect_from_non-living_threats', 'protect_from_harm',\n",
              "       'sense_light_in_the_visible_spectrum',\n",
              "       'physically_assemble/disassemble'], dtype=object),\n",
              "       array(['protect_from_living_threats', 'protect_from_harm',\n",
              "       'sense_send_or_process_information', 'protect_from_animals',\n",
              "       'protect_from_microbes', 'physically_assemble/disassemble',\n",
              "       'send_signals'], dtype=object),\n",
              "       array(['physically_assemble/disassemble', 'physically_assemble_structure',\n",
              "       'sense_send_or_process_information'], dtype=object),\n",
              "       array(['move', 'active_movement', 'actively_move_through/on_solids',\n",
              "       'manage_structural_forces', 'maintain_structural_integrity',\n",
              "       'actively_move_through/on_liquids', 'attach', 'passive_movement',\n",
              "       'attach_temporarily'], dtype=object),\n",
              "       array(['protect_from_harm', 'process_resources',\n",
              "       'maintain_structural_integrity', 'move',\n",
              "       'protect_from_non-living_threats',\n",
              "       'sense_send_or_process_information', 'manage_structural_forces',\n",
              "       'active_movement', 'change_size_or_color', 'distribute_resources',\n",
              "       'protect_from_living_threats', 'protect_from_animals', 'attach',\n",
              "       'passive_movement', 'prevent_structural_failure'], dtype=object),\n",
              "       array(['protect_from_harm', 'process_resources',\n",
              "       'maintain_structural_integrity', 'move',\n",
              "       'protect_from_non-living_threats',\n",
              "       'sense_send_or_process_information', 'manage_structural_forces',\n",
              "       'active_movement', 'change_size_or_color', 'distribute_resources',\n",
              "       'protect_from_living_threats', 'protect_from_animals', 'attach',\n",
              "       'passive_movement', 'prevent_structural_failure'], dtype=object),\n",
              "       array(['chemically_modify_or_change_energy_state', 'change_energy_state',\n",
              "       'chemically_break_down', 'protect_from_harm',\n",
              "       'sense_signals/environmental_cues',\n",
              "       'chemically_break_down_organic_compounds',\n",
              "       'sense_send_or_process_information'], dtype=object),\n",
              "       array(['protect_from_harm', 'process_resources',\n",
              "       'maintain_structural_integrity', 'move',\n",
              "       'protect_from_non-living_threats',\n",
              "       'sense_send_or_process_information', 'manage_structural_forces',\n",
              "       'active_movement', 'change_size_or_color', 'distribute_resources',\n",
              "       'protect_from_living_threats', 'protect_from_animals', 'attach',\n",
              "       'passive_movement', 'prevent_structural_failure'], dtype=object),\n",
              "       array(['process_resources', 'protect_from_harm',\n",
              "       'protect_from_living_threats', 'protect_from_animals',\n",
              "       'distribute_resources', 'cooperate_within/between_species',\n",
              "       'distribute_liquids'], dtype=object),\n",
              "       array(['protect_from_harm', 'process_resources',\n",
              "       'maintain_structural_integrity', 'move',\n",
              "       'protect_from_non-living_threats',\n",
              "       'sense_send_or_process_information', 'manage_structural_forces',\n",
              "       'active_movement', 'change_size_or_color', 'distribute_resources',\n",
              "       'protect_from_living_threats', 'protect_from_animals', 'attach',\n",
              "       'passive_movement', 'prevent_structural_failure'], dtype=object),\n",
              "       array(['protect_from_harm', 'process_resources',\n",
              "       'maintain_structural_integrity', 'move',\n",
              "       'protect_from_non-living_threats',\n",
              "       'sense_send_or_process_information', 'manage_structural_forces',\n",
              "       'active_movement', 'change_size_or_color', 'distribute_resources',\n",
              "       'protect_from_living_threats', 'protect_from_animals', 'attach',\n",
              "       'passive_movement', 'prevent_structural_failure'], dtype=object),\n",
              "       array(['physically_assemble/disassemble', 'physically_assemble_structure'],\n",
              "      dtype=object),\n",
              "       array(['physically_assemble/disassemble',\n",
              "       'sense_send_or_process_information', 'optimize_shape/materials'],\n",
              "      dtype=object)], dtype=object)"
            ]
          },
          "metadata": {
            "tags": []
          },
          "execution_count": 0
        }
      ]
    },
    {
      "cell_type": "code",
      "metadata": {
        "id": "hbSkPGMbyQJm"
      },
      "source": [
        "all_labels = np.concatenate([train_labels, test_labels], axis=0)\n",
        "labels = np.array(list(set(label for label_list in all_labels for label in label_list)))\n",
        "\n",
        "label2idx = {label: idx for idx, label in enumerate(labels)}\n",
        "idx2label = {idx: label for idx, label in enumerate(labels)}"
      ],
      "execution_count": null,
      "outputs": []
    },
    {
      "cell_type": "code",
      "metadata": {
        "colab": {
          "background_save": true
        },
        "id": "t9A-NFo-t6QV"
      },
      "source": [
        "mlb = MultiLabelBinarizer(sparse_output=False, classes=labels)\n",
        "res_sparse = mlb.fit_transform(top_res_labels)\n",
        "test_sparse = mlb.fit_transform(test_labels)\n",
        "MCM = multilabel_confusion_matrix(test_sparse, res_sparse, labels=[label2idx[label] for label in labels])"
      ],
      "execution_count": null,
      "outputs": []
    },
    {
      "cell_type": "code",
      "metadata": {
        "colab": {
          "base_uri": "https://localhost:8080/"
        },
        "id": "Tkb28VF1Vmst",
        "outputId": "862770ec-03dc-4302-84d4-fa829fe2a6fc"
      },
      "source": [
        "MCM.shape"
      ],
      "execution_count": null,
      "outputs": [
        {
          "output_type": "execute_result",
          "data": {
            "text/plain": [
              "(130, 2, 2)"
            ]
          },
          "metadata": {
            "tags": []
          },
          "execution_count": 51
        }
      ]
    },
    {
      "cell_type": "code",
      "metadata": {
        "colab": {
          "base_uri": "https://localhost:8080/"
        },
        "id": "SzshCvfKWNzn",
        "outputId": "0a3cfd43-ccee-4961-e0a3-0680c730f88a"
      },
      "source": [
        "# a confusion matrix\n",
        "# [[TN FN]\n",
        "#  [FP TP]]\n",
        "\n",
        "print(\"CONFUSION MATRIX FORMAT:\\n[[true_negatives  false_negatives]\\n [false_positives true_positives ]]\")\n",
        "for idx, matrix in enumerate(MCM):\n",
        "    print(idx2label[idx])\n",
        "    print(matrix)"
      ],
      "execution_count": null,
      "outputs": [
        {
          "output_type": "stream",
          "text": [
            "CONFUSION MATRIX FORMAT:\n",
            "[[true_negatives  false_negatives]\n",
            " [false_positives true_positives ]]\n",
            "protect_from_non-living_threats\n",
            "[[46 35]\n",
            " [ 4 15]]\n",
            "manage_environmental_disturbances\n",
            "[[98  0]\n",
            " [ 2  0]]\n",
            "prevent_fatigue\n",
            "[[100   0]\n",
            " [  0   0]]\n",
            "sense_disease\n",
            "[[100   0]\n",
            " [  0   0]]\n",
            "protect_from_loss_of_liquids\n",
            "[[96  0]\n",
            " [ 4  0]]\n",
            "modify/convert_mechanical_energy\n",
            "[[99  0]\n",
            " [ 1  0]]\n",
            "passively_move_through/on_liquids\n",
            "[[97  0]\n",
            " [ 3  0]]\n",
            "sense_shape_and/or_pattern\n",
            "[[98  0]\n",
            " [ 2  0]]\n",
            "send_signals\n",
            "[[91  5]\n",
            " [ 2  2]]\n",
            "store_resources\n",
            "[[96  0]\n",
            " [ 4  0]]\n",
            "send_light_signals_in_the_non-visible_spectrum\n",
            "[[100   0]\n",
            " [  0   0]]\n",
            "protect_from_harm\n",
            "[[33 35]\n",
            " [ 7 25]]\n",
            "distribute_solids\n",
            "[[97  0]\n",
            " [ 3  0]]\n",
            "chemically_modify_or_change_energy_state\n",
            "[[82 12]\n",
            " [ 5  1]]\n",
            "store_energy\n",
            "[[99  0]\n",
            " [ 1  0]]\n",
            "protect_from_living_threats\n",
            "[[80  5]\n",
            " [10  5]]\n",
            "expel_liquids\n",
            "[[100   0]\n",
            " [  0   0]]\n",
            "manage_environmental_disturbances_in_a_community\n",
            "[[100   0]\n",
            " [  0   0]]\n",
            "actively_move_through/on_solids\n",
            "[[96  1]\n",
            " [ 3  0]]\n",
            "protect_from_animals\n",
            "[[80 10]\n",
            " [ 8  2]]\n",
            "prevent_fracture/rupture\n",
            "[[97  1]\n",
            " [ 2  0]]\n",
            "prevent_deformation\n",
            "[[96  1]\n",
            " [ 3  0]]\n",
            "maintain_structural_integrity\n",
            "[[43 42]\n",
            " [ 7  8]]\n",
            "active_movement\n",
            "[[87  3]\n",
            " [ 7  3]]\n",
            "sense_motion\n",
            "[[100   0]\n",
            " [  0   0]]\n",
            "process_resources\n",
            "[[47 36]\n",
            " [ 7 10]]\n",
            "capture_gases\n",
            "[[100   0]\n",
            " [  0   0]]\n",
            "maintain_ecological_community\n",
            "[[88  1]\n",
            " [10  1]]\n",
            "control_erosion\n",
            "[[100   0]\n",
            " [  0   0]]\n",
            "move_through_gases\n",
            "[[99  0]\n",
            " [ 1  0]]\n",
            "chemically_assemble_organic_compounds\n",
            "[[95  1]\n",
            " [ 4  0]]\n",
            "manage_wear\n",
            "[[92  2]\n",
            " [ 6  0]]\n",
            "modify/convert_thermal_energy\n",
            "[[100   0]\n",
            " [  0   0]]\n",
            "passive_movement\n",
            "[[91  2]\n",
            " [ 7  0]]\n",
            "sense_sound/vibrations\n",
            "[[100   0]\n",
            " [  0   0]]\n",
            "prevent_structural_failure\n",
            "[[91  5]\n",
            " [ 4  0]]\n",
            "actively_move_through_gases\n",
            "[[96  0]\n",
            " [ 3  1]]\n",
            "cooperate_within/between_species\n",
            "[[96  2]\n",
            " [ 2  0]]\n",
            "protect_from_fire\n",
            "[[100   0]\n",
            " [  0   0]]\n",
            "distribute_liquids\n",
            "[[94  0]\n",
            " [ 6  0]]\n",
            "sense_send_or_process_information\n",
            "[[60 22]\n",
            " [ 7 11]]\n",
            "distribute_resources\n",
            "[[83  7]\n",
            " [ 9  1]]\n",
            "change_size_or_color\n",
            "[[84  7]\n",
            " [ 8  1]]\n",
            "attach_permanently\n",
            "[[97  0]\n",
            " [ 3  0]]\n",
            "attach\n",
            "[[88  2]\n",
            " [ 8  2]]\n",
            "physically_assemble/disassemble\n",
            "[[62 25]\n",
            " [ 9  4]]\n",
            "attach_temporarily\n",
            "[[92  1]\n",
            " [ 6  1]]\n",
            "passively_move_through/on_solids\n",
            "[[97  0]\n",
            " [ 3  0]]\n",
            "protect_from_excess_liquids\n",
            "[[99  0]\n",
            " [ 1  0]]\n",
            "store_soilds\n",
            "[[100   0]\n",
            " [  0   0]]\n",
            "physically_assemble_structure\n",
            "[[86  5]\n",
            " [ 5  4]]\n",
            "change_chemical_color/pigmentation\n",
            "[[99  0]\n",
            " [ 1  0]]\n",
            "protect_from_radiation\n",
            "[[99  0]\n",
            " [ 1  0]]\n",
            "change_energy_state\n",
            "[[93  5]\n",
            " [ 1  1]]\n",
            "camouflage/mimicry\n",
            "[[100   0]\n",
            " [  0   0]]\n",
            "sense_light_in_the_non-visible_spectrum\n",
            "[[99  0]\n",
            " [ 1  0]]\n",
            "expel_solids\n",
            "[[99  0]\n",
            " [ 1  0]]\n",
            "manage_impact\n",
            "[[96  0]\n",
            " [ 4  0]]\n",
            "passively_move_through_gases\n",
            "[[97  0]\n",
            " [ 3  0]]\n",
            "move\n",
            "[[55 29]\n",
            " [ 5 11]]\n",
            "sense_chemicals\n",
            "[[96  0]\n",
            " [ 4  0]]\n",
            "protect_from_chemicals\n",
            "[[94  5]\n",
            " [ 1  0]]\n",
            "protect_from_gases\n",
            "[[98  0]\n",
            " [ 2  0]]\n",
            "sense_electricity/magnetism\n",
            "[[99  0]\n",
            " [ 1  0]]\n",
            "modify/convert_electrical_energy\n",
            "[[99  0]\n",
            " [ 1  0]]\n",
            "manage_populations/pests/diseases\n",
            "[[98  0]\n",
            " [ 2  0]]\n",
            "sense_touch_and_mechanical_forces\n",
            "[[95  2]\n",
            " [ 2  1]]\n",
            "optimize_shape/materials\n",
            "[[85 10]\n",
            " [ 3  2]]\n",
            "sense_temperature_cues\n",
            "[[99  0]\n",
            " [ 1  0]]\n",
            "protect_from_plants\n",
            "[[100   0]\n",
            " [  0   0]]\n",
            "manage_shear\n",
            "[[96  0]\n",
            " [ 4  0]]\n",
            "individual_benefit\n",
            "[[90  1]\n",
            " [ 9  0]]\n",
            "differentiate_signal_from_noise\n",
            "[[100   0]\n",
            " [  0   0]]\n",
            "capture_solids\n",
            "[[96  1]\n",
            " [ 3  0]]\n",
            "chemically_assemble\n",
            "[[95  2]\n",
            " [ 3  0]]\n",
            "protect_from_microbes\n",
            "[[95  0]\n",
            " [ 4  1]]\n",
            "sense_atmospheric_conditions\n",
            "[[100   0]\n",
            " [  0   0]]\n",
            "self-assemble\n",
            "[[98  0]\n",
            " [ 2  0]]\n",
            "sense_signals/environmental_cues\n",
            "[[72 20]\n",
            " [ 3  5]]\n",
            "store_gases\n",
            "[[100   0]\n",
            " [  0   0]]\n",
            "capture_resources\n",
            "[[91  3]\n",
            " [ 6  0]]\n",
            "send_sound_signals\n",
            "[[99  0]\n",
            " [ 1  0]]\n",
            "send_light_signals_in_the_visible_spectrum\n",
            "[[98  1]\n",
            " [ 1  0]]\n",
            "actively_move_through/on_liquids\n",
            "[[99  1]\n",
            " [ 0  0]]\n",
            "change_size/shape\n",
            "[[89  3]\n",
            " [ 7  1]]\n",
            "expel_resources\n",
            "[[98  0]\n",
            " [ 2  0]]\n",
            "respond_to_signals\n",
            "[[91  0]\n",
            " [ 9  0]]\n",
            "manage_drag/turbulence\n",
            "[[100   0]\n",
            " [  0   0]]\n",
            "protect_from_wind\n",
            "[[99  0]\n",
            " [ 1  0]]\n",
            "coordinate_by_self-organization\n",
            "[[96  1]\n",
            " [ 3  0]]\n",
            "send_chemical_signals\n",
            "[[98  0]\n",
            " [ 2  0]]\n",
            "protect_from_fungi\n",
            "[[99  0]\n",
            " [ 1  0]]\n",
            "protect_from_light\n",
            "[[98  0]\n",
            " [ 2  0]]\n",
            "protect_from_temperature\n",
            "[[90  3]\n",
            " [ 4  3]]\n",
            "absorb_and/or_filter_gases\n",
            "[[100   0]\n",
            " [  0   0]]\n",
            "maintain_biodiversity\n",
            "[[99  0]\n",
            " [ 1  0]]\n",
            "absorb_and/or_filter_resources\n",
            "[[98  0]\n",
            " [ 2  0]]\n",
            "change_structural_color\n",
            "[[99  0]\n",
            " [ 1  0]]\n",
            "sense_light_in_the_visible_spectrum\n",
            "[[98  0]\n",
            " [ 1  1]]\n",
            "move_through/on_solids\n",
            "[[100   0]\n",
            " [  0   0]]\n",
            "convert_signals\n",
            "[[99  0]\n",
            " [ 1  0]]\n",
            "regulate_reproduction_or_growth\n",
            "[[94  0]\n",
            " [ 6  0]]\n",
            "group_benefit\n",
            "[[97  0]\n",
            " [ 3  0]]\n",
            "break_down_structure\n",
            "[[98  1]\n",
            " [ 1  0]]\n",
            "chemically_break_down_organic_compounds\n",
            "[[98  1]\n",
            " [ 1  0]]\n",
            "modify/convert_chemical_energy\n",
            "[[100   0]\n",
            " [  0   0]]\n",
            "send_electrical/magnetic_signals\n",
            "[[100   0]\n",
            " [  0   0]]\n",
            "modify/convert_magnetic_energy\n",
            "[[100   0]\n",
            " [  0   0]]\n",
            "chemically_break_down_inorganic_compounds\n",
            "[[100   0]\n",
            " [  0   0]]\n",
            "distribute_energy\n",
            "[[99  0]\n",
            " [ 1  0]]\n",
            "absorb_and/or_filter_liquids\n",
            "[[99  0]\n",
            " [ 1  0]]\n",
            "manage_structural_forces\n",
            "[[77  9]\n",
            " [11  3]]\n",
            "capture_liquids\n",
            "[[98  0]\n",
            " [ 2  0]]\n",
            "prevent_buckling\n",
            "[[97  3]\n",
            " [ 0  0]]\n",
            "protect_from_ice\n",
            "[[99  0]\n",
            " [ 1  0]]\n",
            "compete_within/between_species\n",
            "[[97  0]\n",
            " [ 3  0]]\n",
            "chemically_break_down\n",
            "[[97  2]\n",
            " [ 1  0]]\n",
            "process_signals\n",
            "[[91  0]\n",
            " [ 9  0]]\n",
            "move_through/on_liquids\n",
            "[[99  0]\n",
            " [ 1  0]]\n",
            "modify_color\n",
            "[[98  1]\n",
            " [ 1  0]]\n",
            "modify/convert_light_energy\n",
            "[[100   0]\n",
            " [  0   0]]\n",
            "store_liquids\n",
            "[[97  0]\n",
            " [ 3  0]]\n",
            "absorb_and/or_filter_solids\n",
            "[[99  0]\n",
            " [ 1  0]]\n",
            "expel_gases\n",
            "[[99  0]\n",
            " [ 1  0]]\n",
            "distribute_gases\n",
            "[[98  0]\n",
            " [ 2  0]]\n",
            "capture_energy\n",
            "[[100   0]\n",
            " [  0   0]]\n",
            "manage_stress/strain\n",
            "[[90  2]\n",
            " [ 8  0]]\n",
            "sense_spatial_awareness/balance/orientation\n",
            "[[100   0]\n",
            " [  0   0]]\n",
            "detox/purify\n",
            "[[100   0]\n",
            " [  0   0]]\n",
            "protect_from_solids\n",
            "[[99  0]\n",
            " [ 1  0]]\n"
          ],
          "name": "stdout"
        }
      ]
    },
    {
      "cell_type": "markdown",
      "metadata": {
        "id": "JJ_0kW2GK1Hw"
      },
      "source": [
        ""
      ]
    },
    {
      "cell_type": "code",
      "metadata": {
        "id": "R8-w33duCHah"
      },
      "source": [
        "confmat_data = [(idx, idx2label[idx], matrix[0][0], matrix[0][1], matrix[1][0], matrix[1][1]) for idx, matrix in enumerate(MCM)]\n",
        "columns = ['index', 'label', 'TN', 'FN', 'FP', 'TP']\n",
        "confmat_df = pd.DataFrame(confmat_data, columns=columns)"
      ],
      "execution_count": null,
      "outputs": []
    },
    {
      "cell_type": "code",
      "metadata": {
        "colab": {
          "background_save": true,
          "base_uri": "https://localhost:8080/",
          "height": 419
        },
        "id": "ghAVC3o5NPqc",
        "outputId": "38fa8f9a-d4a3-4717-e887-f99956ea1bb5"
      },
      "source": [
        "confmat_df"
      ],
      "execution_count": null,
      "outputs": [
        {
          "output_type": "execute_result",
          "data": {
            "text/plain": [
              "[0.3684210526315789,\n",
              " 0.5,\n",
              " 0.0,\n",
              " 0.0,\n",
              " 0.25,\n",
              " 1.0,\n",
              " 0.3333333333333333,\n",
              " 0.0,\n",
              " 0.75,\n",
              " 0.0,\n",
              " 0.0,\n",
              " 0.5,\n",
              " 0.3333333333333333,\n",
              " 0.5,\n",
              " 0.0,\n",
              " 0.5333333333333333,\n",
              " 0.0,\n",
              " 0.0,\n",
              " 0.3333333333333333,\n",
              " 0.5,\n",
              " 0.0,\n",
              " 0.0,\n",
              " 0.6,\n",
              " 0.4,\n",
              " 0.0,\n",
              " 0.5882352941176471,\n",
              " 0.0,\n",
              " 0.45454545454545453,\n",
              " 0.0,\n",
              " 0.0,\n",
              " 0.5,\n",
              " 0.6666666666666666,\n",
              " 0.0,\n",
              " 0.42857142857142855,\n",
              " 0.0,\n",
              " 0.25,\n",
              " 0.75,\n",
              " 0.5,\n",
              " 0.0,\n",
              " 0.16666666666666666,\n",
              " 0.8888888888888888,\n",
              " 0.5,\n",
              " 0.5555555555555556,\n",
              " 0.3333333333333333,\n",
              " 0.4,\n",
              " 0.6153846153846154,\n",
              " 0.14285714285714285,\n",
              " 0.0,\n",
              " 0.0,\n",
              " 0.0,\n",
              " 0.7777777777777778,\n",
              " 0.0,\n",
              " 0.0,\n",
              " 1.0,\n",
              " 0.0,\n",
              " 1.0,\n",
              " 0.0,\n",
              " 0.5,\n",
              " 0.0,\n",
              " 0.4375,\n",
              " 0.0,\n",
              " 0.0,\n",
              " 0.0,\n",
              " 0.0,\n",
              " 1.0,\n",
              " 0.5,\n",
              " 1.0,\n",
              " 0.6,\n",
              " 0.0,\n",
              " 0.0,\n",
              " 0.25,\n",
              " 0.2222222222222222,\n",
              " 0.0,\n",
              " 0.6666666666666666,\n",
              " 0.3333333333333333,\n",
              " 0.6,\n",
              " 0.0,\n",
              " 0.0,\n",
              " 0.75,\n",
              " 0.0,\n",
              " 0.8333333333333334,\n",
              " 1.0,\n",
              " 1.0,\n",
              " 0.0,\n",
              " 0.625,\n",
              " 0.5,\n",
              " 0.1111111111111111,\n",
              " 0.0,\n",
              " 0.0,\n",
              " 0.3333333333333333,\n",
              " 0.5,\n",
              " 0.0,\n",
              " 0.0,\n",
              " 0.42857142857142855,\n",
              " 0.0,\n",
              " 1.0,\n",
              " 0.5,\n",
              " 0.0,\n",
              " 1.0,\n",
              " 0.0,\n",
              " 0.0,\n",
              " 0.16666666666666666,\n",
              " 0.6666666666666666,\n",
              " 0.0,\n",
              " 0.0,\n",
              " 0.0,\n",
              " 0.0,\n",
              " 0.0,\n",
              " 0.0,\n",
              " 1.0,\n",
              " 1.0,\n",
              " 0.35714285714285715,\n",
              " 1.0,\n",
              " 0.0,\n",
              " 0.0,\n",
              " 0.0,\n",
              " 0.0,\n",
              " 0.3333333333333333,\n",
              " 0.0,\n",
              " 0.0,\n",
              " 0.0,\n",
              " 0.0,\n",
              " 0.0,\n",
              " 0.0,\n",
              " 0.5,\n",
              " 0.0,\n",
              " 0.25,\n",
              " 0.0,\n",
              " 0.0,\n",
              " 0.0]"
            ]
          },
          "metadata": {
            "tags": []
          },
          "execution_count": 0
        }
      ]
    },
    {
      "cell_type": "code",
      "metadata": {
        "id": "vdkr3R4VK7B4"
      },
      "source": [
        "confmat_df[['precision']] = confmat_df.apply(\n",
        "    lambda row: 0 if (row['TP'] + row['FP']) == 0 else (row['TP'] / (row['TP'] + row['FP'])),\n",
        "    axis=1\n",
        ")"
      ],
      "execution_count": null,
      "outputs": []
    },
    {
      "cell_type": "markdown",
      "metadata": {
        "id": "N1cZGbJ5zZd7"
      },
      "source": [
        "## New confusion matrix work"
      ]
    },
    {
      "cell_type": "code",
      "metadata": {
        "colab": {
          "base_uri": "https://localhost:8080/"
        },
        "id": "Yu4uvKE2zgS8",
        "outputId": "b1bc083b-e7f1-4662-c736-1b6b46196ee1"
      },
      "source": [
        "# top_res_labels = res_labels[:,:k]\n",
        "threshold = 0.1\n",
        "# np.argmax(res_score < threshold) becomes the number of labels scoring above the threshold\n",
        "top_res_labels = np.array(list(res_label[:np.argmax(res_score < threshold)] for res_label, res_score in zip(res_labels, res_scores)))\n",
        "top_res_labels"
      ],
      "execution_count": null,
      "outputs": [
        {
          "output_type": "execute_result",
          "data": {
            "text/plain": [
              "array([array(['maintain_ecological_community', 'individual_benefit',\n",
              "       'coordinate_by_self-organization'], dtype=object),\n",
              "       array(['protect_from_harm', 'protect_from_living_threats',\n",
              "       'protect_from_animals'], dtype=object),\n",
              "       array(['chemically_modify_or_change_energy_state', 'change_energy_state',\n",
              "       'protect_from_harm', 'protect_from_non-living_threats',\n",
              "       'self-assemble', 'modify/convert_thermal_energy',\n",
              "       'protect_from_light', 'chemically_assemble'], dtype=object),\n",
              "       array(['physically_assemble/disassemble', 'protect_from_light',\n",
              "       'camouflage/mimicry'], dtype=object),\n",
              "       array(['move', 'active_movement', 'move_through/on_liquids',\n",
              "       'actively_move_through/on_solids'], dtype=object),\n",
              "       array(['modify_color', 'change_structural_color', 'change_size_or_color',\n",
              "       'sense_temperature_cues', 'camouflage/mimicry',\n",
              "       'sense_send_or_process_information'], dtype=object),\n",
              "       array(['capture_solids', 'capture_resources', 'process_resources',\n",
              "       'move_through/on_liquids', 'cooperate_within/between_species',\n",
              "       'sense_temperature_cues', 'absorb_and/or_filter_resources',\n",
              "       'sense_signals/environmental_cues', 'change_size_or_color',\n",
              "       'group_benefit', 'change_chemical_color/pigmentation'],\n",
              "      dtype=object),\n",
              "       array(['maintain_structural_integrity', 'manage_structural_forces',\n",
              "       'chemically_assemble', 'physically_assemble/disassemble',\n",
              "       'chemically_modify_or_change_energy_state'], dtype=object),\n",
              "       array(['modify_color', 'change_structural_color', 'change_size_or_color',\n",
              "       'sense_send_or_process_information', 'send_signals',\n",
              "       'change_chemical_color/pigmentation'], dtype=object),\n",
              "       array(['protect_from_harm', 'protect_from_living_threats',\n",
              "       'chemically_modify_or_change_energy_state', 'protect_from_animals'],\n",
              "      dtype=object),\n",
              "       array(['chemically_modify_or_change_energy_state', 'protect_from_harm',\n",
              "       'protect_from_living_threats'], dtype=object),\n",
              "       array(['maintain_ecological_community', 'group_benefit',\n",
              "       'manage_populations/pests/diseases',\n",
              "       'chemically_modify_or_change_energy_state', 'change_size_or_color'],\n",
              "      dtype=object),\n",
              "       array(['change_size_or_color', 'move_through/on_liquids', 'modify_color',\n",
              "       'sense_motion', 'physically_assemble/disassemble',\n",
              "       'camouflage/mimicry', 'optimize_shape/materials'], dtype=object),\n",
              "       array(['maintain_structural_integrity', 'process_resources',\n",
              "       'absorb_and/or_filter_resources', 'absorb_and/or_filter_liquids',\n",
              "       'prevent_buckling'], dtype=object),\n",
              "       array(['chemically_modify_or_change_energy_state',\n",
              "       'absorb_and/or_filter_resources', 'absorb_and/or_filter_liquids'],\n",
              "      dtype=object),\n",
              "       array(['protect_from_harm', 'change_size_or_color',\n",
              "       'protect_from_non-living_threats', 'camouflage/mimicry',\n",
              "       'protect_from_radiation'], dtype=object),\n",
              "       array(['protect_from_harm', 'protect_from_non-living_threats',\n",
              "       'protect_from_temperature', 'sense_temperature_cues'], dtype=object),\n",
              "       array(['maintain_ecological_community', 'sense_motion'], dtype=object),\n",
              "       array(['camouflage/mimicry', 'physically_assemble/disassemble'],\n",
              "      dtype=object),\n",
              "       array(['compete_within/between_species', 'group_benefit',\n",
              "       'maintain_ecological_community'], dtype=object),\n",
              "       array(['protect_from_living_threats', 'protect_from_harm',\n",
              "       'protect_from_animals', 'protect_from_plants'], dtype=object),\n",
              "       array(['chemically_modify_or_change_energy_state',\n",
              "       'absorb_and/or_filter_resources', 'change_size_or_color'],\n",
              "      dtype=object),\n",
              "       array(['maintain_ecological_community', 'individual_benefit',\n",
              "       'sense_motion', 'protect_from_living_threats'], dtype=object),\n",
              "       array(['change_chemical_color/pigmentation'], dtype=object),\n",
              "       array(['protect_from_living_threats', 'protect_from_harm',\n",
              "       'protect_from_animals', 'compete_within/between_species',\n",
              "       'manage_populations/pests/diseases',\n",
              "       'chemically_modify_or_change_energy_state',\n",
              "       'maintain_ecological_community', 'group_benefit'], dtype=object),\n",
              "       array(['sense_send_or_process_information',\n",
              "       'sense_signals/environmental_cues', 'sense_temperature_cues',\n",
              "       'sense_shape_and/or_pattern', 'sense_motion',\n",
              "       'sense_sound/vibrations'], dtype=object),\n",
              "       array(['physically_assemble/disassemble', 'optimize_shape/materials',\n",
              "       'physically_assemble_structure', 'camouflage/mimicry'],\n",
              "      dtype=object),\n",
              "       array(['maintain_structural_integrity', 'manage_structural_forces'],\n",
              "      dtype=object),\n",
              "       array(['protect_from_harm', 'protect_from_non-living_threats',\n",
              "       'protect_from_loss_of_liquids', 'maintain_structural_integrity',\n",
              "       'change_size_or_color'], dtype=object),\n",
              "       array(['maintain_ecological_community', 'individual_benefit',\n",
              "       'regulate_reproduction_or_growth', 'process_resources',\n",
              "       'expel_solids', 'expel_resources', 'protect_from_plants',\n",
              "       'distribute_solids', 'protect_from_living_threats',\n",
              "       'absorb_and/or_filter_resources', 'absorb_and/or_filter_gases',\n",
              "       'distribute_resources', 'protect_from_harm', 'chemically_assemble',\n",
              "       'cooperate_within/between_species'], dtype=object),\n",
              "       array(['sense_send_or_process_information', 'send_signals',\n",
              "       'sense_signals/environmental_cues',\n",
              "       'send_electrical/magnetic_signals',\n",
              "       'physically_assemble/disassemble', 'sense_temperature_cues',\n",
              "       'sense_motion', 'send_light_signals_in_the_non-visible_spectrum'],\n",
              "      dtype=object),\n",
              "       array(['protect_from_harm', 'protect_from_non-living_threats',\n",
              "       'chemically_modify_or_change_energy_state',\n",
              "       'chemically_break_down', 'change_size_or_color',\n",
              "       'protect_from_light'], dtype=object),\n",
              "       array(['protect_from_living_threats', 'protect_from_harm', 'send_signals',\n",
              "       'protect_from_animals', 'sense_send_or_process_information',\n",
              "       'send_light_signals_in_the_visible_spectrum', 'modify_color',\n",
              "       'change_size_or_color', 'sense_motion'], dtype=object),\n",
              "       array(['sense_signals/environmental_cues',\n",
              "       'sense_send_or_process_information', 'sense_temperature_cues',\n",
              "       'move_through/on_liquids', 'move'], dtype=object),\n",
              "       array(['sense_signals/environmental_cues',\n",
              "       'sense_send_or_process_information', 'sense_temperature_cues'],\n",
              "      dtype=object),\n",
              "       array(['change_size_or_color', 'maintain_ecological_community',\n",
              "       'move_through/on_liquids', 'group_benefit', 'change_size/shape',\n",
              "       'move'], dtype=object),\n",
              "       array(['move', 'physically_assemble/disassemble',\n",
              "       'optimize_shape/materials', 'change_size_or_color'], dtype=object),\n",
              "       array(['sense_signals/environmental_cues',\n",
              "       'sense_send_or_process_information', 'sense_temperature_cues',\n",
              "       'move_through/on_liquids', 'sense_motion'], dtype=object),\n",
              "       array(['maintain_ecological_community',\n",
              "       'chemically_modify_or_change_energy_state', 'chemically_assemble',\n",
              "       'self-assemble', 'regulate_reproduction_or_growth',\n",
              "       'individual_benefit', 'absorb_and/or_filter_resources',\n",
              "       'absorb_and/or_filter_gases', 'move_through/on_liquids',\n",
              "       'group_benefit', 'physically_assemble/disassemble',\n",
              "       'change_size_or_color'], dtype=object),\n",
              "       array(['chemically_modify_or_change_energy_state', 'protect_from_harm'],\n",
              "      dtype=object),\n",
              "       array(['absorb_and/or_filter_resources', 'process_resources',\n",
              "       'absorb_and/or_filter_liquids', 'absorb_and/or_filter_gases',\n",
              "       'capture_solids', 'change_energy_state'], dtype=object),\n",
              "       array(['change_size_or_color', 'move_through/on_liquids',\n",
              "       'physically_assemble/disassemble',\n",
              "       'sense_send_or_process_information', 'individual_benefit',\n",
              "       'maintain_ecological_community', 'move'], dtype=object),\n",
              "       array(['protect_from_living_threats', 'protect_from_harm',\n",
              "       'protect_from_animals'], dtype=object),\n",
              "       array(['protect_from_non-living_threats', 'protect_from_harm',\n",
              "       'protect_from_temperature'], dtype=object),\n",
              "       array(['chemically_modify_or_change_energy_state',\n",
              "       'absorb_and/or_filter_resources', 'change_energy_state',\n",
              "       'modify/convert_electrical_energy', 'chemically_assemble'],\n",
              "      dtype=object),\n",
              "       array(['sense_send_or_process_information',\n",
              "       'sense_signals/environmental_cues', 'move',\n",
              "       'sense_temperature_cues', 'physically_assemble/disassemble',\n",
              "       'optimize_shape/materials', 'active_movement',\n",
              "       'move_through/on_liquids'], dtype=object),\n",
              "       array(['sense_send_or_process_information',\n",
              "       'sense_signals/environmental_cues', 'sense_temperature_cues',\n",
              "       'sense_motion'], dtype=object),\n",
              "       array(['sense_send_or_process_information',\n",
              "       'sense_signals/environmental_cues', 'sense_temperature_cues',\n",
              "       'sense_motion', 'optimize_shape/materials',\n",
              "       'sense_sound/vibrations'], dtype=object),\n",
              "       array(['maintain_structural_integrity', 'manage_structural_forces',\n",
              "       'prevent_buckling', 'change_size_or_color',\n",
              "       'prevent_structural_failure', 'manage_impact'], dtype=object),\n",
              "       array(['sense_send_or_process_information',\n",
              "       'sense_signals/environmental_cues', 'sense_motion', 'send_signals'],\n",
              "      dtype=object),\n",
              "       array(['sense_send_or_process_information',\n",
              "       'sense_signals/environmental_cues', 'send_signals', 'modify_color',\n",
              "       'sense_temperature_cues', 'change_size_or_color'], dtype=object),\n",
              "       array(['change_size_or_color', 'modify_color', 'camouflage/mimicry',\n",
              "       'physically_assemble/disassemble',\n",
              "       'sense_send_or_process_information'], dtype=object),\n",
              "       array(['chemically_modify_or_change_energy_state'], dtype=object),\n",
              "       array(['sense_signals/environmental_cues',\n",
              "       'sense_send_or_process_information', 'sense_temperature_cues'],\n",
              "      dtype=object),\n",
              "       array(['process_resources', 'distribute_resources',\n",
              "       'cooperate_within/between_species', 'distribute_liquids'],\n",
              "      dtype=object),\n",
              "       array(['move', 'active_movement', 'move_through_gases',\n",
              "       'maintain_structural_integrity', 'manage_structural_forces'],\n",
              "      dtype=object),\n",
              "       array(['sense_signals/environmental_cues',\n",
              "       'sense_send_or_process_information', 'sense_temperature_cues'],\n",
              "      dtype=object),\n",
              "       array(['change_size_or_color', 'sense_temperature_cues'], dtype=object),\n",
              "       array(['chemically_modify_or_change_energy_state', 'chemically_assemble',\n",
              "       'self-assemble', 'modify/convert_chemical_energy',\n",
              "       'change_energy_state', 'chemically_break_down',\n",
              "       'chemically_break_down_organic_compounds'], dtype=object),\n",
              "       array(['protect_from_animals', 'protect_from_living_threats',\n",
              "       'protect_from_harm', 'sense_signals/environmental_cues'],\n",
              "      dtype=object),\n",
              "       array(['group_benefit', 'manage_populations/pests/diseases',\n",
              "       'chemically_modify_or_change_energy_state',\n",
              "       'maintain_ecological_community', 'protect_from_harm'], dtype=object),\n",
              "       array(['optimize_shape/materials', 'protect_from_animals', 'sense_motion'],\n",
              "      dtype=object),\n",
              "       array(['chemically_modify_or_change_energy_state', 'change_energy_state',\n",
              "       'chemically_break_down', 'group_benefit'], dtype=object),\n",
              "       array(['physically_assemble/disassemble',\n",
              "       'chemically_modify_or_change_energy_state', 'change_size_or_color',\n",
              "       'camouflage/mimicry', 'optimize_shape/materials'], dtype=object),\n",
              "       array(['physically_assemble/disassemble', 'manage_structural_forces',\n",
              "       'move', 'move_through/on_liquids', 'maintain_structural_integrity',\n",
              "       'camouflage/mimicry', 'optimize_shape/materials', 'manage_wear'],\n",
              "      dtype=object),\n",
              "       array(['sense_signals/environmental_cues', 'sense_temperature_cues',\n",
              "       'sense_send_or_process_information', 'change_size_or_color',\n",
              "       'move_through/on_liquids'], dtype=object),\n",
              "       array(['sense_send_or_process_information',\n",
              "       'sense_signals/environmental_cues', 'group_benefit',\n",
              "       'protect_from_harm', 'capture_solids',\n",
              "       'manage_populations/pests/diseases',\n",
              "       'maintain_ecological_community', 'sense_motion'], dtype=object),\n",
              "       array(['protect_from_harm', 'protect_from_living_threats',\n",
              "       'protect_from_animals'], dtype=object),\n",
              "       array(['move', 'manage_structural_forces', 'active_movement',\n",
              "       'move_through/on_liquids', 'actively_move_through/on_solids',\n",
              "       'maintain_structural_integrity', 'manage_wear'], dtype=object),\n",
              "       array(['sense_signals/environmental_cues',\n",
              "       'sense_send_or_process_information', 'sense_temperature_cues'],\n",
              "      dtype=object),\n",
              "       array(['change_size_or_color', 'change_size/shape'], dtype=object),\n",
              "       array(['sense_temperature_cues', 'sense_signals/environmental_cues',\n",
              "       'sense_send_or_process_information', 'modify_color',\n",
              "       'change_size_or_color', 'move_through/on_liquids',\n",
              "       'change_structural_color', 'camouflage/mimicry',\n",
              "       'physically_assemble/disassemble', 'optimize_shape/materials'],\n",
              "      dtype=object),\n",
              "       array(['protect_from_harm', 'protect_from_living_threats',\n",
              "       'protect_from_animals', 'chemically_modify_or_change_energy_state',\n",
              "       'compete_within/between_species'], dtype=object),\n",
              "       array(['protect_from_harm', 'protect_from_non-living_threats',\n",
              "       'protect_from_temperature', 'compete_within/between_species',\n",
              "       'sense_temperature_cues'], dtype=object),\n",
              "       array(['protect_from_harm', 'physically_assemble/disassemble',\n",
              "       'protect_from_light'], dtype=object),\n",
              "       array(['maintain_structural_integrity', 'manage_structural_forces',\n",
              "       'physically_assemble/disassemble', 'change_size_or_color',\n",
              "       'prevent_structural_failure', 'prevent_buckling',\n",
              "       'prevent_deformation', 'optimize_shape/materials', 'manage_wear'],\n",
              "      dtype=object),\n",
              "       array(['protect_from_living_threats', 'process_resources',\n",
              "       'absorb_and/or_filter_resources', 'absorb_and/or_filter_gases',\n",
              "       'protect_from_harm', 'expel_solids',\n",
              "       'regulate_reproduction_or_growth', 'protect_from_plants',\n",
              "       'maintain_ecological_community', 'distribute_solids',\n",
              "       'expel_resources'], dtype=object),\n",
              "       array(['move', 'active_movement', 'move_through/on_liquids',\n",
              "       'modify_color', 'actively_move_through/on_solids'], dtype=object),\n",
              "       array(['physically_assemble/disassemble', 'camouflage/mimicry',\n",
              "       'sense_send_or_process_information', 'sense_temperature_cues',\n",
              "       'modify_color', 'change_structural_color',\n",
              "       'move_through/on_liquids', 'change_size_or_color',\n",
              "       'optimize_shape/materials'], dtype=object),\n",
              "       array(['protect_from_harm', 'protect_from_non-living_threats',\n",
              "       'protect_from_temperature', 'protect_from_radiation'], dtype=object),\n",
              "       array(['sense_temperature_cues', 'sense_signals/environmental_cues',\n",
              "       'protect_from_harm', 'sense_motion',\n",
              "       'sense_send_or_process_information'], dtype=object),\n",
              "       array(['group_benefit', 'protect_from_temperature',\n",
              "       'sense_temperature_cues', 'protect_from_non-living_threats',\n",
              "       'protect_from_harm', 'change_size_or_color'], dtype=object),\n",
              "       array(['maintain_structural_integrity', 'prevent_structural_failure',\n",
              "       'manage_structural_forces', 'prevent_buckling', 'manage_wear'],\n",
              "      dtype=object),\n",
              "       array(['protect_from_harm'], dtype=object),\n",
              "       array(['move', 'active_movement', 'actively_move_through/on_liquids',\n",
              "       'passive_movement', 'move_through/on_liquids',\n",
              "       'passively_move_through/on_liquids'], dtype=object),\n",
              "       array(['move', 'active_movement', 'passive_movement',\n",
              "       'move_through/on_liquids'], dtype=object),\n",
              "       array(['protect_from_temperature', 'protect_from_non-living_threats',\n",
              "       'group_benefit', 'protect_from_harm',\n",
              "       'cooperate_within/between_species',\n",
              "       'maintain_ecological_community', 'sense_temperature_cues'],\n",
              "      dtype=object),\n",
              "       array(['change_size_or_color', 'change_chemical_color/pigmentation',\n",
              "       'group_benefit', 'process_resources'], dtype=object),\n",
              "       array(['protect_from_harm', 'chemically_modify_or_change_energy_state',\n",
              "       'protect_from_living_threats'], dtype=object),\n",
              "       array(['sense_send_or_process_information',\n",
              "       'sense_signals/environmental_cues', 'sense_motion',\n",
              "       'optimize_shape/materials'], dtype=object),\n",
              "       array(['move', 'active_movement', 'actively_move_through/on_solids',\n",
              "       'move_through/on_liquids', 'change_size_or_color', 'modify_color',\n",
              "       'change_structural_color'], dtype=object),\n",
              "       array(['protect_from_non-living_threats', 'protect_from_harm',\n",
              "       'protect_from_temperature'], dtype=object),\n",
              "       array(['change_size_or_color', 'move', 'modify_color',\n",
              "       'change_structural_color'], dtype=object),\n",
              "       array(['change_size_or_color', 'change_size/shape'], dtype=object),\n",
              "       array(['protect_from_temperature', 'protect_from_non-living_threats',\n",
              "       'protect_from_harm'], dtype=object),\n",
              "       array(['change_size_or_color', 'move_through/on_liquids',\n",
              "       'change_chemical_color/pigmentation'], dtype=object),\n",
              "       array(['protect_from_non-living_threats', 'protect_from_harm',\n",
              "       'protect_from_temperature', 'change_size_or_color'], dtype=object),\n",
              "       array(['maintain_structural_integrity', 'physically_assemble/disassemble',\n",
              "       'manage_structural_forces', 'break_down_structure'], dtype=object),\n",
              "       array(['protect_from_non-living_threats', 'protect_from_temperature',\n",
              "       'protect_from_harm'], dtype=object),\n",
              "       array(['modify_color', 'change_size_or_color', 'change_structural_color',\n",
              "       'camouflage/mimicry', 'send_signals',\n",
              "       'sense_send_or_process_information'], dtype=object)], dtype=object)"
            ]
          },
          "metadata": {
            "tags": []
          },
          "execution_count": 10
        }
      ]
    },
    {
      "cell_type": "code",
      "metadata": {
        "colab": {
          "base_uri": "https://localhost:8080/"
        },
        "id": "odw1wKmI10-b",
        "outputId": "3b325224-7386-4e27-e026-07cdcbecb969"
      },
      "source": [
        "parent_labels = set()\n",
        "with open(f'{DATASET}/taxonomy.txt', 'r') as tax_file:\n",
        "    for line in tax_file:\n",
        "        parent_label = line.split()[0]\n",
        "        parent_labels.add(parent_label)\n",
        "len(parent_labels)"
      ],
      "execution_count": null,
      "outputs": [
        {
          "output_type": "execute_result",
          "data": {
            "text/plain": [
              "30"
            ]
          },
          "metadata": {
            "tags": []
          },
          "execution_count": 30
        }
      ]
    },
    {
      "cell_type": "code",
      "metadata": {
        "id": "Cu_fDdMZ0Bv_"
      },
      "source": [
        "all_labels = np.concatenate([train_labels, test_labels], axis=0)\n",
        "\n",
        "label_count = dict()\n",
        "for label in label2idx:\n",
        "    label_count[label] = 0\n",
        "\n",
        "for label_list in all_labels:\n",
        "    for label in label_list:\n",
        "        label_count[label] += 1\n",
        "\n",
        "labels = np.array(sorted(list(set(label for label_list in all_labels for label in label_list)), \n",
        "                         key=lambda lbl: label_count[lbl],\n",
        "                         reverse=True))\n",
        "\n",
        "label2idx = {label: idx for idx, label in enumerate(labels)}\n",
        "idx2label = {idx: label for idx, label in enumerate(labels)}"
      ],
      "execution_count": null,
      "outputs": []
    },
    {
      "cell_type": "code",
      "metadata": {
        "id": "NuOQMd8F0kIG"
      },
      "source": [
        "preds_for_test_label = dict()\n",
        "test_label_count = dict()\n",
        "\n",
        "for test_label in label2idx:\n",
        "    test_label_count[test_label] = 0\n",
        "\n",
        "for test_label in label2idx:\n",
        "    preds_for_test_label[test_label] = dict()\n",
        "    for res_label in label2idx:\n",
        "        preds_for_test_label[test_label][res_label] = 0\n",
        "\n",
        "for test_label_list, res_label_list, res_score_list in zip(test_labels, res_labels, res_scores):\n",
        "    for test_label in test_label_list:\n",
        "        test_label_count[test_label] += 1\n",
        "        for res_label, res_score in zip(res_label_list, res_score_list):\n",
        "            preds_for_test_label[test_label][res_label] += res_score\n",
        "\n",
        "    # print(\"test_label_list\", test_label_list)\n",
        "    # print(\"top_res_label_list\", top_res_label_list)"
      ],
      "execution_count": null,
      "outputs": []
    },
    {
      "cell_type": "code",
      "metadata": {
        "id": "inKjBqr84fmU"
      },
      "source": [
        "num_labels = len(label2idx)\n",
        "conf_matrix = np.array(\n",
        "    [\n",
        "     [\n",
        "      # i is label2idx[test_label], j is label2idx[res_label]\n",
        "      preds_for_test_label[idx2label[i]][idx2label[j]] / test_label_count[idx2label[i]] if test_label_count[idx2label[i]] > 0 else 0\n",
        "      for j in range(num_labels)\n",
        "     ]\n",
        "     for i in range(num_labels)\n",
        "    ]\n",
        "    \n",
        ")\n"
      ],
      "execution_count": null,
      "outputs": []
    },
    {
      "cell_type": "code",
      "metadata": {
        "colab": {
          "base_uri": "https://localhost:8080/"
        },
        "id": "TrnwRU--8AFY",
        "outputId": "6dcdcd1c-4ae2-411a-bb6e-b913de96c70a"
      },
      "source": [
        "conf_matrix"
      ],
      "execution_count": null,
      "outputs": [
        {
          "output_type": "execute_result",
          "data": {
            "text/plain": [
              "array([[1.06862731e-01, 1.93774622e-06, 1.20991410e-06, ...,\n",
              "        3.18792951e-03, 4.54858025e-07, 2.87015806e-03],\n",
              "       [2.08876503e-04, 1.23323936e-01, 2.67598570e-01, ...,\n",
              "        5.31033203e-04, 2.16453239e-03, 5.12192580e-04],\n",
              "       [4.90042089e-03, 2.18420170e-04, 6.56346688e-01, ...,\n",
              "        8.81436987e-06, 7.89089444e-04, 1.22590940e-03],\n",
              "       ...,\n",
              "       [2.47102114e-04, 6.74900599e-04, 2.07476605e-05, ...,\n",
              "        1.17424550e-03, 6.34728512e-03, 2.40133442e-02],\n",
              "       [4.74291301e-04, 2.27344758e-03, 3.53760765e-06, ...,\n",
              "        2.12665251e-03, 4.20049252e-03, 2.90913926e-03],\n",
              "       [2.72550807e-03, 1.21996167e-04, 1.93961207e-03, ...,\n",
              "        1.53924108e-04, 1.00869208e-04, 7.53613810e-01]])"
            ]
          },
          "metadata": {
            "tags": []
          },
          "execution_count": 15
        }
      ]
    },
    {
      "cell_type": "code",
      "metadata": {
        "colab": {
          "base_uri": "https://localhost:8080/",
          "height": 1000
        },
        "id": "0nqb7A6h6sXA",
        "outputId": "1f9ea492-8531-43ad-fc9d-7818a7d38461"
      },
      "source": [
        "rc('xtick', labelsize=7)\n",
        "rc('ytick', labelsize=7)\n",
        "rc('font', size=30)\n",
        "\n",
        "label_limit = 131\n",
        "conf_matrix_small = conf_matrix[:label_limit, :label_limit]\n",
        "num_labels = label_limit\n",
        "row_labels = [idx2label[i] for i in range(num_labels)]\n",
        "col_labels = [idx2label[i] for i in range(num_labels)]\n",
        "\n",
        "plt.rcParams[\"figure.figsize\"] = (15, 15)\n",
        "fig, ax = plt.subplots()\n",
        "plt.matshow(conf_matrix_small, fignum=0)\n",
        "ax.set_title('Multilabel Confusion Matrix for MATCH on PeTaL data\\nLabels Sorted by Frequency', y=1.0, pad=15)\n",
        "ax.set_xlabel('Predicted labels')\n",
        "ax.set_ylabel('Ground truth labels')\n",
        "ax.xaxis.set_label_position('top')\n",
        "ax.xaxis.tick_top()\n",
        "plt.xticks(range(num_labels), col_labels, rotation='vertical')\n",
        "plt.yticks(range(num_labels), row_labels)\n",
        "plt.colorbar()\n",
        "# plt.rcParams[\"axes.titley\"] = 1.0\n",
        "# plt.rcParams[\"axes.titlepad\"] = 15\n",
        "plt.savefig(fname='../plots/mcm_20210721.jpg', facecolor='w', transparent=False)"
      ],
      "execution_count": null,
      "outputs": [
        {
          "output_type": "display_data",
          "data": {
            "image/png": "[encoded data removed]",
            "text/plain": [
              "<Figure size 1080x1080 with 2 Axes>"
            ]
          },
          "metadata": {
            "tags": [],
            "needs_background": "light"
          }
        }
      ]
    },
    {
      "cell_type": "code",
      "metadata": {
        "id": "JJcKzg9B1Wqw"
      },
      "source": [
        ""
      ],
      "execution_count": null,
      "outputs": []
    },
    {
      "cell_type": "code",
      "metadata": {
        "colab": {
          "base_uri": "https://localhost:8080/"
        },
        "id": "jTSEGqzLGdG1",
        "outputId": "cbbc6d37-f545-41c5-8e36-2a242bed00bc"
      },
      "source": [
        "from matplotlib import pyplot as plt\n",
        "matplotlib.rcParams.keys()"
      ],
      "execution_count": null,
      "outputs": [
        {
          "output_type": "execute_result",
          "data": {
            "text/plain": [
              "KeysView(RcParams({'_internal.classic_mode': False,\n",
              "          'agg.path.chunksize': 0,\n",
              "          'animation.avconv_args': [],\n",
              "          'animation.avconv_path': 'avconv',\n",
              "          'animation.bitrate': -1,\n",
              "          'animation.codec': 'h264',\n",
              "          'animation.convert_args': [],\n",
              "          'animation.convert_path': 'convert',\n",
              "          'animation.embed_limit': 20.0,\n",
              "          'animation.ffmpeg_args': [],\n",
              "          'animation.ffmpeg_path': 'ffmpeg',\n",
              "          'animation.frame_format': 'png',\n",
              "          'animation.html': 'none',\n",
              "          'animation.html_args': [],\n",
              "          'animation.writer': 'ffmpeg',\n",
              "          'axes.autolimit_mode': 'data',\n",
              "          'axes.axisbelow': 'line',\n",
              "          'axes.edgecolor': 'black',\n",
              "          'axes.facecolor': 'white',\n",
              "          'axes.formatter.limits': [-5, 6],\n",
              "          'axes.formatter.min_exponent': 0,\n",
              "          'axes.formatter.offset_threshold': 4,\n",
              "          'axes.formatter.use_locale': False,\n",
              "          'axes.formatter.use_mathtext': False,\n",
              "          'axes.formatter.useoffset': True,\n",
              "          'axes.grid': False,\n",
              "          'axes.grid.axis': 'both',\n",
              "          'axes.grid.which': 'major',\n",
              "          'axes.labelcolor': 'black',\n",
              "          'axes.labelpad': 4.0,\n",
              "          'axes.labelsize': 30.0,\n",
              "          'axes.labelweight': 'normal',\n",
              "          'axes.linewidth': 0.8,\n",
              "          'axes.prop_cycle': cycler('color', ['#1f77b4', '#ff7f0e', '#2ca02c', '#d62728', '#9467bd', '#8c564b', '#e377c2', '#7f7f7f', '#bcbd22', '#17becf']),\n",
              "          'axes.spines.bottom': True,\n",
              "          'axes.spines.left': True,\n",
              "          'axes.spines.right': True,\n",
              "          'axes.spines.top': True,\n",
              "          'axes.titlecolor': 'auto',\n",
              "          'axes.titlelocation': 'center',\n",
              "          'axes.titlepad': 15.0,\n",
              "          'axes.titlesize': 'large',\n",
              "          'axes.titleweight': 'normal',\n",
              "          'axes.unicode_minus': True,\n",
              "          'axes.xmargin': 0.05,\n",
              "          'axes.ymargin': 0.05,\n",
              "          'axes3d.grid': True,\n",
              "          'backend': 'module://ipykernel.pylab.backend_inline',\n",
              "          'backend_fallback': True,\n",
              "          'boxplot.bootstrap': None,\n",
              "          'boxplot.boxprops.color': 'black',\n",
              "          'boxplot.boxprops.linestyle': '-',\n",
              "          'boxplot.boxprops.linewidth': 1.0,\n",
              "          'boxplot.capprops.color': 'black',\n",
              "          'boxplot.capprops.linestyle': '-',\n",
              "          'boxplot.capprops.linewidth': 1.0,\n",
              "          'boxplot.flierprops.color': 'black',\n",
              "          'boxplot.flierprops.linestyle': 'none',\n",
              "          'boxplot.flierprops.linewidth': 1.0,\n",
              "          'boxplot.flierprops.marker': 'o',\n",
              "          'boxplot.flierprops.markeredgecolor': 'black',\n",
              "          'boxplot.flierprops.markeredgewidth': 1.0,\n",
              "          'boxplot.flierprops.markerfacecolor': 'none',\n",
              "          'boxplot.flierprops.markersize': 6.0,\n",
              "          'boxplot.meanline': False,\n",
              "          'boxplot.meanprops.color': 'C2',\n",
              "          'boxplot.meanprops.linestyle': '--',\n",
              "          'boxplot.meanprops.linewidth': 1.0,\n",
              "          'boxplot.meanprops.marker': '^',\n",
              "          'boxplot.meanprops.markeredgecolor': 'C2',\n",
              "          'boxplot.meanprops.markerfacecolor': 'C2',\n",
              "          'boxplot.meanprops.markersize': 6.0,\n",
              "          'boxplot.medianprops.color': 'C1',\n",
              "          'boxplot.medianprops.linestyle': '-',\n",
              "          'boxplot.medianprops.linewidth': 1.0,\n",
              "          'boxplot.notch': False,\n",
              "          'boxplot.patchartist': False,\n",
              "          'boxplot.showbox': True,\n",
              "          'boxplot.showcaps': True,\n",
              "          'boxplot.showfliers': True,\n",
              "          'boxplot.showmeans': False,\n",
              "          'boxplot.vertical': True,\n",
              "          'boxplot.whiskerprops.color': 'black',\n",
              "          'boxplot.whiskerprops.linestyle': '-',\n",
              "          'boxplot.whiskerprops.linewidth': 1.0,\n",
              "          'boxplot.whiskers': 1.5,\n",
              "          'contour.corner_mask': True,\n",
              "          'contour.negative_linestyle': 'dashed',\n",
              "          'datapath': '/usr/local/lib/python3.7/dist-packages/matplotlib/mpl-data',\n",
              "          'date.autoformatter.day': '%Y-%m-%d',\n",
              "          'date.autoformatter.hour': '%m-%d %H',\n",
              "          'date.autoformatter.microsecond': '%M:%S.%f',\n",
              "          'date.autoformatter.minute': '%d %H:%M',\n",
              "          'date.autoformatter.month': '%Y-%m',\n",
              "          'date.autoformatter.second': '%H:%M:%S',\n",
              "          'date.autoformatter.year': '%Y',\n",
              "          'docstring.hardcopy': False,\n",
              "          'errorbar.capsize': 0.0,\n",
              "          'figure.autolayout': False,\n",
              "          'figure.constrained_layout.h_pad': 0.04167,\n",
              "          'figure.constrained_layout.hspace': 0.02,\n",
              "          'figure.constrained_layout.use': False,\n",
              "          'figure.constrained_layout.w_pad': 0.04167,\n",
              "          'figure.constrained_layout.wspace': 0.02,\n",
              "          'figure.dpi': 72.0,\n",
              "          'figure.edgecolor': (1, 1, 1, 0),\n",
              "          'figure.facecolor': (1, 1, 1, 0),\n",
              "          'figure.figsize': [15.0, 15.0],\n",
              "          'figure.frameon': True,\n",
              "          'figure.max_open_warning': 20,\n",
              "          'figure.subplot.bottom': 0.125,\n",
              "          'figure.subplot.hspace': 0.2,\n",
              "          'figure.subplot.left': 0.125,\n",
              "          'figure.subplot.right': 0.9,\n",
              "          'figure.subplot.top': 0.88,\n",
              "          'figure.subplot.wspace': 0.2,\n",
              "          'figure.titlesize': 'large',\n",
              "          'figure.titleweight': 'normal',\n",
              "          'font.cursive': ['Apple Chancery',\n",
              "                           'Textile',\n",
              "                           'Zapf Chancery',\n",
              "                           'Sand',\n",
              "                           'Script MT',\n",
              "                           'Felipa',\n",
              "                           'cursive'],\n",
              "          'font.family': ['sans-serif'],\n",
              "          'font.fantasy': ['Comic Neue',\n",
              "                           'Comic Sans MS',\n",
              "                           'Chicago',\n",
              "                           'Charcoal',\n",
              "                           'Impact',\n",
              "                           'Western',\n",
              "                           'Humor Sans',\n",
              "                           'xkcd',\n",
              "                           'fantasy'],\n",
              "          'font.monospace': ['DejaVu Sans Mono',\n",
              "                             'Bitstream Vera Sans Mono',\n",
              "                             'Computer Modern Typewriter',\n",
              "                             'Andale Mono',\n",
              "                             'Nimbus Mono L',\n",
              "                             'Courier New',\n",
              "                             'Courier',\n",
              "                             'Fixed',\n",
              "                             'Terminal',\n",
              "                             'monospace'],\n",
              "          'font.sans-serif': ['DejaVu Sans',\n",
              "                              'Bitstream Vera Sans',\n",
              "                              'Computer Modern Sans Serif',\n",
              "                              'Lucida Grande',\n",
              "                              'Verdana',\n",
              "                              'Geneva',\n",
              "                              'Lucid',\n",
              "                              'Arial',\n",
              "                              'Helvetica',\n",
              "                              'Avant Garde',\n",
              "                              'sans-serif'],\n",
              "          'font.serif': ['DejaVu Serif',\n",
              "                         'Bitstream Vera Serif',\n",
              "                         'Computer Modern Roman',\n",
              "                         'New Century Schoolbook',\n",
              "                         'Century Schoolbook L',\n",
              "                         'Utopia',\n",
              "                         'ITC Bookman',\n",
              "                         'Bookman',\n",
              "                         'Nimbus Roman No9 L',\n",
              "                         'Times New Roman',\n",
              "                         'Times',\n",
              "                         'Palatino',\n",
              "                         'Charter',\n",
              "                         'serif'],\n",
              "          'font.size': 30.0,\n",
              "          'font.stretch': 'normal',\n",
              "          'font.style': 'normal',\n",
              "          'font.variant': 'normal',\n",
              "          'font.weight': 'normal',\n",
              "          'grid.alpha': 1.0,\n",
              "          'grid.color': '#b0b0b0',\n",
              "          'grid.linestyle': '-',\n",
              "          'grid.linewidth': 0.8,\n",
              "          'hatch.color': 'black',\n",
              "          'hatch.linewidth': 1.0,\n",
              "          'hist.bins': 10,\n",
              "          'image.aspect': 'equal',\n",
              "          'image.cmap': 'viridis',\n",
              "          'image.composite_image': True,\n",
              "          'image.interpolation': 'antialiased',\n",
              "          'image.lut': 256,\n",
              "          'image.origin': 'upper',\n",
              "          'image.resample': True,\n",
              "          'interactive': True,\n",
              "          'keymap.all_axes': ['a'],\n",
              "          'keymap.back': ['left', 'c', 'backspace', 'MouseButton.BACK'],\n",
              "          'keymap.copy': ['ctrl+c', 'cmd+c'],\n",
              "          'keymap.forward': ['right', 'v', 'MouseButton.FORWARD'],\n",
              "          'keymap.fullscreen': ['f', 'ctrl+f'],\n",
              "          'keymap.grid': ['g'],\n",
              "          'keymap.grid_minor': ['G'],\n",
              "          'keymap.help': ['f1'],\n",
              "          'keymap.home': ['h', 'r', 'home'],\n",
              "          'keymap.pan': ['p'],\n",
              "          'keymap.quit': ['ctrl+w', 'cmd+w', 'q'],\n",
              "          'keymap.quit_all': ['W', 'cmd+W', 'Q'],\n",
              "          'keymap.save': ['s', 'ctrl+s'],\n",
              "          'keymap.xscale': ['k', 'L'],\n",
              "          'keymap.yscale': ['l'],\n",
              "          'keymap.zoom': ['o'],\n",
              "          'legend.borderaxespad': 0.5,\n",
              "          'legend.borderpad': 0.4,\n",
              "          'legend.columnspacing': 2.0,\n",
              "          'legend.edgecolor': '0.8',\n",
              "          'legend.facecolor': 'inherit',\n",
              "          'legend.fancybox': True,\n",
              "          'legend.fontsize': 'medium',\n",
              "          'legend.framealpha': 0.8,\n",
              "          'legend.frameon': True,\n",
              "          'legend.handleheight': 0.7,\n",
              "          'legend.handlelength': 2.0,\n",
              "          'legend.handletextpad': 0.8,\n",
              "          'legend.labelspacing': 0.5,\n",
              "          'legend.loc': 'best',\n",
              "          'legend.markerscale': 1.0,\n",
              "          'legend.numpoints': 1,\n",
              "          'legend.scatterpoints': 1,\n",
              "          'legend.shadow': False,\n",
              "          'legend.title_fontsize': None,\n",
              "          'lines.antialiased': True,\n",
              "          'lines.color': 'C0',\n",
              "          'lines.dash_capstyle': 'butt',\n",
              "          'lines.dash_joinstyle': 'round',\n",
              "          'lines.dashdot_pattern': [6.4, 1.6, 1.0, 1.6],\n",
              "          'lines.dashed_pattern': [3.7, 1.6],\n",
              "          'lines.dotted_pattern': [1.0, 1.65],\n",
              "          'lines.linestyle': '-',\n",
              "          'lines.linewidth': 1.5,\n",
              "          'lines.marker': 'None',\n",
              "          'lines.markeredgecolor': 'auto',\n",
              "          'lines.markeredgewidth': 1.0,\n",
              "          'lines.markerfacecolor': 'auto',\n",
              "          'lines.markersize': 6.0,\n",
              "          'lines.scale_dashes': True,\n",
              "          'lines.solid_capstyle': 'projecting',\n",
              "          'lines.solid_joinstyle': 'round',\n",
              "          'markers.fillstyle': 'full',\n",
              "          'mathtext.bf': 'sans:bold',\n",
              "          'mathtext.cal': 'cursive',\n",
              "          'mathtext.default': 'it',\n",
              "          'mathtext.fallback_to_cm': True,\n",
              "          'mathtext.fontset': 'dejavusans',\n",
              "          'mathtext.it': 'sans:italic',\n",
              "          'mathtext.rm': 'sans',\n",
              "          'mathtext.sf': 'sans',\n",
              "          'mathtext.tt': 'monospace',\n",
              "          'mpl_toolkits.legacy_colorbar': True,\n",
              "          'patch.antialiased': True,\n",
              "          'patch.edgecolor': 'black',\n",
              "          'patch.facecolor': 'C0',\n",
              "          'patch.force_edgecolor': False,\n",
              "          'patch.linewidth': 1.0,\n",
              "          'path.effects': [],\n",
              "          'path.simplify': True,\n",
              "          'path.simplify_threshold': 0.1111111111111111,\n",
              "          'path.sketch': None,\n",
              "          'path.snap': True,\n",
              "          'pdf.compression': 6,\n",
              "          'pdf.fonttype': 3,\n",
              "          'pdf.inheritcolor': False,\n",
              "          'pdf.use14corefonts': False,\n",
              "          'pgf.preamble': '',\n",
              "          'pgf.rcfonts': True,\n",
              "          'pgf.texsystem': 'xelatex',\n",
              "          'polaraxes.grid': True,\n",
              "          'ps.distiller.res': 6000,\n",
              "          'ps.fonttype': 3,\n",
              "          'ps.papersize': 'letter',\n",
              "          'ps.useafm': False,\n",
              "          'ps.usedistiller': None,\n",
              "          'savefig.bbox': None,\n",
              "          'savefig.directory': '~',\n",
              "          'savefig.dpi': 'figure',\n",
              "          'savefig.edgecolor': 'white',\n",
              "          'savefig.facecolor': 'white',\n",
              "          'savefig.format': 'png',\n",
              "          'savefig.frameon': True,\n",
              "          'savefig.jpeg_quality': 95,\n",
              "          'savefig.orientation': 'portrait',\n",
              "          'savefig.pad_inches': 0.1,\n",
              "          'savefig.transparent': False,\n",
              "          'scatter.edgecolors': 'face',\n",
              "          'scatter.marker': 'o',\n",
              "          'svg.fonttype': 'path',\n",
              "          'svg.hashsalt': None,\n",
              "          'svg.image_inline': True,\n",
              "          'text.antialiased': True,\n",
              "          'text.color': 'black',\n",
              "          'text.hinting': 'auto',\n",
              "          'text.hinting_factor': 8,\n",
              "          'text.kerning_factor': 0,\n",
              "          'text.latex.preamble': '',\n",
              "          'text.latex.preview': False,\n",
              "          'text.latex.unicode': True,\n",
              "          'text.usetex': False,\n",
              "          'timezone': 'UTC',\n",
              "          'tk.window_focus': False,\n",
              "          'toolbar': 'toolbar2',\n",
              "          'verbose.fileo': 'sys.stdout',\n",
              "          'verbose.level': 'silent',\n",
              "          'webagg.address': '127.0.0.1',\n",
              "          'webagg.open_in_browser': True,\n",
              "          'webagg.port': 8988,\n",
              "          'webagg.port_retries': 50,\n",
              "          'xtick.alignment': 'center',\n",
              "          'xtick.bottom': True,\n",
              "          'xtick.color': 'black',\n",
              "          'xtick.direction': 'out',\n",
              "          'xtick.labelbottom': True,\n",
              "          'xtick.labelsize': 7.0,\n",
              "          'xtick.labeltop': False,\n",
              "          'xtick.major.bottom': True,\n",
              "          'xtick.major.pad': 3.5,\n",
              "          'xtick.major.size': 3.5,\n",
              "          'xtick.major.top': True,\n",
              "          'xtick.major.width': 0.8,\n",
              "          'xtick.minor.bottom': True,\n",
              "          'xtick.minor.pad': 3.4,\n",
              "          'xtick.minor.size': 2.0,\n",
              "          'xtick.minor.top': True,\n",
              "          'xtick.minor.visible': False,\n",
              "          'xtick.minor.width': 0.6,\n",
              "          'xtick.top': False,\n",
              "          'ytick.alignment': 'center_baseline',\n",
              "          'ytick.color': 'black',\n",
              "          'ytick.direction': 'out',\n",
              "          'ytick.labelleft': True,\n",
              "          'ytick.labelright': False,\n",
              "          'ytick.labelsize': 7.0,\n",
              "          'ytick.left': True,\n",
              "          'ytick.major.left': True,\n",
              "          'ytick.major.pad': 3.5,\n",
              "          'ytick.major.right': True,\n",
              "          'ytick.major.size': 3.5,\n",
              "          'ytick.major.width': 0.8,\n",
              "          'ytick.minor.left': True,\n",
              "          'ytick.minor.pad': 3.4,\n",
              "          'ytick.minor.right': True,\n",
              "          'ytick.minor.size': 2.0,\n",
              "          'ytick.minor.visible': False,\n",
              "          'ytick.minor.width': 0.6,\n",
              "          'ytick.right': False}))"
            ]
          },
          "metadata": {
            "tags": []
          },
          "execution_count": 79
        }
      ]
    },
    {
      "cell_type": "code",
      "metadata": {
        "colab": {
          "base_uri": "https://localhost:8080/"
        },
        "id": "52vs1Ws-37nL",
        "outputId": "711a1a75-5a7d-4e6f-9932-ebbf13816749"
      },
      "source": [
        "len(idx2label)"
      ],
      "execution_count": null,
      "outputs": [
        {
          "output_type": "execute_result",
          "data": {
            "text/plain": [
              "131"
            ]
          },
          "metadata": {
            "tags": []
          },
          "execution_count": 28
        }
      ]
    },
    {
      "cell_type": "markdown",
      "metadata": {
        "id": "yV_dG-US2xMV"
      },
      "source": [
        "Only Leaf Labels"
      ]
    },
    {
      "cell_type": "code",
      "metadata": {
        "id": "x2G_Y6DS2zFo"
      },
      "source": [
        ""
      ],
      "execution_count": null,
      "outputs": []
    },
    {
      "cell_type": "code",
      "metadata": {
        "id": "PtqbF56O2zO3"
      },
      "source": [
        "all_labels = np.concatenate([train_labels, test_labels], axis=0)\n",
        "\n",
        "label_count = dict()\n",
        "for label in label2idx:\n",
        "    label_count[label] = 0\n",
        "\n",
        "for label_list in all_labels:\n",
        "    for label in label_list:\n",
        "        label_count[label] += 1\n",
        "\n",
        "labels = np.array(sorted(filter(lambda lbl: not lbl in parent_labels, \n",
        "                                list(set(label for label_list in all_labels for label in label_list))\n",
        "                                ), \n",
        "                         key=lambda lbl: label_count[lbl],\n",
        "                         reverse=True))\n",
        "\n",
        "label2idx = {label: idx for idx, label in enumerate(labels)}\n",
        "idx2label = {idx: label for idx, label in enumerate(labels)}"
      ],
      "execution_count": null,
      "outputs": []
    },
    {
      "cell_type": "code",
      "metadata": {
        "id": "9gvcIOaX2zO4"
      },
      "source": [
        "preds_for_test_label = dict()\n",
        "test_label_count = dict()\n",
        "\n",
        "for test_label in label2idx:\n",
        "    test_label_count[test_label] = 0\n",
        "\n",
        "for test_label in label2idx:\n",
        "    preds_for_test_label[test_label] = dict()\n",
        "    for res_label in label2idx:\n",
        "        preds_for_test_label[test_label][res_label] = 0\n",
        "\n",
        "for test_label_list, res_label_list, res_score_list in zip(test_labels, res_labels, res_scores):\n",
        "    for test_label in test_label_list:\n",
        "        if test_label in test_label_count:\n",
        "            test_label_count[test_label] += 1\n",
        "            for res_label, res_score in zip(res_label_list, res_score_list):\n",
        "                if res_label in preds_for_test_label[test_label]:\n",
        "                    preds_for_test_label[test_label][res_label] += res_score\n",
        "\n",
        "    # print(\"test_label_list\", test_label_list)\n",
        "    # print(\"top_res_label_list\", top_res_label_list)"
      ],
      "execution_count": null,
      "outputs": []
    },
    {
      "cell_type": "code",
      "metadata": {
        "id": "_DVDNPyP2zO4"
      },
      "source": [
        "num_labels = len(label2idx)\n",
        "conf_matrix = np.array(\n",
        "    [\n",
        "     [\n",
        "      # i is label2idx[test_label], j is label2idx[res_label]\n",
        "      preds_for_test_label[idx2label[i]][idx2label[j]] / test_label_count[idx2label[i]] if test_label_count[idx2label[i]] > 0 else 0\n",
        "      for j in range(num_labels)\n",
        "     ]\n",
        "     for i in range(num_labels)\n",
        "    ]\n",
        "    \n",
        ")\n"
      ],
      "execution_count": null,
      "outputs": []
    },
    {
      "cell_type": "code",
      "metadata": {
        "colab": {
          "base_uri": "https://localhost:8080/"
        },
        "id": "LO8ZxLpr2zO5",
        "outputId": "4f71166f-dea4-4d90-8854-bb456d0ae9df"
      },
      "source": [
        "conf_matrix"
      ],
      "execution_count": null,
      "outputs": [
        {
          "output_type": "execute_result",
          "data": {
            "text/plain": [
              "array([[6.56346688e-01, 4.29144085e-02, 1.21169718e-03, ...,\n",
              "        0.00000000e+00, 1.05987926e-04, 0.00000000e+00],\n",
              "       [2.12336512e-01, 2.06630436e-01, 5.94522079e-04, ...,\n",
              "        0.00000000e+00, 7.06466681e-05, 0.00000000e+00],\n",
              "       [1.24448915e-02, 4.64475734e-04, 5.72234418e-01, ...,\n",
              "        0.00000000e+00, 8.27193056e-07, 0.00000000e+00],\n",
              "       ...,\n",
              "       [0.00000000e+00, 0.00000000e+00, 0.00000000e+00, ...,\n",
              "        0.00000000e+00, 0.00000000e+00, 0.00000000e+00],\n",
              "       [0.00000000e+00, 0.00000000e+00, 0.00000000e+00, ...,\n",
              "        0.00000000e+00, 0.00000000e+00, 0.00000000e+00],\n",
              "       [0.00000000e+00, 0.00000000e+00, 0.00000000e+00, ...,\n",
              "        0.00000000e+00, 0.00000000e+00, 0.00000000e+00]])"
            ]
          },
          "metadata": {
            "tags": []
          },
          "execution_count": 39
        }
      ]
    },
    {
      "cell_type": "code",
      "metadata": {
        "colab": {
          "base_uri": "https://localhost:8080/",
          "height": 1000
        },
        "id": "cxTNXq_52zO5",
        "outputId": "d247a0e4-201e-434e-cdf4-9b245c8ebe80"
      },
      "source": [
        "rc('xtick', labelsize=12)\n",
        "rc('ytick', labelsize=12)\n",
        "rc('font', size=30)\n",
        "\n",
        "label_limit = 20\n",
        "conf_matrix_small = conf_matrix[:label_limit, :label_limit]\n",
        "num_labels = label_limit\n",
        "row_labels = [idx2label[i] for i in range(num_labels)]\n",
        "col_labels = [idx2label[i] for i in range(num_labels)]\n",
        "\n",
        "plt.rcParams[\"figure.figsize\"] = (15, 15)\n",
        "fig, ax = plt.subplots()\n",
        "plt.matshow(conf_matrix_small, fignum=0)\n",
        "ax.set_title('Multilabel Confusion Matrix for MATCH on PeTaL data\\nTop 20 Leaf Labels Sorted by Frequency', y=1.0, pad=15)\n",
        "ax.set_xlabel('Predicted labels')\n",
        "ax.set_ylabel('Ground truth labels')\n",
        "ax.xaxis.set_label_position('top')\n",
        "ax.xaxis.tick_top()\n",
        "plt.xticks(range(num_labels), col_labels, rotation='vertical')\n",
        "plt.yticks(range(num_labels), row_labels)\n",
        "plt.colorbar()\n",
        "# plt.rcParams[\"axes.titley\"] = 1.0\n",
        "# plt.rcParams[\"axes.titlepad\"] = 15\n",
        "plt.savefig(fname='../plots/mcm_20210721.jpg', facecolor='w', transparent=False)"
      ],
      "execution_count": null,
      "outputs": [
        {
          "output_type": "display_data",
          "data": {
            "image/png": "[encoded data removed]",
            "text/plain": [
              "<Figure size 1080x1080 with 2 Axes>"
            ]
          },
          "metadata": {
            "tags": [],
            "needs_background": "light"
          }
        }
      ]
    },
    {
      "cell_type": "markdown",
      "metadata": {
        "id": "K49wezIO2E9B"
      },
      "source": [
        "# Previous work (ignore)"
      ]
    },
    {
      "cell_type": "code",
      "metadata": {
        "colab": {
          "base_uri": "https://localhost:8080/"
        },
        "id": "oyJobYtJflrw",
        "outputId": "0fa17d97-6e47-4c19-f30a-25d921d0e81e"
      },
      "source": [
        "!wc predictions.txt\n",
        "!wc MAG/test_labels.txt"
      ],
      "execution_count": null,
      "outputs": [
        {
          "output_type": "stream",
          "text": [
            "  70533  352665 3367234 predictions.txt\n",
            "  70533  394260 3763878 MAG/test_labels.txt\n"
          ],
          "name": "stdout"
        }
      ]
    },
    {
      "cell_type": "code",
      "metadata": {
        "colab": {
          "base_uri": "https://localhost:8080/"
        },
        "id": "KPWAojzIfsuN",
        "outputId": "6c6a811f-e7b2-47ad-c85f-12a06da81c83"
      },
      "source": [
        "!head -n 50 predictions.txt\n",
        "print(\"\\n\")\n",
        "!head -n 50 MAG/test_labels.txt"
      ],
      "execution_count": null,
      "outputs": [
        {
          "output_type": "stream",
          "text": [
            "204321447 2474386 195324797 60048249 206134035\n",
            "66402592 2776509796 136764020 204321447 44572571\n",
            "2780522230 28490314 204321447 89600930 178980831\n",
            "203005215 204321447 2777530160 24687705 76482347\n",
            "2781297728 154945302 31972630 81074085 19966478\n",
            "167343916 90509273 500300565 65401140 207987634\n",
            "74294265 156996364 31258907 192126672 120314980\n",
            "61423126 199360897 193702766 169590947 48044578\n",
            "11413529 156996364 124851039 54956558 31258907\n",
            "139722471 104267543 84462506 28490314 198386975\n",
            "194969405 152086174 31972630 49774154 107457646\n",
            "178980831 52622490 2779883129 78201319 31972630\n",
            "555944384 73836528 60069766 6832461 179799912\n",
            "101738243 50644808 178980831 119857082 154945302\n",
            "90509273 65401140 31972630 19966478 94915269\n",
            "31258907 204739117 47318570 120314980 9659607\n",
            "2400350 57273362 157125643 204397858 173801870\n",
            "199360897 202973057 169590947 529173508 2781009160\n",
            "2776224158 204321447 203005215 91559456 2778121359\n",
            "31972630 71134354 124504099 178980831 9417928\n",
            "81978471 31258907 105344744 2776362087 47696715\n",
            "31972630 119857082 44154836 2522767166 107457646\n",
            "97970142 90312973 119857082 56739046 6377922\n",
            "551230270 28490314 49774154 54953205 107457646\n",
            "186644900 206134035 204321447 164883195 42560504\n",
            "106159264 199360897 548217200 148027188 188598960\n",
            "2778034918 31258907 120317029 120314980 91280400\n",
            "121684516 2778036227 19275194 114996537 97090092\n",
            "156996364 207987634 97744766 57869625 141450046\n",
            "182620335 4554734 11413529 154945302 80444323\n",
            "2776126113 175291020 90509273 192299074 39920418\n",
            "31258907 2778555145 2778610037 153646914 82203111\n",
            "186644900 49937458 204321447 148524875 107457646\n",
            "2779135771 204321447 96711827 178980831 2777522853\n",
            "31258907 105339364 68649174 153646914 181889124\n",
            "54956558 11930861 22676131 90596186 87687168\n",
            "31972630 2777036941 39920418 44154836 60692881\n",
            "31972630 121704057 2776151529 19966478 81074085\n",
            "57273362 193969084 103088060 157899210 204397858\n",
            "50644808 185109637 13662910 36662352 90509273\n",
            "75606506 116253237 529173508 111498074 55439883\n",
            "49774154 19012869 56739046 107457646 144543869\n",
            "118505674 80444323 11413529 104267543 501101116\n",
            "4199805 178980831 163716315 61326573 2780576426\n",
            "149808339 83283714 85189116 173608175 114563136\n",
            "39920418 90509273 74222875 192299074 17816587\n",
            "13662910 201004817 2778464233 31972630 81074085\n",
            "101901036 24590314 4978587 77553402 11413529\n",
            "104267543 76155785 178980831 79403827 137270730\n",
            "107645828 75553542 19966478 145565327 31531917\n",
            "\n",
            "\n",
            "60048249 206134035 2474386 165297611 195324797 39890363 70777604 204321447\n",
            "2776509796 44572571 108827166 136764020 66402592\n",
            "204321447 89600930 2780522230 178980831 28490314\n",
            "24687705 53893814 76482347 2777530160 203005215 204321447\n",
            "119857082 2781297728 107457646 2777036941 28490314\n",
            "90509273 167343916\n",
            "31258907 120314980 156996364 74294265 8272713\n",
            "25344961 193702766 80444323 854659 199360897 138958017 2777703423 61423126 169590947\n",
            "31258907 19275194 94523657 157764524 124851039 54956558 555944384 156996364 179145077\n",
            "84462506 80444323 178980831 2777715827 139722471 104267543\n",
            "119857082 7374053 194969405 121684516 152086174 9417928 107457646\n",
            "136902061 173413354 52622490 178980831 78201319 31972630 546480517 193828747 2779883129 53533937\n",
            "73836528 136817519 6832461 164785522 60069766 198746922 555944384\n",
            "119857082 50644808 101738243 178980831\n",
            "44154836 90509273 65401140 94915269 26990112 19966478\n",
            "9659607 204739117 29436982 31258907 189884158 120314980 190526755 87044965 47318570 144674526\n",
            "173801870 11413529 126980161 157125643 132727834 204397858 2400350 193969084 57273362\n",
            "199360897 75606506 171018156 202973057 2781009160 529173508 60051680 169590947\n",
            "91559456 24687705 203005215 130597682 2776224158 28490314 204321447 2778121359\n",
            "71134354 89600930 178980831 102366305 23224414 75294576 2781376004 31972630 9417928 64869954\n",
            "105344744 31258907 47798520 81978471 40409654 47696715 2776362087\n",
            "31972630\n",
            "25016198 182566 6377922 111226992 90312973 63584917 56739046\n",
            "551230270 28490314\n",
            "118364021 186644900 147547768 164883195 204321447 60690694 42560504 40683218\n",
            "162443782 107683887 548217200 199360897 106159264 148027188 109852812 7435765\n",
            "91280400 120317029 31258907 2778034918 120314980 117729477\n",
            "121684516 2781018421 126053834\n",
            "160562895 57869625 156996364 2776096036 207987634 97744766 79403827\n",
            "182620335 169272836 80444323 4554734\n",
            "44154836 90509273 175291020 74222875 192299074 8652668 2776126113\n",
            "95491727 2780898871 82203111 31258907 111852164 153646914 191485582 2778610037 2778555145\n",
            "204321447 186644900 49937458\n",
            "204321447 178980831 2779135771\n",
            "95491727 68649174 31258907 153646914 11644782 58074150 105339364 13263538\n",
            "9083635 87687168 46035914 54956558 68754193\n",
            "31972630\n",
            "81074085 2776151529 31972630 121704057 19966478 64876066\n",
            "103088060 11413529 60582962 157899210 193319292 57273362\n",
            "13662910 185109637 50644808\n",
            "55439883 75606506 52913732 111498074 175971053 14331664 529173508 116253237 115903868\n",
            "49774154\n",
            "118505674 11413529 80444323\n",
            "2780576426 163716315 114996537 178980831 50151734 137270730 4199805 51267290\n",
            "83283714 149808339\n",
            "204172952 39920418 90509273\n",
            "13662910 2778464233 201004817 44154836 81074085\n",
            "77553402 24590314 4978587 101901036\n",
            "178980831 76155785 18015164\n",
            "75553542 107645828\n"
          ],
          "name": "stdout"
        }
      ]
    },
    {
      "cell_type": "code",
      "metadata": {
        "id": "1S9eH8RZiTcq"
      },
      "source": [
        "pred_path = \"predictions.txt\"\n",
        "test_path = \"MAG/test_labels.txt\""
      ],
      "execution_count": null,
      "outputs": []
    },
    {
      "cell_type": "code",
      "metadata": {
        "id": "YdBoHSgDi9Al"
      },
      "source": [
        "# TO DO: compute precision, recall, F1 score, confusion matrix"
      ],
      "execution_count": null,
      "outputs": []
    },
    {
      "cell_type": "code",
      "metadata": {
        "colab": {
          "base_uri": "https://localhost:8080/",
          "height": 419
        },
        "id": "P2ogS4VeKcBR",
        "outputId": "4198e2fa-9709-4fdd-b94f-9996817eaa6e"
      },
      "source": [
        "rows_list = []\n",
        "with open(pred_path, 'r') as pred_fn, open(test_path, 'r') as test_fn:\n",
        "    for pred_line, test_line in zip(pred_fn, test_fn):\n",
        "        pred_labels = [int(label) for label in pred_line.strip().split()]\n",
        "        test_labels = [int(label) for label in test_line.strip().split()]\n",
        "        dict1 = {'pred_labels': pred_labels, 'test_labels': test_labels}\n",
        "        rows_list.append(dict1)\n",
        "label_df = pd.DataFrame(rows_list)\n",
        "label_df"
      ],
      "execution_count": null,
      "outputs": [
        {
          "output_type": "execute_result",
          "data": {
            "text/html": [
              "<div>\n",
              "<style scoped>\n",
              "    .dataframe tbody tr th:only-of-type {\n",
              "        vertical-align: middle;\n",
              "    }\n",
              "\n",
              "    .dataframe tbody tr th {\n",
              "        vertical-align: top;\n",
              "    }\n",
              "\n",
              "    .dataframe thead th {\n",
              "        text-align: right;\n",
              "    }\n",
              "</style>\n",
              "<table border=\"1\" class=\"dataframe\">\n",
              "  <thead>\n",
              "    <tr style=\"text-align: right;\">\n",
              "      <th></th>\n",
              "      <th>pred_labels</th>\n",
              "      <th>test_labels</th>\n",
              "    </tr>\n",
              "  </thead>\n",
              "  <tbody>\n",
              "    <tr>\n",
              "      <th>0</th>\n",
              "      <td>[204321447, 2474386, 195324797, 60048249, 2061...</td>\n",
              "      <td>[60048249, 206134035, 2474386, 165297611, 1953...</td>\n",
              "    </tr>\n",
              "    <tr>\n",
              "      <th>1</th>\n",
              "      <td>[66402592, 2776509796, 136764020, 204321447, 4...</td>\n",
              "      <td>[2776509796, 44572571, 108827166, 136764020, 6...</td>\n",
              "    </tr>\n",
              "    <tr>\n",
              "      <th>2</th>\n",
              "      <td>[2780522230, 28490314, 204321447, 89600930, 17...</td>\n",
              "      <td>[204321447, 89600930, 2780522230, 178980831, 2...</td>\n",
              "    </tr>\n",
              "    <tr>\n",
              "      <th>3</th>\n",
              "      <td>[203005215, 204321447, 2777530160, 24687705, 7...</td>\n",
              "      <td>[24687705, 53893814, 76482347, 2777530160, 203...</td>\n",
              "    </tr>\n",
              "    <tr>\n",
              "      <th>4</th>\n",
              "      <td>[2781297728, 154945302, 31972630, 81074085, 19...</td>\n",
              "      <td>[119857082, 2781297728, 107457646, 2777036941,...</td>\n",
              "    </tr>\n",
              "    <tr>\n",
              "      <th>...</th>\n",
              "      <td>...</td>\n",
              "      <td>...</td>\n",
              "    </tr>\n",
              "    <tr>\n",
              "      <th>70528</th>\n",
              "      <td>[50644808, 39890363, 37736160, 119857082, 1549...</td>\n",
              "      <td>[119857082, 50644808, 39890363, 37736160, 1085...</td>\n",
              "    </tr>\n",
              "    <tr>\n",
              "      <th>70529</th>\n",
              "      <td>[31972630, 109950114, 181844469, 141379421, 14...</td>\n",
              "      <td>[55439883, 141268832, 121684516, 141379421, 31...</td>\n",
              "    </tr>\n",
              "    <tr>\n",
              "      <th>70530</th>\n",
              "      <td>[65647387, 124101348, 77088390, 118930307, 157...</td>\n",
              "      <td>[124101348, 192028432, 99016210, 65647387, 542...</td>\n",
              "    </tr>\n",
              "    <tr>\n",
              "      <th>70531</th>\n",
              "      <td>[132829578, 2780368719, 56739046, 544833334, 4...</td>\n",
              "      <td>[2780368719, 135641252, 544833334, 80944243, 4...</td>\n",
              "    </tr>\n",
              "    <tr>\n",
              "      <th>70532</th>\n",
              "      <td>[90988772, 9679016, 98763669, 60507348, 102164...</td>\n",
              "      <td>[25360446]</td>\n",
              "    </tr>\n",
              "  </tbody>\n",
              "</table>\n",
              "<p>70533 rows × 2 columns</p>\n",
              "</div>"
            ],
            "text/plain": [
              "                                             pred_labels                                        test_labels\n",
              "0      [204321447, 2474386, 195324797, 60048249, 2061...  [60048249, 206134035, 2474386, 165297611, 1953...\n",
              "1      [66402592, 2776509796, 136764020, 204321447, 4...  [2776509796, 44572571, 108827166, 136764020, 6...\n",
              "2      [2780522230, 28490314, 204321447, 89600930, 17...  [204321447, 89600930, 2780522230, 178980831, 2...\n",
              "3      [203005215, 204321447, 2777530160, 24687705, 7...  [24687705, 53893814, 76482347, 2777530160, 203...\n",
              "4      [2781297728, 154945302, 31972630, 81074085, 19...  [119857082, 2781297728, 107457646, 2777036941,...\n",
              "...                                                  ...                                                ...\n",
              "70528  [50644808, 39890363, 37736160, 119857082, 1549...  [119857082, 50644808, 39890363, 37736160, 1085...\n",
              "70529  [31972630, 109950114, 181844469, 141379421, 14...  [55439883, 141268832, 121684516, 141379421, 31...\n",
              "70530  [65647387, 124101348, 77088390, 118930307, 157...  [124101348, 192028432, 99016210, 65647387, 542...\n",
              "70531  [132829578, 2780368719, 56739046, 544833334, 4...  [2780368719, 135641252, 544833334, 80944243, 4...\n",
              "70532  [90988772, 9679016, 98763669, 60507348, 102164...                                         [25360446]\n",
              "\n",
              "[70533 rows x 2 columns]"
            ]
          },
          "metadata": {
            "tags": []
          },
          "execution_count": 47
        }
      ]
    },
    {
      "cell_type": "code",
      "metadata": {
        "colab": {
          "base_uri": "https://localhost:8080/"
        },
        "id": "I32SKH0ROQMU",
        "outputId": "8a7cea96-ed2a-4179-e555-45cb0ddebe15"
      },
      "source": [
        "label_df['pred_labels'][1]"
      ],
      "execution_count": null,
      "outputs": [
        {
          "output_type": "execute_result",
          "data": {
            "text/plain": [
              "[66402592, 2776509796, 136764020, 204321447, 44572571]"
            ]
          },
          "metadata": {
            "tags": []
          },
          "execution_count": 48
        }
      ]
    },
    {
      "cell_type": "code",
      "metadata": {
        "id": "E9uc1WtJO3TY"
      },
      "source": [
        "def calc_precision():\n",
        "    tp = 0\n",
        "    tp_fp = 0\n",
        "    for index, row in label_df.iterrows():\n",
        "        pred_labels, test_labels = row['pred_labels'], row['test_labels']\n",
        "        tp_fp += 1\n",
        "        if pred_labels[0] in test_labels:\n",
        "            tp += 1\n",
        "        # for pred_label in pred_labels:\n",
        "        #     if pred_label in test_labels:\n",
        "        #         true_positives += 1\n",
        "    return tp / tp_fp\n"
      ],
      "execution_count": null,
      "outputs": []
    },
    {
      "cell_type": "code",
      "metadata": {
        "colab": {
          "base_uri": "https://localhost:8080/"
        },
        "id": "Mf9J1ns8RN4a",
        "outputId": "ecd12233-9150-41d6-adaa-cdba5bed8892"
      },
      "source": [
        "print(f\"Precision @ 1: {calc_precision()}\")"
      ],
      "execution_count": null,
      "outputs": [
        {
          "output_type": "stream",
          "text": [
            "Precision @ 1: 0.9148909021309174\n"
          ],
          "name": "stdout"
        }
      ]
    },
    {
      "cell_type": "code",
      "metadata": {
        "id": "op3KdmeKZwYq"
      },
      "source": [
        "def calc_recall():\n",
        "    tp = 0\n",
        "    tp_fn = 0\n",
        "    for index, row in label_df.iterrows():\n",
        "        pred_labels, test_labels = row['pred_labels'], row['test_labels']\n",
        "        for test_label in test_labels:\n",
        "            tp_fn += 1\n",
        "            if test_label in pred_labels:\n",
        "                tp += 1\n",
        "    return tp / tp_fn"
      ],
      "execution_count": null,
      "outputs": []
    },
    {
      "cell_type": "code",
      "metadata": {
        "colab": {
          "base_uri": "https://localhost:8080/"
        },
        "id": "pb0_xvG1agJf",
        "outputId": "8a8c0b98-f4b0-419d-81a6-cfadb119f403"
      },
      "source": [
        "print(f\"Recall @ 5: {calc_recall()}\")"
      ],
      "execution_count": null,
      "outputs": [
        {
          "output_type": "stream",
          "text": [
            "Recall @ 5: 0.5718180895855527\n"
          ],
          "name": "stdout"
        }
      ]
    },
    {
      "cell_type": "code",
      "metadata": {
        "id": "p-ZOVXZGchYJ"
      },
      "source": [
        ""
      ],
      "execution_count": null,
      "outputs": []
    },
    {
      "cell_type": "markdown",
      "metadata": {
        "id": "bRfPKkUg6rzr"
      },
      "source": [
        "## Custom calculation of precision and recall."
      ]
    },
    {
      "cell_type": "code",
      "metadata": {
        "id": "Y11kQJDbrdjr"
      },
      "source": [
        "res_labels = np.load(f\"{DATASET}/results/{MODEL}-{DATASET}-labels.npy\")\n",
        "res_scores = np.load(f\"{DATASET}/results/{MODEL}-{DATASET}-scores.npy\")"
      ],
      "execution_count": null,
      "outputs": []
    },
    {
      "cell_type": "code",
      "metadata": {
        "id": "WL76Yx-7ybgm"
      },
      "source": [
        "test_labels = np.load(f\"{DATASET}/test_labels.npy\")"
      ],
      "execution_count": null,
      "outputs": []
    },
    {
      "cell_type": "code",
      "metadata": {
        "id": "5-G3HoZ2rwG-"
      },
      "source": [
        "Stats = namedtuple(\"Stats\", \"threshold topk precision recall f1\")\n",
        "\n",
        "def compute_stats(threshold):\n",
        "    precisions = []\n",
        "    recalls = []\n",
        "    topks = []\n",
        "    f1s = []\n",
        "    for res_label, res_score, test_label in zip(res_labels, res_scores, test_labels):\n",
        "        topk = np.argmax(res_score < threshold) # topk becomes the number of labels scoring above the threshold\n",
        "        precision = 1.0 if topk == 0 else np.mean([1 if x in test_label else 0 for x in res_label[:topk]])\n",
        "        recall = np.mean([1 if x in res_label[:topk] else 0 for x in test_label])\n",
        "        f1 = 0 if (precision + recall) == 0 else (2 * precision * recall) / (precision + recall)\n",
        "        topks.append(topk)\n",
        "        precisions.append(precision)\n",
        "        recalls.append(recall)\n",
        "        f1s.append(f1)\n",
        "        # print(res_label[:topk], precision, recall)\n",
        "    return Stats(threshold, np.mean(topks), np.mean(precisions), np.mean(recalls), np.mean(f1s))\n",
        "    # print(\"Threshold:\", threshold)\n",
        "    # print(\"Average number of labels:\", np.mean(topks))\n",
        "    # print(\"Average precision:\", np.mean(precisions))\n",
        "    # print(\"Average recall:\", np.mean(recalls))\n",
        "    # print(\"Average F1 score:\", np.mean(f1s))"
      ],
      "execution_count": null,
      "outputs": []
    },
    {
      "cell_type": "code",
      "metadata": {
        "colab": {
          "base_uri": "https://localhost:8080/"
        },
        "id": "HL9VO2V_FrVJ",
        "outputId": "5c1e3df6-7e1e-45bb-d4ab-c5525f740373"
      },
      "source": [
        "compute_stats(0.5)"
      ],
      "execution_count": null,
      "outputs": [
        {
          "output_type": "execute_result",
          "data": {
            "text/plain": [
              "Stats(threshold=0.5, topk=3.01, precision=0.5076904761904761, recall=0.37694455544455535, f1=0.3846569264069264)"
            ]
          },
          "metadata": {
            "tags": []
          },
          "execution_count": 9
        }
      ]
    },
    {
      "cell_type": "code",
      "metadata": {
        "colab": {
          "base_uri": "https://localhost:8080/"
        },
        "id": "208qJ9nYFbiq",
        "outputId": "f2a98ed9-5f5a-4162-c125-5b4651baf617"
      },
      "source": [
        "ps = []\n",
        "rs = []\n",
        "ts = []\n",
        "f1s = []\n",
        "for i in tqdm(range(1, 10000)):\n",
        "    threshold = i / 10000\n",
        "    stats = compute_stats(threshold)\n",
        "    ps.append(stats.precision)\n",
        "    rs.append(stats.recall)\n",
        "    ts.append(threshold)\n",
        "    f1s.append(stats.f1)"
      ],
      "execution_count": null,
      "outputs": [
        {
          "output_type": "stream",
          "text": [
            "100%|██████████| 9999/9999 [02:05<00:00, 79.57it/s]\n"
          ],
          "name": "stderr"
        }
      ]
    },
    {
      "cell_type": "code",
      "metadata": {
        "colab": {
          "base_uri": "https://localhost:8080/",
          "height": 312
        },
        "id": "sDtNMDg1GoH9",
        "outputId": "4b4375e7-786a-4ebe-9493-5c06c14886a6"
      },
      "source": [
        "plt.plot(ps, rs, linestyle='--')\n",
        "plt.grid()\n",
        "plt.title('Precision-Recall Curve for MATCH on cleaned_lens_output.json')\n",
        "plt.xlabel('Recall')\n",
        "plt.xlim(0, 1)\n",
        "plt.ylabel('Precision')\n",
        "plt.ylim(0, 1)"
      ],
      "execution_count": null,
      "outputs": [
        {
          "output_type": "execute_result",
          "data": {
            "text/plain": [
              "(0.0, 1.0)"
            ]
          },
          "metadata": {
            "tags": []
          },
          "execution_count": 21
        },
        {
          "output_type": "display_data",
          "data": {
            "image/png": "[encoded data removed]",
            "text/plain": [
              "<Figure size 432x288 with 1 Axes>"
            ]
          },
          "metadata": {
            "tags": []
          }
        }
      ]
    },
    {
      "cell_type": "code",
      "metadata": {
        "colab": {
          "base_uri": "https://localhost:8080/",
          "height": 312
        },
        "id": "Gi0lBO0hnWiq",
        "outputId": "90f583de-8150-4bff-8c20-738fae94f25a"
      },
      "source": [
        "plt.grid()\n",
        "plt.title('Precision-Recall Curve for MATCH on cleaned_lens_output.json')\n",
        "plt.plot(ts, ps, linestyle='--', label='Precision')\n",
        "plt.plot(ts, rs, linestyle='--', label='Recall')\n",
        "plt.plot(ts, f1s, linestyle='--', label='F1 score')\n",
        "plt.xlabel('Threshold')\n",
        "plt.xlim(0, 1)\n",
        "plt.ylabel('Metrics')\n",
        "plt.ylim(0, 1)\n",
        "plt.legend()"
      ],
      "execution_count": null,
      "outputs": [
        {
          "output_type": "execute_result",
          "data": {
            "text/plain": [
              "<matplotlib.legend.Legend at 0x7fa143578710>"
            ]
          },
          "metadata": {
            "tags": []
          },
          "execution_count": 25
        },
        {
          "output_type": "display_data",
          "data": {
            "image/png": "[encoded data removed]",
            "text/plain": [
              "<Figure size 432x288 with 1 Axes>"
            ]
          },
          "metadata": {
            "tags": []
          }
        }
      ]
    },
    {
      "cell_type": "markdown",
      "metadata": {
        "id": "SxuWgEOVpyS9"
      },
      "source": [
        "### Compute similar statistics for MAG-CS dataset"
      ]
    },
    {
      "cell_type": "code",
      "metadata": {
        "id": "CJlZNSfBpxh2"
      },
      "source": [
        "DATASET = 'MAG'\n",
        "\n",
        "res_labels = np.load(f\"{DATASET}/results/{MODEL}-{DATASET}-labels.npy\")\n",
        "res_scores = np.load(f\"{DATASET}/results/{MODEL}-{DATASET}-scores.npy\")\n",
        "test_labels = np.load(f\"{DATASET}/test_labels.npy\")"
      ],
      "execution_count": null,
      "outputs": []
    },
    {
      "cell_type": "code",
      "metadata": {
        "id": "AQXDyg1DvoQj"
      },
      "source": [
        "thresholds = list(x / 1000 for x in range(1, 10)) + \\\n",
        "    list(x / 100 for x in range(1, 10)) + \\\n",
        "    list(x / 10 for x in range(1, 10)) + \\\n",
        "    list((90 + x) / 100 for x in range(1, 10)) + \\\n",
        "    list((990 + x) / 1000 for x in range(1, 10))"
      ],
      "execution_count": null,
      "outputs": []
    },
    {
      "cell_type": "code",
      "metadata": {
        "colab": {
          "base_uri": "https://localhost:8080/"
        },
        "id": "phScuvO6qByt",
        "outputId": "f61a6eb7-555b-4543-b55a-9f8311f6c4c6"
      },
      "source": [
        "ps = []\n",
        "rs = []\n",
        "ts = []\n",
        "f1s = []\n",
        "for i in tqdm(thresholds):\n",
        "    threshold = i / 100\n",
        "    stats = compute_stats(threshold)\n",
        "    ps.append(stats.precision)\n",
        "    rs.append(stats.recall)\n",
        "    ts.append(threshold)\n",
        "    f1s.append(stats.f1)"
      ],
      "execution_count": null,
      "outputs": [
        {
          "output_type": "stream",
          "text": [
            "100%|██████████| 45/45 [07:07<00:00,  9.72s/it]\n"
          ],
          "name": "stderr"
        }
      ]
    },
    {
      "cell_type": "code",
      "metadata": {
        "colab": {
          "base_uri": "https://localhost:8080/",
          "height": 312
        },
        "id": "G6Q3g9TOtsjO",
        "outputId": "206c5432-d549-4bc0-f91e-70bbc87bf65c"
      },
      "source": [
        "plt.plot(ps, rs, linestyle='--')\n",
        "plt.grid()\n",
        "plt.title('Precision-Recall Curve for MATCH on MAG-CS')\n",
        "plt.xlabel('Recall')\n",
        "plt.xlim(0, 1)\n",
        "plt.ylabel('Precision')\n",
        "plt.ylim(0, 1)"
      ],
      "execution_count": null,
      "outputs": [
        {
          "output_type": "execute_result",
          "data": {
            "text/plain": [
              "(0.0, 1.0)"
            ]
          },
          "metadata": {
            "tags": []
          },
          "execution_count": 45
        },
        {
          "output_type": "display_data",
          "data": {
            "image/png": "[encoded data removed]",
            "text/plain": [
              "<Figure size 432x288 with 1 Axes>"
            ]
          },
          "metadata": {
            "tags": []
          }
        }
      ]
    },
    {
      "cell_type": "code",
      "metadata": {
        "colab": {
          "base_uri": "https://localhost:8080/",
          "height": 312
        },
        "id": "-eEfMyXswVOv",
        "outputId": "fb98b0ba-ec6a-4c7f-b3ba-c155c17d33d2"
      },
      "source": [
        "plt.grid()\n",
        "plt.title('Precision-Recall Curve for MATCH on MAG-CS')\n",
        "plt.plot(ts, ps, linestyle='--', label='Precision')\n",
        "plt.plot(ts, rs, linestyle='--', label='Recall')\n",
        "plt.plot(ts, f1s, linestyle='--', label='F1 score')\n",
        "plt.xlabel('Threshold')\n",
        "plt.xlim(0, 1)\n",
        "plt.ylabel('Metrics')\n",
        "plt.ylim(0, 1)\n",
        "plt.legend()"
      ],
      "execution_count": null,
      "outputs": [
        {
          "output_type": "execute_result",
          "data": {
            "text/plain": [
              "<matplotlib.legend.Legend at 0x7fa13f5be1d0>"
            ]
          },
          "metadata": {
            "tags": []
          },
          "execution_count": 50
        },
        {
          "output_type": "display_data",
          "data": {
            "image/png": "[encoded data removed]",
            "text/plain": [
              "<Figure size 432x288 with 1 Axes>"
            ]
          },
          "metadata": {
            "tags": []
          }
        }
      ]
    },
    {
      "cell_type": "code",
      "metadata": {
        "id": "FWjR99dyt2u0"
      },
      "source": [
        ""
      ],
      "execution_count": null,
      "outputs": []
    }
  ]
}