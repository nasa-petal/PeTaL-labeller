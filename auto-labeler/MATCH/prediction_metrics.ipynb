{
  "nbformat": 4,
  "nbformat_minor": 2,
  "metadata": {
    "colab": {
      "name": "prediction_metrics.ipynb",
      "provenance": [],
      "collapsed_sections": []
    },
    "kernelspec": {
      "name": "python3",
      "display_name": "Python 3"
    },
    "language_info": {
      "name": "python"
    }
  },
  "cells": [
    {
      "cell_type": "markdown",
      "source": [
        "# Prediction Metrics for MATCH\n",
        "\n",
        "Created by Eric Kong on 21 June 2021.\n",
        "Last modified by Eric Kong on 15 July 2021.\n",
        "\n",
        "For PeTaL Labeller Issue #42 (https://github.com/nasa-petal/PeTaL-labeller/issues/42), a start to analyzing precision, recall, &c., of MATCH.\n",
        "\n",
        "Also relevant to Issue #55 (https://github.com/nasa-petal/PeTaL-labeller/issues/55)."
      ],
      "metadata": {
        "id": "iGxUj75rRhk-"
      }
    },
    {
      "cell_type": "code",
      "execution_count": null,
      "source": [
        "!pip3 install gdown"
      ],
      "outputs": [],
      "metadata": {
        "id": "7dy0Z0WONtB9"
      }
    },
    {
      "cell_type": "code",
      "execution_count": 4,
      "source": [
        "import os\n",
        "import gdown\n",
        "\n",
        "import numpy as np\n",
        "import pandas as pd\n",
        "from matplotlib import pyplot as plt\n",
        "\n",
        "from collections import namedtuple\n",
        "from tqdm import tqdm"
      ],
      "outputs": [],
      "metadata": {
        "id": "cAC3EnDDfDbR"
      }
    },
    {
      "cell_type": "code",
      "execution_count": null,
      "source": [
        "if not os.path.exists('MATCH/'):\n",
        "    url = \"https://drive.google.com/uc?id=1Ly--Y2w9ZQWZ_v9Kb6o742DTWokR7Rbi\" # MATCH_20210716\n",
        "    # url = \"https://drive.google.com/uc?id=1iUwxS7HsP-T9kBkPR3ZMn_bGnn80ydTv\" # MATCH_20210714\n",
        "    output = \"MATCH.tar.gz\"\n",
        "    gdown.download(url, output, quiet=False)\n",
        "\n",
        "    !tar -xvf MATCH.tar.gz\n",
        "else:\n",
        "    print(\"You have already downloaded our modified MATCH repository.\")"
      ],
      "outputs": [],
      "metadata": {
        "id": "V53UteQXfN2M"
      }
    },
    {
      "cell_type": "code",
      "execution_count": null,
      "source": [
        "%cd ./MATCH\n",
        "!ls"
      ],
      "outputs": [],
      "metadata": {
        "id": "jrqUEfIifbrY"
      }
    },
    {
      "cell_type": "code",
      "execution_count": null,
      "source": [
        "# Install requirements in requirements.txt\n",
        "!chmod 755 -R .\n",
        "!pip3 install -r requirements.txt"
      ],
      "outputs": [],
      "metadata": {
        "id": "_2St9PrBGyW_"
      }
    },
    {
      "cell_type": "code",
      "execution_count": 8,
      "source": [
        "DATASET = \"PeTaL\"\n",
        "MODEL = \"MATCH\""
      ],
      "outputs": [],
      "metadata": {
        "id": "QdJD7B8D2Eh6"
      }
    },
    {
      "cell_type": "markdown",
      "source": [
        "## Calculation of precision and recall"
      ],
      "metadata": {
        "id": "mKSsY8aqHTA0"
      }
    },
    {
      "cell_type": "code",
      "execution_count": null,
      "source": [
        "res_labels = np.load(f\"{DATASET}/results/{MODEL}-{DATASET}-labels.npy\")\n",
        "res_scores = np.load(f\"{DATASET}/results/{MODEL}-{DATASET}-scores.npy\")\n",
        "test_labels = np.load(f\"{DATASET}/test_labels.npy\")"
      ],
      "outputs": [],
      "metadata": {
        "id": "ZxznTfOWFx4d"
      }
    },
    {
      "cell_type": "code",
      "execution_count": null,
      "source": [
        "Stats = namedtuple(\"Stats\", \"threshold topk precision recall f1\")\n",
        "\n",
        "\"\"\"\n",
        "    compute_stats(threshold)\n",
        "\n",
        "    Parameters:\n",
        "        threshold: float, 0.0 < threshold < 1.0\n",
        "        res_labels: numpy array of predicted labels\n",
        "        res_scores: numpy array of predicted label scores\n",
        "        test_labels: numpy array of target labels\n",
        "    \n",
        "    Returns:\n",
        "        Stats object containing\n",
        "            threshold\n",
        "            topk: average number of labels above threshold\n",
        "            precision: average precision across examples\n",
        "            recall: average recall across examples\n",
        "            f1: average F1 score across examples\n",
        "    \n",
        "    Note:\n",
        "        precision, recall, and F1 scores are macro (averaged across examples, not labels)\n",
        "\"\"\"\n",
        "def compute_stats(threshold, res_labels, res_scores, test_labels):\n",
        "    precisions = []\n",
        "    recalls = []\n",
        "    topks = []\n",
        "    f1s = []\n",
        "    for res_label, res_score, test_label in zip(res_labels, res_scores, test_labels):\n",
        "        topk = np.argmax(res_score < threshold) # topk becomes the number of labels scoring above the threshold\n",
        "        precision = 1.0 if topk == 0 else np.mean([1 if x in test_label else 0 for x in res_label[:topk]])\n",
        "        recall = np.mean([1 if x in res_label[:topk] else 0 for x in test_label])\n",
        "        f1 = 0 if (precision + recall) == 0 else (2 * precision * recall) / (precision + recall)\n",
        "        topks.append(topk)\n",
        "        precisions.append(precision)\n",
        "        recalls.append(recall)\n",
        "        f1s.append(f1)\n",
        "        # print(res_label[:topk], precision, recall)\n",
        "    return Stats(threshold, np.mean(topks), np.mean(precisions), np.mean(recalls), np.mean(f1s))\n",
        "    # print(\"Threshold:\", threshold)\n",
        "    # print(\"Average number of labels:\", np.mean(topks))\n",
        "    # print(\"Average precision:\", np.mean(precisions))\n",
        "    # print(\"Average recall:\", np.mean(recalls))\n",
        "    # print(\"Average F1 score:\", np.mean(f1s))"
      ],
      "outputs": [],
      "metadata": {
        "id": "aRDUUuq0He4J"
      }
    },
    {
      "cell_type": "code",
      "execution_count": null,
      "source": [
        "thresholds = list(x / 1000 for x in range(1, 10)) + \\\n",
        "    list(x / 100 for x in range(1, 10)) + \\\n",
        "    list(x / 20 for x in range(2, 19)) + \\\n",
        "    list((90 + x) / 100 for x in range(1, 10)) + \\\n",
        "    list((990 + x) / 1000 for x in range(1, 10))\n",
        "\n",
        "ps = []\n",
        "rs = []\n",
        "ts = []\n",
        "f1s = []\n",
        "topks = []\n",
        "for threshold in tqdm(thresholds):\n",
        "    stats = compute_stats(threshold, res_labels, res_scores, test_labels)\n",
        "    ps.append(stats.precision)\n",
        "    rs.append(stats.recall)\n",
        "    ts.append(threshold)\n",
        "    f1s.append(stats.f1)\n",
        "    topks.append(stats.topk)"
      ],
      "outputs": [
        {
          "output_type": "stream",
          "name": "stderr",
          "text": [
            "100%|██████████| 53/53 [00:00<00:00, 104.86it/s]\n"
          ]
        }
      ],
      "metadata": {
        "colab": {
          "base_uri": "https://localhost:8080/"
        },
        "id": "rANVN0wsICEf",
        "outputId": "6b6bb445-70bb-4d0e-9d64-5876eeaead32"
      }
    },
    {
      "cell_type": "markdown",
      "source": [
        "## Make plots\n",
        "\n",
        "In this section we make the following plots to assess the performance of the model.\n",
        "\n",
        "- Precision-recall curve\n",
        "- Precision, recall, and F1 Score by varying threshold\n",
        "- Number of labels predicted by varying threshold"
      ],
      "metadata": {
        "id": "o-N4AQn6Lrno"
      }
    },
    {
      "cell_type": "code",
      "execution_count": null,
      "source": [
        "plt.plot(ps, rs, linestyle='-')\n",
        "plt.grid()\n",
        "plt.title(f'Precision-Recall Curve for {MODEL} on {DATASET}, varying threshold')\n",
        "plt.xlabel('Recall')\n",
        "plt.xlim(0, 1)\n",
        "plt.ylabel('Precision')\n",
        "plt.ylim(0, 1)"
      ],
      "outputs": [
        {
          "output_type": "execute_result",
          "data": {
            "text/plain": [
              "(0.0, 1.0)"
            ]
          },
          "metadata": {
            "tags": []
          },
          "execution_count": 31
        },
        {
          "output_type": "display_data",
          "data": {
            "text/plain": [
              "<Figure size 432x288 with 1 Axes>"
            ],
            "image/png": "[encoded data removed]"
          },
          "metadata": {
            "tags": [],
            "needs_background": "light"
          }
        }
      ],
      "metadata": {
        "colab": {
          "base_uri": "https://localhost:8080/",
          "height": 312
        },
        "id": "NSK_2VXUJOS-",
        "outputId": "de5b65fb-171d-4fd0-dfb1-f269d83122f7"
      }
    },
    {
      "cell_type": "code",
      "execution_count": null,
      "source": [
        "plt.grid()\n",
        "plt.title(f'Precision, Recall, and F1 Score by Threshold for {MODEL} on {DATASET}')\n",
        "plt.plot(ts, ps, linestyle='-', label='Precision')\n",
        "plt.plot(ts, rs, linestyle='-', label='Recall')\n",
        "plt.plot(ts, f1s, linestyle='-', label='F1 score')\n",
        "plt.xlabel('Threshold')\n",
        "plt.xlim(0, 1)\n",
        "plt.ylabel('Metrics')\n",
        "plt.ylim(0, 1)\n",
        "plt.legend()"
      ],
      "outputs": [
        {
          "output_type": "execute_result",
          "data": {
            "text/plain": [
              "<matplotlib.legend.Legend at 0x7f09754a0f10>"
            ]
          },
          "metadata": {
            "tags": []
          },
          "execution_count": 32
        },
        {
          "output_type": "display_data",
          "data": {
            "text/plain": [
              "<Figure size 432x288 with 1 Axes>"
            ],
            "image/png": "[encoded data removed]"
          },
          "metadata": {
            "tags": [],
            "needs_background": "light"
          }
        }
      ],
      "metadata": {
        "colab": {
          "base_uri": "https://localhost:8080/",
          "height": 312
        },
        "id": "BTqOnhJrJz6J",
        "outputId": "d2ec5129-182d-4e00-ef79-153c581ec6f5"
      }
    },
    {
      "cell_type": "code",
      "execution_count": null,
      "source": [
        "plt.grid()\n",
        "plt.title(f'Number of Labels Predicted by Threshold for {MODEL} on {DATASET}')\n",
        "plt.plot(ts, topks, linestyle='-', label='Precision')\n",
        "plt.xlabel('Threshold')\n",
        "plt.xlim(0, 1)\n",
        "plt.ylabel('Labels')\n",
        "plt.legend()"
      ],
      "outputs": [
        {
          "output_type": "execute_result",
          "data": {
            "text/plain": [
              "<matplotlib.legend.Legend at 0x7f0975287b90>"
            ]
          },
          "metadata": {
            "tags": []
          },
          "execution_count": 33
        },
        {
          "output_type": "display_data",
          "data": {
            "text/plain": [
              "<Figure size 432x288 with 1 Axes>"
            ],
            "image/png": "[encoded data removed]"
          },
          "metadata": {
            "tags": [],
            "needs_background": "light"
          }
        }
      ],
      "metadata": {
        "colab": {
          "base_uri": "https://localhost:8080/",
          "height": 312
        },
        "id": "oeLBGJZWKS1s",
        "outputId": "1e29a2c4-a0da-4979-d5ef-9369c19125bf"
      }
    }
  ]
}